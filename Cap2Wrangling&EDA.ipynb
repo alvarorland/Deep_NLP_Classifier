{
 "cells": [
  {
   "cell_type": "markdown",
   "id": "after-habitat",
   "metadata": {},
   "source": [
    "##  Contents<a id='Contents'></a>\n",
    "* [Exploratory Data Analysis](#Exploratory_Data_Analysis)\n",
    "  * [Introduction](#Introduction)\n",
    "  * [Imports](#Imports)\n",
    "  * [Load The Data](#Load_The_Data)\n",
    "  * [Explore The Data](#Explore_The_Data)\n",
    "  * [Visualizing Data](#Visualizing_Data)\n",
    "      * [Word Frequency Analysis](#_Word_Frequency_Analysis)\n",
    "      * [Sentence Length Analysis](#_Sentence_Length_Analysis)\n",
    "      * [Average Word Length Analysis](#_Average_Word_Length_Analysis)\n",
    "  * [Most Common Words](#_Most_Common_Words_)\n",
    "  * [Pentagrams](#Pentagrams)\n",
    "  * [Tokenization and Lemmatization](#_Tokenization_and_Lemmatization)\n",
    "  * [Summary](#_Summary)"
   ]
  },
  {
   "cell_type": "markdown",
   "id": "given-artwork",
   "metadata": {},
   "source": [
    "## Introduction<a id='Introduction'></a>"
   ]
  },
  {
   "cell_type": "markdown",
   "id": "fabulous-checkout",
   "metadata": {},
   "source": [
    "Natural language processing (NLP) is a subfield of linguistics, computer science, and artificial intelligence concerned with the interactions between computers and human language, in particular how to program computers to process and analyze large amounts of natural language data. The result is a computer capable of \"understanding\" the contents of documents, including the contextual nuances of the language within them. The technology can then accurately extract information and insights contained in the documents as well as categorize and organize the documents themselves."
   ]
  },
  {
   "cell_type": "markdown",
   "id": "coastal-thinking",
   "metadata": {},
   "source": [
    "Sheet1.csv contains 80 user responses to a therapy chatbot. The prompt for the bot is: 'Describe a time when you have acted as a resource for someone else'. The user response is stored in the response_text column. If a response is 'not flagged', the user can continue talking to the bot. If it is 'flagged', the user is referred to help.\n",
    "\n",
    "Sheet2.csv contains 125 data science resumes, stored in the resume_text column. Resumes were queried from Indeed.com with keyword 'data scientist', location 'Vermont'. If a resume is 'not flagged', the applicant can submit a modified resume version at a later date. If it is 'flagged', the applicant is invited to interview."
   ]
  },
  {
   "cell_type": "markdown",
   "id": "regular-maintenance",
   "metadata": {},
   "source": [
    "The purpose of this project is to identify the variables behind flagged therapy chatbot responses and flagged resume submissions. Flagged chatbot responses result in referring the user to professional mental health help and flagged resumes are invited to interview. "
   ]
  },
  {
   "cell_type": "markdown",
   "id": "floating-burton",
   "metadata": {},
   "source": [
    "The purpose of the chatbot is to provide both an avenue for users to vent their feelings and to refer them to professional help. An incompetent classification system could result in emotional isolation and needless user suffering. The classification of the resumes for a ‘data scientist’ role is not as high stakes. This process can be thought of as ‘separating the wheat from the chaff’. Strong resumes are flagged and invited to interview."
   ]
  },
  {
   "cell_type": "markdown",
   "id": "twenty-tower",
   "metadata": {},
   "source": [
    "## Imports<a id='Imports'></a>"
   ]
  },
  {
   "cell_type": "code",
   "execution_count": 1,
   "id": "prime-jewel",
   "metadata": {},
   "outputs": [],
   "source": [
    "import numpy as np \n",
    "import pandas as pd \n",
    "import os"
   ]
  },
  {
   "cell_type": "code",
   "execution_count": 2,
   "id": "adopted-drove",
   "metadata": {},
   "outputs": [],
   "source": [
    "os.chdir(r'C:\\Users\\daenj\\OneDrive\\Desktop\\Datasets\\Capstone 2 2021')"
   ]
  },
  {
   "cell_type": "markdown",
   "id": "fiscal-transportation",
   "metadata": {},
   "source": [
    "## Load the Data<a id='Load_the_Data'></a>"
   ]
  },
  {
   "cell_type": "code",
   "execution_count": 3,
   "id": "residential-sweet",
   "metadata": {},
   "outputs": [
    {
     "data": {
      "text/html": [
       "<div>\n",
       "<style scoped>\n",
       "    .dataframe tbody tr th:only-of-type {\n",
       "        vertical-align: middle;\n",
       "    }\n",
       "\n",
       "    .dataframe tbody tr th {\n",
       "        vertical-align: top;\n",
       "    }\n",
       "\n",
       "    .dataframe thead th {\n",
       "        text-align: right;\n",
       "    }\n",
       "</style>\n",
       "<table border=\"1\" class=\"dataframe\">\n",
       "  <thead>\n",
       "    <tr style=\"text-align: right;\">\n",
       "      <th></th>\n",
       "      <th>response_id</th>\n",
       "      <th>class</th>\n",
       "      <th>response_text</th>\n",
       "    </tr>\n",
       "  </thead>\n",
       "  <tbody>\n",
       "    <tr>\n",
       "      <th>0</th>\n",
       "      <td>response_1</td>\n",
       "      <td>not_flagged</td>\n",
       "      <td>I try and avoid this sort of conflict</td>\n",
       "    </tr>\n",
       "    <tr>\n",
       "      <th>1</th>\n",
       "      <td>response_2</td>\n",
       "      <td>flagged</td>\n",
       "      <td>Had a friend open up to me about his mental ad...</td>\n",
       "    </tr>\n",
       "    <tr>\n",
       "      <th>2</th>\n",
       "      <td>response_3</td>\n",
       "      <td>flagged</td>\n",
       "      <td>I saved a girl from suicide once. She was goin...</td>\n",
       "    </tr>\n",
       "    <tr>\n",
       "      <th>3</th>\n",
       "      <td>response_4</td>\n",
       "      <td>not_flagged</td>\n",
       "      <td>i cant think of one really...i think i may hav...</td>\n",
       "    </tr>\n",
       "    <tr>\n",
       "      <th>4</th>\n",
       "      <td>response_5</td>\n",
       "      <td>not_flagged</td>\n",
       "      <td>Only really one friend who doesn't fit into th...</td>\n",
       "    </tr>\n",
       "  </tbody>\n",
       "</table>\n",
       "</div>"
      ],
      "text/plain": [
       "  response_id        class                                      response_text\n",
       "0  response_1  not_flagged              I try and avoid this sort of conflict\n",
       "1  response_2      flagged  Had a friend open up to me about his mental ad...\n",
       "2  response_3      flagged  I saved a girl from suicide once. She was goin...\n",
       "3  response_4  not_flagged  i cant think of one really...i think i may hav...\n",
       "4  response_5  not_flagged  Only really one friend who doesn't fit into th..."
      ]
     },
     "execution_count": 3,
     "metadata": {},
     "output_type": "execute_result"
    }
   ],
   "source": [
    "df = pd.read_csv('Sheet_1.csv', encoding='latin-1')\n",
    "\n",
    "\n",
    "df = df.drop([\"Unnamed: 3\", \"Unnamed: 4\", \"Unnamed: 5\", \"Unnamed: 6\",\"Unnamed: 7\"], axis = 1)\n",
    "df = df.rename(columns={\"v1\":\"class\", \"v2\":\"Responses\"})\n",
    "\n",
    "df.head()"
   ]
  },
  {
   "cell_type": "code",
   "execution_count": 4,
   "id": "extraordinary-volleyball",
   "metadata": {},
   "outputs": [
    {
     "data": {
      "text/plain": [
       "not_flagged    55\n",
       "flagged        25\n",
       "Name: class, dtype: int64"
      ]
     },
     "execution_count": 4,
     "metadata": {},
     "output_type": "execute_result"
    }
   ],
   "source": [
    "df[\"class\"].value_counts()"
   ]
  },
  {
   "cell_type": "code",
   "execution_count": 5,
   "id": "obvious-sewing",
   "metadata": {},
   "outputs": [
    {
     "data": {
      "text/html": [
       "<div>\n",
       "<style scoped>\n",
       "    .dataframe tbody tr th:only-of-type {\n",
       "        vertical-align: middle;\n",
       "    }\n",
       "\n",
       "    .dataframe tbody tr th {\n",
       "        vertical-align: top;\n",
       "    }\n",
       "\n",
       "    .dataframe thead th {\n",
       "        text-align: right;\n",
       "    }\n",
       "</style>\n",
       "<table border=\"1\" class=\"dataframe\">\n",
       "  <thead>\n",
       "    <tr style=\"text-align: right;\">\n",
       "      <th></th>\n",
       "      <th>response_id</th>\n",
       "      <th>class</th>\n",
       "      <th>response_text</th>\n",
       "    </tr>\n",
       "  </thead>\n",
       "  <tbody>\n",
       "    <tr>\n",
       "      <th>count</th>\n",
       "      <td>80</td>\n",
       "      <td>80</td>\n",
       "      <td>80</td>\n",
       "    </tr>\n",
       "    <tr>\n",
       "      <th>unique</th>\n",
       "      <td>80</td>\n",
       "      <td>2</td>\n",
       "      <td>80</td>\n",
       "    </tr>\n",
       "    <tr>\n",
       "      <th>top</th>\n",
       "      <td>response_24</td>\n",
       "      <td>not_flagged</td>\n",
       "      <td>Sometimes my friends bring up issues they are ...</td>\n",
       "    </tr>\n",
       "    <tr>\n",
       "      <th>freq</th>\n",
       "      <td>1</td>\n",
       "      <td>55</td>\n",
       "      <td>1</td>\n",
       "    </tr>\n",
       "  </tbody>\n",
       "</table>\n",
       "</div>"
      ],
      "text/plain": [
       "        response_id        class  \\\n",
       "count            80           80   \n",
       "unique           80            2   \n",
       "top     response_24  not_flagged   \n",
       "freq              1           55   \n",
       "\n",
       "                                            response_text  \n",
       "count                                                  80  \n",
       "unique                                                 80  \n",
       "top     Sometimes my friends bring up issues they are ...  \n",
       "freq                                                    1  "
      ]
     },
     "execution_count": 5,
     "metadata": {},
     "output_type": "execute_result"
    }
   ],
   "source": [
    "df.describe()"
   ]
  },
  {
   "cell_type": "code",
   "execution_count": 6,
   "id": "worst-entrance",
   "metadata": {},
   "outputs": [
    {
     "data": {
      "text/html": [
       "<div>\n",
       "<style scoped>\n",
       "    .dataframe tbody tr th:only-of-type {\n",
       "        vertical-align: middle;\n",
       "    }\n",
       "\n",
       "    .dataframe tbody tr th {\n",
       "        vertical-align: top;\n",
       "    }\n",
       "\n",
       "    .dataframe thead th {\n",
       "        text-align: right;\n",
       "    }\n",
       "</style>\n",
       "<table border=\"1\" class=\"dataframe\">\n",
       "  <thead>\n",
       "    <tr style=\"text-align: right;\">\n",
       "      <th></th>\n",
       "      <th>resume_id</th>\n",
       "      <th>class</th>\n",
       "      <th>resume_text</th>\n",
       "    </tr>\n",
       "  </thead>\n",
       "  <tbody>\n",
       "    <tr>\n",
       "      <th>0</th>\n",
       "      <td>resume_1</td>\n",
       "      <td>not_flagged</td>\n",
       "      <td>\\rCustomer Service Supervisor/Tier - Isabella ...</td>\n",
       "    </tr>\n",
       "    <tr>\n",
       "      <th>1</th>\n",
       "      <td>resume_2</td>\n",
       "      <td>not_flagged</td>\n",
       "      <td>\\rEngineer / Scientist - IBM Microelectronics ...</td>\n",
       "    </tr>\n",
       "    <tr>\n",
       "      <th>2</th>\n",
       "      <td>resume_3</td>\n",
       "      <td>not_flagged</td>\n",
       "      <td>\\rLTS Software Engineer Computational Lithogra...</td>\n",
       "    </tr>\n",
       "    <tr>\n",
       "      <th>3</th>\n",
       "      <td>resume_4</td>\n",
       "      <td>not_flagged</td>\n",
       "      <td>TUTOR\\rWilliston VT - Email me on Indeed: ind...</td>\n",
       "    </tr>\n",
       "    <tr>\n",
       "      <th>4</th>\n",
       "      <td>resume_5</td>\n",
       "      <td>flagged</td>\n",
       "      <td>\\rIndependent Consultant - Self-employed\\rBurl...</td>\n",
       "    </tr>\n",
       "  </tbody>\n",
       "</table>\n",
       "</div>"
      ],
      "text/plain": [
       "  resume_id        class                                        resume_text\n",
       "0  resume_1  not_flagged  \\rCustomer Service Supervisor/Tier - Isabella ...\n",
       "1  resume_2  not_flagged  \\rEngineer / Scientist - IBM Microelectronics ...\n",
       "2  resume_3  not_flagged  \\rLTS Software Engineer Computational Lithogra...\n",
       "3  resume_4  not_flagged   TUTOR\\rWilliston VT - Email me on Indeed: ind...\n",
       "4  resume_5      flagged  \\rIndependent Consultant - Self-employed\\rBurl..."
      ]
     },
     "execution_count": 6,
     "metadata": {},
     "output_type": "execute_result"
    }
   ],
   "source": [
    "df2 = pd.read_csv('Sheet_2.csv', encoding='latin-1')\n",
    "\n",
    "df2 = df2.rename(columns={\"v1\":\"class\", \"v2\":\"Resumes\"})\n",
    "\n",
    "df2.head()"
   ]
  },
  {
   "cell_type": "code",
   "execution_count": 7,
   "id": "consolidated-guide",
   "metadata": {},
   "outputs": [
    {
     "data": {
      "text/plain": [
       "not_flagged    92\n",
       "flagged        33\n",
       "Name: class, dtype: int64"
      ]
     },
     "execution_count": 7,
     "metadata": {},
     "output_type": "execute_result"
    }
   ],
   "source": [
    "df2[\"class\"].value_counts()"
   ]
  },
  {
   "cell_type": "code",
   "execution_count": 8,
   "id": "arabic-closer",
   "metadata": {},
   "outputs": [
    {
     "data": {
      "text/html": [
       "<div>\n",
       "<style scoped>\n",
       "    .dataframe tbody tr th:only-of-type {\n",
       "        vertical-align: middle;\n",
       "    }\n",
       "\n",
       "    .dataframe tbody tr th {\n",
       "        vertical-align: top;\n",
       "    }\n",
       "\n",
       "    .dataframe thead th {\n",
       "        text-align: right;\n",
       "    }\n",
       "</style>\n",
       "<table border=\"1\" class=\"dataframe\">\n",
       "  <thead>\n",
       "    <tr style=\"text-align: right;\">\n",
       "      <th></th>\n",
       "      <th>resume_id</th>\n",
       "      <th>class</th>\n",
       "      <th>resume_text</th>\n",
       "    </tr>\n",
       "  </thead>\n",
       "  <tbody>\n",
       "    <tr>\n",
       "      <th>count</th>\n",
       "      <td>125</td>\n",
       "      <td>125</td>\n",
       "      <td>125</td>\n",
       "    </tr>\n",
       "    <tr>\n",
       "      <th>unique</th>\n",
       "      <td>125</td>\n",
       "      <td>2</td>\n",
       "      <td>125</td>\n",
       "    </tr>\n",
       "    <tr>\n",
       "      <th>top</th>\n",
       "      <td>resume_43</td>\n",
       "      <td>not_flagged</td>\n",
       "      <td>\\rBrattleboro VT - Email me on Indeed: indeed....</td>\n",
       "    </tr>\n",
       "    <tr>\n",
       "      <th>freq</th>\n",
       "      <td>1</td>\n",
       "      <td>92</td>\n",
       "      <td>1</td>\n",
       "    </tr>\n",
       "  </tbody>\n",
       "</table>\n",
       "</div>"
      ],
      "text/plain": [
       "        resume_id        class  \\\n",
       "count         125          125   \n",
       "unique        125            2   \n",
       "top     resume_43  not_flagged   \n",
       "freq            1           92   \n",
       "\n",
       "                                              resume_text  \n",
       "count                                                 125  \n",
       "unique                                                125  \n",
       "top     \\rBrattleboro VT - Email me on Indeed: indeed....  \n",
       "freq                                                    1  "
      ]
     },
     "execution_count": 8,
     "metadata": {},
     "output_type": "execute_result"
    }
   ],
   "source": [
    "df2.describe()"
   ]
  },
  {
   "cell_type": "markdown",
   "id": "animated-intro",
   "metadata": {},
   "source": [
    "There are no missing values in either dataset. Let's move on to EDA."
   ]
  },
  {
   "cell_type": "markdown",
   "id": "collaborative-davis",
   "metadata": {},
   "source": [
    "## Explore the Data<a id='Explore_the_Data'></a>"
   ]
  },
  {
   "cell_type": "code",
   "execution_count": 9,
   "id": "characteristic-backing",
   "metadata": {},
   "outputs": [
    {
     "data": {
      "image/png": "[encoded data removed]",
      "text/plain": [
       "<Figure size 432x288 with 1 Axes>"
      ]
     },
     "metadata": {
      "needs_background": "light"
     },
     "output_type": "display_data"
    }
   ],
   "source": [
    "## Bag of response words\n",
    "\n",
    "from wordcloud import WordCloud, STOPWORDS\n",
    "import matplotlib.pyplot as plt\n",
    "\n",
    "def wordcloud(dataframe):\n",
    "    stopwords = set(STOPWORDS)\n",
    "    wordcloud = WordCloud(background_color=\"white\",stopwords=stopwords).generate(\" \".join([i for i in dataframe.str.upper()]))\n",
    "    plt.imshow(wordcloud)\n",
    "    plt.axis(\"off\")\n",
    "    plt.title(\"bag_composition\")\n",
    "\n",
    "wordcloud(df['response_text'])"
   ]
  },
  {
   "cell_type": "markdown",
   "id": "specific-radical",
   "metadata": {},
   "source": [
    "The most popular words in chatbot responses are 'friend', 'people',  and 'helped'. "
   ]
  },
  {
   "cell_type": "code",
   "execution_count": 10,
   "id": "polished-archives",
   "metadata": {},
   "outputs": [
    {
     "data": {
      "image/png": "[encoded data removed]",
      "text/plain": [
       "<Figure size 432x288 with 1 Axes>"
      ]
     },
     "metadata": {
      "needs_background": "light"
     },
     "output_type": "display_data"
    }
   ],
   "source": [
    "# Bag of resume words\n",
    "\n",
    "wordcloud(df2['resume_text'])  "
   ]
  },
  {
   "cell_type": "markdown",
   "id": "precise-ukraine",
   "metadata": {},
   "source": [
    "The most popular words in the data science resumes are 'research', 'data', and 'development'."
   ]
  },
  {
   "cell_type": "markdown",
   "id": "committed-equivalent",
   "metadata": {},
   "source": [
    "## Visualizing Data<a id='Visualizing_Data'></a>"
   ]
  },
  {
   "cell_type": "markdown",
   "id": "scenic-trick",
   "metadata": {},
   "source": [
    "## Word Frequency Analysis<a id='_Word_Frequency_Analysis'></a>"
   ]
  },
  {
   "cell_type": "code",
   "execution_count": 11,
   "id": "naval-turner",
   "metadata": {},
   "outputs": [],
   "source": [
    "import matplotlib.pyplot as plt\n",
    "import seaborn as sns\n",
    "from collections import Counter\n",
    "from sklearn.decomposition import PCA\n",
    "from sklearn.preprocessing import scale\n",
    "pd.set_option('display.max_columns', 100)"
   ]
  },
  {
   "cell_type": "code",
   "execution_count": 12,
   "id": "stuffed-budget",
   "metadata": {},
   "outputs": [
    {
     "data": {
      "text/plain": [
       "Text(0, 0.5, 'Count')"
      ]
     },
     "execution_count": 12,
     "metadata": {},
     "output_type": "execute_result"
    },
    {
     "data": {
      "image/png": "[encoded data removed]",
      "text/plain": [
       "<Figure size 432x288 with 1 Axes>"
      ]
     },
     "metadata": {
      "needs_background": "light"
     },
     "output_type": "display_data"
    }
   ],
   "source": [
    "df['response_text'].str.len().hist()\n",
    "plt.title('Word Frequency Analysis in Responses')\n",
    "plt.xlabel('Number of Characters')\n",
    "plt.ylabel('Count')"
   ]
  },
  {
   "cell_type": "markdown",
   "id": "hazardous-banks",
   "metadata": {},
   "source": [
    "Most responses contain less than 200 words. There is one case where the response was greater than 1400 words."
   ]
  },
  {
   "cell_type": "code",
   "execution_count": 13,
   "id": "concrete-difference",
   "metadata": {},
   "outputs": [
    {
     "data": {
      "text/plain": [
       "Text(0, 0.5, 'Count')"
      ]
     },
     "execution_count": 13,
     "metadata": {},
     "output_type": "execute_result"
    },
    {
     "data": {
      "image/png": "[encoded data removed]",
      "text/plain": [
       "<Figure size 432x288 with 1 Axes>"
      ]
     },
     "metadata": {
      "needs_background": "light"
     },
     "output_type": "display_data"
    }
   ],
   "source": [
    "df2['resume_text'].str.len().hist()\n",
    "plt.title('Word Frequency Analysis in Resumes')\n",
    "plt.xlabel('Number of Characters')\n",
    "plt.ylabel('Count')"
   ]
  },
  {
   "cell_type": "markdown",
   "id": "blind-cleveland",
   "metadata": {},
   "source": [
    "Most resumes contain around 5000 words. There is one outlier with almost 17500 words!"
   ]
  },
  {
   "cell_type": "markdown",
   "id": "german-bacteria",
   "metadata": {},
   "source": [
    "## Sentence Length Analysis<a id='_Sentence_Length_Analysis'></a>"
   ]
  },
  {
   "cell_type": "code",
   "execution_count": 14,
   "id": "strategic-regression",
   "metadata": {},
   "outputs": [
    {
     "data": {
      "text/plain": [
       "Text(0, 0.5, 'Count')"
      ]
     },
     "execution_count": 14,
     "metadata": {},
     "output_type": "execute_result"
    },
    {
     "data": {
      "image/png": "[encoded data removed]",
      "text/plain": [
       "<Figure size 432x288 with 1 Axes>"
      ]
     },
     "metadata": {
      "needs_background": "light"
     },
     "output_type": "display_data"
    }
   ],
   "source": [
    "df['response_text'].str.split().\\\n",
    "    map(lambda x: len(x)).\\\n",
    "    hist()\n",
    "plt.title('Sentence Length Analysis')\n",
    "plt.xlabel('Number of Words In Responses')\n",
    "plt.ylabel('Count')"
   ]
  },
  {
   "cell_type": "markdown",
   "id": "cathedral-austin",
   "metadata": {},
   "source": [
    "Most chatbot responses contain around 25 words."
   ]
  },
  {
   "cell_type": "code",
   "execution_count": 15,
   "id": "pharmaceutical-novelty",
   "metadata": {},
   "outputs": [
    {
     "data": {
      "text/plain": [
       "Text(0, 0.5, 'Count')"
      ]
     },
     "execution_count": 15,
     "metadata": {},
     "output_type": "execute_result"
    },
    {
     "data": {
      "image/png": "[encoded data removed]",
      "text/plain": [
       "<Figure size 432x288 with 1 Axes>"
      ]
     },
     "metadata": {
      "needs_background": "light"
     },
     "output_type": "display_data"
    }
   ],
   "source": [
    "df2['resume_text'].str.split().\\\n",
    "    map(lambda x: len(x)).\\\n",
    "    hist()\n",
    "plt.title('Sentence Length Analysis')\n",
    "plt.xlabel('Number of Words In Resumes')\n",
    "plt.ylabel('Count')"
   ]
  },
  {
   "cell_type": "markdown",
   "id": "opened-strand",
   "metadata": {},
   "source": [
    "Most resumes contain around 500 - 750 words."
   ]
  },
  {
   "cell_type": "markdown",
   "id": "controlled-dallas",
   "metadata": {},
   "source": [
    "## Average Word Length Analysis<a id='_Average_Word_Length_Analysis'></a>"
   ]
  },
  {
   "cell_type": "code",
   "execution_count": 16,
   "id": "floral-inspector",
   "metadata": {},
   "outputs": [
    {
     "data": {
      "text/plain": [
       "Text(0, 0.5, 'Count')"
      ]
     },
     "execution_count": 16,
     "metadata": {},
     "output_type": "execute_result"
    },
    {
     "data": {
      "image/png": "[encoded data removed]",
      "text/plain": [
       "<Figure size 432x288 with 1 Axes>"
      ]
     },
     "metadata": {
      "needs_background": "light"
     },
     "output_type": "display_data"
    }
   ],
   "source": [
    "df['response_text'].str.split().\\\n",
    "   apply(lambda x : [len(i) for i in x]). \\\n",
    "   map(lambda x: np.mean(x)).hist()\n",
    "plt.title('Average Word Length Analysis')\n",
    "plt.xlabel('Average Number of Letters In Responses')\n",
    "plt.ylabel('Count')"
   ]
  },
  {
   "cell_type": "markdown",
   "id": "eligible-citizen",
   "metadata": {},
   "source": [
    "The average word in chatbot responses contain 4 letters. These 4 letter words occured most frequently."
   ]
  },
  {
   "cell_type": "code",
   "execution_count": 17,
   "id": "bigger-basin",
   "metadata": {},
   "outputs": [
    {
     "data": {
      "text/plain": [
       "Text(0, 0.5, 'Count')"
      ]
     },
     "execution_count": 17,
     "metadata": {},
     "output_type": "execute_result"
    },
    {
     "data": {
      "image/png": "[encoded data removed]",
      "text/plain": [
       "<Figure size 432x288 with 1 Axes>"
      ]
     },
     "metadata": {
      "needs_background": "light"
     },
     "output_type": "display_data"
    }
   ],
   "source": [
    "df2['resume_text'].str.split().\\\n",
    "   apply(lambda x : [len(i) for i in x]). \\\n",
    "   map(lambda x: np.mean(x)).hist()\n",
    "plt.title('Average Word Length Analysis')\n",
    "plt.xlabel('Average Number of Letters In Responses')\n",
    "plt.ylabel('Count')"
   ]
  },
  {
   "cell_type": "markdown",
   "id": "bulgarian-importance",
   "metadata": {},
   "source": [
    "The average word length in the resume text contains 6 letters."
   ]
  },
  {
   "cell_type": "markdown",
   "id": "quarterly-afghanistan",
   "metadata": {},
   "source": [
    "## Most Common Words <a id='_Most_Common_Words'></a>"
   ]
  },
  {
   "cell_type": "code",
   "execution_count": 18,
   "id": "sustainable-language",
   "metadata": {},
   "outputs": [
    {
     "name": "stderr",
     "output_type": "stream",
     "text": [
      "[nltk_data] Downloading package punkt to\n",
      "[nltk_data]     C:\\Users\\daenj\\AppData\\Roaming\\nltk_data...\n",
      "[nltk_data]   Package punkt is already up-to-date!\n",
      "[nltk_data] Downloading package wordnet to\n",
      "[nltk_data]     C:\\Users\\daenj\\AppData\\Roaming\\nltk_data...\n",
      "[nltk_data]   Package wordnet is already up-to-date!\n"
     ]
    }
   ],
   "source": [
    "import nltk\n",
    "nltk.download('punkt')\n",
    "nltk.download('wordnet')\n",
    "stop_words = nltk.corpus.stopwords.words(\"english\")\n",
    "stopwords = set(stop_words)"
   ]
  },
  {
   "cell_type": "code",
   "execution_count": 19,
   "id": "formal-bumper",
   "metadata": {},
   "outputs": [],
   "source": [
    "corpus=[]\n",
    "new= df['response_text'].str.split()\n",
    "new=new.values.tolist()\n",
    "corpus=[word for i in new for word in i]"
   ]
  },
  {
   "cell_type": "code",
   "execution_count": 20,
   "id": "configured-suicide",
   "metadata": {},
   "outputs": [
    {
     "data": {
      "text/plain": [
       "<matplotlib.axes._subplots.AxesSubplot at 0x22648f838e0>"
      ]
     },
     "execution_count": 20,
     "metadata": {},
     "output_type": "execute_result"
    },
    {
     "data": {
      "image/png": "[encoded data removed]",
      "text/plain": [
       "<Figure size 432x288 with 1 Axes>"
      ]
     },
     "metadata": {
      "needs_background": "light"
     },
     "output_type": "display_data"
    }
   ],
   "source": [
    "counter=Counter(corpus)\n",
    "most=counter.most_common()\n",
    "\n",
    "x, y= [], []\n",
    "for word,count in most[:30]:\n",
    "    if (word not in stopwords):\n",
    "        x.append(word)\n",
    "        y.append(count)\n",
    "        \n",
    "sns.barplot(x=y,y=x)"
   ]
  },
  {
   "cell_type": "markdown",
   "id": "toxic-batch",
   "metadata": {},
   "source": [
    "These are the most common words in chatbot responses."
   ]
  },
  {
   "cell_type": "code",
   "execution_count": 21,
   "id": "painful-flight",
   "metadata": {},
   "outputs": [],
   "source": [
    "corpus=[]\n",
    "new= df2[\"resume_text\"].str.split()\n",
    "new=new.values.tolist()\n",
    "corpus=[word for i in new for word in i]"
   ]
  },
  {
   "cell_type": "code",
   "execution_count": 22,
   "id": "cognitive-frame",
   "metadata": {},
   "outputs": [
    {
     "data": {
      "text/plain": [
       "<matplotlib.axes._subplots.AxesSubplot at 0x22647be3ac0>"
      ]
     },
     "execution_count": 22,
     "metadata": {},
     "output_type": "execute_result"
    },
    {
     "name": "stderr",
     "output_type": "stream",
     "text": [
      "C:\\Users\\daenj\\anaconda3\\lib\\site-packages\\matplotlib\\backends\\backend_agg.py:214: RuntimeWarning: Glyph 138 missing from current font.\n",
      "  font.set_text(s, 0.0, flags=flags)\n",
      "C:\\Users\\daenj\\anaconda3\\lib\\site-packages\\matplotlib\\backends\\backend_agg.py:214: RuntimeWarning: Glyph 151 missing from current font.\n",
      "  font.set_text(s, 0.0, flags=flags)\n",
      "C:\\Users\\daenj\\anaconda3\\lib\\site-packages\\matplotlib\\backends\\backend_agg.py:183: RuntimeWarning: Glyph 138 missing from current font.\n",
      "  font.set_text(s, 0, flags=flags)\n",
      "C:\\Users\\daenj\\anaconda3\\lib\\site-packages\\matplotlib\\backends\\backend_agg.py:183: RuntimeWarning: Glyph 151 missing from current font.\n",
      "  font.set_text(s, 0, flags=flags)\n"
     ]
    },
    {
     "data": {
      "image/png": "[encoded data removed]",
      "text/plain": [
       "<Figure size 432x288 with 1 Axes>"
      ]
     },
     "metadata": {
      "needs_background": "light"
     },
     "output_type": "display_data"
    }
   ],
   "source": [
    "counter=Counter(corpus)\n",
    "most=counter.most_common()\n",
    "\n",
    "x, y= [], []\n",
    "for word,count in most[:30]:\n",
    "    if (word not in stopwords):\n",
    "        x.append(word)\n",
    "        y.append(count)\n",
    "        \n",
    "sns.barplot(x=y,y=x)"
   ]
  },
  {
   "cell_type": "markdown",
   "id": "interpreted-singing",
   "metadata": {},
   "source": [
    "'VT', 'university', and 'data' are the three most common words in resumes."
   ]
  },
  {
   "cell_type": "markdown",
   "id": "modern-location",
   "metadata": {},
   "source": [
    "## Pentagrams<a id='Pentagrams'></a>"
   ]
  },
  {
   "cell_type": "code",
   "execution_count": 23,
   "id": "nuclear-subject",
   "metadata": {},
   "outputs": [],
   "source": [
    "from sklearn.feature_extraction.text import CountVectorizer\n",
    "from collections import  Counter\n",
    "\n",
    "def plot_top_ngrams_barchart(text, n=2):\n",
    "    \n",
    "\n",
    "    new= text.str.split()\n",
    "    new=new.values.tolist()\n",
    "    corpus=[word for i in new for word in i]\n",
    "\n",
    "    def _get_top_ngram(corpus, n=None):\n",
    "        vec = CountVectorizer(ngram_range=(n, n)).fit(corpus)\n",
    "        bag_of_words = vec.transform(corpus)\n",
    "        sum_words = bag_of_words.sum(axis=0) \n",
    "        words_freq = [(word, sum_words[0, idx]) \n",
    "                      for word, idx in vec.vocabulary_.items()]\n",
    "        words_freq =sorted(words_freq, key = lambda x: x[1], reverse=True)\n",
    "        return words_freq[:10]\n",
    "\n",
    "    top_n_bigrams=_get_top_ngram(text,n)[:10]\n",
    "    x,y=map(list,zip(*top_n_bigrams))\n",
    "    sns.barplot(x=y,y=x)"
   ]
  },
  {
   "cell_type": "code",
   "execution_count": 24,
   "id": "suited-stable",
   "metadata": {},
   "outputs": [
    {
     "data": {
      "image/png": "[encoded data removed]",
      "text/plain": [
       "<Figure size 432x288 with 1 Axes>"
      ]
     },
     "metadata": {
      "needs_background": "light"
     },
     "output_type": "display_data"
    }
   ],
   "source": [
    "plot_top_ngrams_barchart(df['response_text'],5)"
   ]
  },
  {
   "cell_type": "markdown",
   "id": "practical-requirement",
   "metadata": {},
   "source": [
    "The pentagrams for the chatbot responses paints a clear picture into how people responded to the prompt. Being there for someone and dealing with anxiety are the main themes."
   ]
  },
  {
   "cell_type": "code",
   "execution_count": 25,
   "id": "appropriate-niger",
   "metadata": {},
   "outputs": [
    {
     "data": {
      "image/png": "[encoded data removed]",
      "text/plain": [
       "<Figure size 432x288 with 1 Axes>"
      ]
     },
     "metadata": {
      "needs_background": "light"
     },
     "output_type": "display_data"
    }
   ],
   "source": [
    "plot_top_ngrams_barchart(df2['resume_text'],5)"
   ]
  },
  {
   "cell_type": "markdown",
   "id": "colored-billion",
   "metadata": {},
   "source": [
    "The resume pentagrams are identical. 5 word phrases in resumes pertain to working and invitations to email via indeed.com"
   ]
  },
  {
   "cell_type": "markdown",
   "id": "magnetic-proceeding",
   "metadata": {},
   "source": [
    "## Count Vectorizer<a id='Count Vectorizer'></a>"
   ]
  },
  {
   "cell_type": "code",
   "execution_count": 26,
   "id": "appreciated-minority",
   "metadata": {},
   "outputs": [
    {
     "name": "stdout",
     "output_type": "stream",
     "text": [
      "(80, 660)\n",
      "['1n', '50', 'able', 'about', 'above', 'absolutely', 'acquaintances', 'acted', 'actions', 'activity', 'addiction', 'adequate', 'admit', 'advice', 'advise', 'after', 'age', 'ago', 'agony', 'alcoholic', 'all', 'allowed', 'almost', 'alone', 'along', 'already', 'also', 'although', 'always', 'am', 'an', 'and', 'anniversary', 'another', 'answer', 'answers', 'anxiety', 'anxious', 'any', 'anyone', 'anything', 'anyway', 'apposed', 'are', 'aren', 'around', 'as', 'ask', 'asks', 'at', 'attention', 'aunt', 'avoid', 'away', 'back', 'bad', 'basically', 'be', 'because', 'bedroom', 'been', 'before', 'being', 'best', 'better', 'big', 'bit', 'blow', 'blows', 'blue', 'blunt', 'book', 'both', 'boyfriend', 'break', 'bring', 'brother', 'brought', 'bunch', 'but', 'by', 'call', 'called', 'calling', 'calls', 'calm', 'came', 'camp', 'camping', 'campsite', 'can', 'cancer', 'cant', 'car', 'care', 'caring', 'categories', 'caught', 'cause', 'chance', 'change', 'changed', 'chat', 'circumstances', 'clean', 'cleaning', 'cocaine', 'come', 'comes', 'comfort', 'comforted', 'commit', 'common', 'complete', 'completely', 'concern', 'confines', 'conflict', 'convinced', 'cope', 'cops', 'could', 'counselor', 'countless', 'couple', 'crazy', 'cutter', 'cutting', 'damn', 'dating', 'day', 'days', 'dealing', 'dealt', 'death', 'defined', 'depressed', 'depression', 'describe', 'describes', 'desire', 'diagnosed', 'dialog', 'did', 'didn', 'difficulties', 'disorder', 'doc', 'doesn', 'don', 'dont', 'douche', 'down', 'drag', 'drove', 'drugs', 'due', 'dumped', 'dumps', 'during', 'dying', 'ear', 'earlier', 'eight', 'either', 'else', 'email', 'emotional', 'encourage', 'end', 'ended', 'enough', 'entire', 'essential', 'esteem', 'even', 'eventually', 'ever', 'every', 'everyday', 'everything', 'ex', 'example', 'excited', 'experience', 'experiences', 'express', 'expressing', 'extremely', 'face', 'facebook', 'faced', 'facing', 'fact', 'fairly', 'family', 'father', 'feel', 'feeling', 'feelings', 'fell', 'felt', 'few', 'fight', 'find', 'first', 'fit', 'fixed', 'flickers', 'focus', 'for', 'found', 'friend', 'friends', 'from', 'frustrated', 'gave', 'ged', 'get', 'gf', 'girl', 'girlfriend', 'girlfriends', 'girls', 'give', 'giving', 'go', 'goal', 'going', 'gone', 'good', 'got', 'grade', 'grandmother', 'guess', 'guy', 'guys', 'had', 'hadnt', 'haha', 'half', 'hand', 'happens', 'hard', 'harmed', 'has', 'have', 'haven', 'having', 'he', 'head', 'healing', 'health', 'hear', 'heard', 'help', 'helped', 'helpful', 'helping', 'her', 'here', 'hesitate', 'high', 'him', 'himself', 'his', 'hits', 'hold', 'home', 'homeless', 'honest', 'hood', 'hopes', 'hoping', 'horrable', 'hospital', 'hour', 'house', 'how', 'huge', 'humans', 'hung', 'hurts', 'idk', 'if', 'important', 'in', 'indirectly', 'ing', 'initiated', 'innermost', 'input', 'inside', 'intense', 'internet', 'into', 'irl', 'is', 'isolated', 'issue', 'issues', 'it', 'its', 'jokingly', 'judge', 'junior', 'just', 'keep', 'kid', 'kids', 'kill', 'killed', 'kind', 'kindness', 'knew', 'know', 'knowledge', 'known', 'lack', 'last', 'late', 'laugh', 'least', 'lent', 'less', 'let', 'letting', 'level', 'life', 'light', 'like', 'lines', 'listen', 'listened', 'listener', 'listening', 'little', 'lives', 'living', 'll', 'logical', 'long', 'look', 'looked', 'losing', 'loss', 'lost', 'lot', 'loving', 'low', 'made', 'major', 'make', 'making', 'managed', 'many', 'may', 'maybe', 'me', 'memorial', 'men', 'mental', 'met', 'methods', 'might', 'mind', 'mine', 'mom', 'months', 'more', 'most', 'mother', 'mt', 'much', 'my', 'myself', 'nah', 'naturally', 'necessarily', 'need', 'needed', 'needs', 'nervous', 'never', 'nice', 'night', 'nights', 'no', 'nobody', 'normal', 'not', 'now', 'number', 'objective', 'obtain', 'occurrence', 'od', 'of', 'off', 'offer', 'offered', 'often', 'oh', 'ok', 'on', 'once', 'one', 'only', 'open', 'openness', 'or', 'other', 'others', 'our', 'out', 'over', 'overcome', 'own', 'packed', 'parents', 'part', 'past', 'path', 'peace', 'people', 'peoples', 'perfect', 'period', 'person', 'personal', 'physical', 'picked', 'pills', 'please', 'positive', 'possible', 'possibly', 'pretty', 'probably', 'problem', 'problems', 'progress', 'promised', 'provide', 'psych', 'pulled', 'purpose', 'qualified', 'questions', 'quite', 'rant', 'rational', 're', 'reading', 'reality', 'realize', 'really', 'recovery', 'refers', 'reflect', 'rehab', 'rejected', 'rejecting', 'relate', 'related', 'relationship', 'relationships', 'relief', 'remember', 'remind', 'remote', 'resource', 'respect', 'restless', 'result', 'roommate', 'rude', 'sad', 'said', 'same', 'saved', 'saw', 'say', 'saying', 'school', 'schoolwork', 'see', 'self', 'sense', 'serious', 'set', 'several', 'severe', 'share', 'shared', 'sharing', 'she', 'shelter', 'shit', 'shortly', 'side', 'sign', 'similar', 'simply', 'sister', 'situation', 'situations', 'skipped', 'slightly', 'slowly', 'so', 'some', 'somebody', 'someone', 'something', 'sometime', 'sometimes', 'sort', 'speak', 'specific', 'specifically', 'spent', 'spiraling', 'spot', 'stability', 'start', 'started', 'stayed', 'still', 'stopped', 'story', 'strangers', 'struggle', 'struggles', 'struggling', 'stuff', 'subject', 'such', 'suffer', 'suicidal', 'suicide', 'summer', 'super', 'support', 'supporting', 'supportive', 'sure', 'surfing', 'survival', 'sustained', 'swallow', 'swaying', 'swimming', 'switch', 'switched', 'taken', 'taking', 'talk', 'talked', 'talking', 'teacher', 'tell', 'telling', 'than', 'thankgiving', 'that', 'thats', 'the', 'their', 'them', 'themselves', 'then', 'therapist', 'therapy', 'there', 'theripist', 'they', 'thing', 'think', 'thinking', 'thinks', 'this', 'those', 'though', 'thought', 'thoughts', 'threw', 'through', 'throughout', 'till', 'time', 'times', 'to', 'together', 'told', 'too', 'took', 'top', 'tough', 'trapped', 'treat', 'treatment', 'tried', 'troubled', 'troubles', 'truth', 'try', 'tryin', 'trying', 'tunnel', 'turmoil', 'tutor', 'twice', 'type', 'understand', 'unfortunately', 'unless', 'until', 'up', 'us', 'used', 'using', 've', 'vent', 'verge', 'very', 'virgity', 'visited', 'walked', 'want', 'wanted', 'ward', 'was', 'way', 'we', 'weed', 'week', 'well', 'went', 'were', 'what', 'when', 'whenever', 'where', 'while', 'who', 'will', 'with', 'within', 'woods', 'work', 'worked', 'would', 'wouldn', 'write', 'year', 'yearbook', 'years', 'you', 'yourself']\n",
      "660\n"
     ]
    }
   ],
   "source": [
    "from sklearn.feature_extraction.text import CountVectorizer\n",
    "vect = CountVectorizer()\n",
    "train_df = df.sample(frac = 1, axis=0)  \n",
    "train_df_mat = vect.fit_transform(train_df['response_text'])\n",
    "print(train_df_mat.shape) \n",
    "\n",
    "print(vect.get_feature_names())\n",
    "\n",
    "print(len(vect.get_feature_names()))"
   ]
  },
  {
   "cell_type": "markdown",
   "id": "chinese-degree",
   "metadata": {},
   "source": [
    "There are 660 unique words in chatbot responses."
   ]
  },
  {
   "cell_type": "code",
   "execution_count": 27,
   "id": "specialized-impression",
   "metadata": {},
   "outputs": [
    {
     "name": "stdout",
     "output_type": "stream",
     "text": [
      "(125, 11466)\n"
     ]
    }
   ],
   "source": [
    "# CountVectorizer significantly decreases the number of words (down from ~17k to ~11k).\n",
    "vect2 = CountVectorizer()\n",
    "train_df2 = df2.sample(frac = 1, axis=0) \n",
    "df2_mat = vect2.fit_transform(train_df2['resume_text'])\n",
    "print(df2_mat.shape)  "
   ]
  },
  {
   "cell_type": "markdown",
   "id": "champion-bicycle",
   "metadata": {},
   "source": [
    "Here we see CountVectorizer finds 11466 unique words in the resume text."
   ]
  },
  {
   "cell_type": "markdown",
   "id": "excellent-virgin",
   "metadata": {},
   "source": [
    "## Tokenization and Lemmitization<a id='_Tokenization_and_Lemmitization'></a>"
   ]
  },
  {
   "cell_type": "code",
   "execution_count": 28,
   "id": "assumed-sampling",
   "metadata": {},
   "outputs": [],
   "source": [
    "from nltk.corpus import stopwords\n",
    "from sklearn.feature_extraction.text import CountVectorizer\n",
    "from sklearn.model_selection import train_test_split\n",
    "from sklearn.naive_bayes import GaussianNB"
   ]
  },
  {
   "cell_type": "code",
   "execution_count": 29,
   "id": "recreational-english",
   "metadata": {},
   "outputs": [
    {
     "data": {
      "text/html": [
       "<div>\n",
       "<style scoped>\n",
       "    .dataframe tbody tr th:only-of-type {\n",
       "        vertical-align: middle;\n",
       "    }\n",
       "\n",
       "    .dataframe tbody tr th {\n",
       "        vertical-align: top;\n",
       "    }\n",
       "\n",
       "    .dataframe thead th {\n",
       "        text-align: right;\n",
       "    }\n",
       "</style>\n",
       "<table border=\"1\" class=\"dataframe\">\n",
       "  <thead>\n",
       "    <tr style=\"text-align: right;\">\n",
       "      <th></th>\n",
       "      <th>class</th>\n",
       "      <th>response_text</th>\n",
       "    </tr>\n",
       "  </thead>\n",
       "  <tbody>\n",
       "    <tr>\n",
       "      <th>0</th>\n",
       "      <td>not_flagged</td>\n",
       "      <td>I try and avoid this sort of conflict</td>\n",
       "    </tr>\n",
       "    <tr>\n",
       "      <th>1</th>\n",
       "      <td>flagged</td>\n",
       "      <td>Had a friend open up to me about his mental ad...</td>\n",
       "    </tr>\n",
       "    <tr>\n",
       "      <th>2</th>\n",
       "      <td>flagged</td>\n",
       "      <td>I saved a girl from suicide once. She was goin...</td>\n",
       "    </tr>\n",
       "    <tr>\n",
       "      <th>3</th>\n",
       "      <td>not_flagged</td>\n",
       "      <td>i cant think of one really...i think i may hav...</td>\n",
       "    </tr>\n",
       "    <tr>\n",
       "      <th>4</th>\n",
       "      <td>not_flagged</td>\n",
       "      <td>Only really one friend who doesn't fit into th...</td>\n",
       "    </tr>\n",
       "    <tr>\n",
       "      <th>5</th>\n",
       "      <td>not_flagged</td>\n",
       "      <td>a couple of years ago my friends was going to ...</td>\n",
       "    </tr>\n",
       "    <tr>\n",
       "      <th>6</th>\n",
       "      <td>flagged</td>\n",
       "      <td>Roommate when he was going through death and l...</td>\n",
       "    </tr>\n",
       "    <tr>\n",
       "      <th>7</th>\n",
       "      <td>flagged</td>\n",
       "      <td>i've had a couple of friends (you could say mo...</td>\n",
       "    </tr>\n",
       "    <tr>\n",
       "      <th>8</th>\n",
       "      <td>not_flagged</td>\n",
       "      <td>Listened to someone talk about relationship tr...</td>\n",
       "    </tr>\n",
       "    <tr>\n",
       "      <th>9</th>\n",
       "      <td>flagged</td>\n",
       "      <td>I will always listen. I comforted my sister wh...</td>\n",
       "    </tr>\n",
       "  </tbody>\n",
       "</table>\n",
       "</div>"
      ],
      "text/plain": [
       "         class                                      response_text\n",
       "0  not_flagged              I try and avoid this sort of conflict\n",
       "1      flagged  Had a friend open up to me about his mental ad...\n",
       "2      flagged  I saved a girl from suicide once. She was goin...\n",
       "3  not_flagged  i cant think of one really...i think i may hav...\n",
       "4  not_flagged  Only really one friend who doesn't fit into th...\n",
       "5  not_flagged  a couple of years ago my friends was going to ...\n",
       "6      flagged  Roommate when he was going through death and l...\n",
       "7      flagged  i've had a couple of friends (you could say mo...\n",
       "8  not_flagged  Listened to someone talk about relationship tr...\n",
       "9      flagged  I will always listen. I comforted my sister wh..."
      ]
     },
     "execution_count": 29,
     "metadata": {},
     "output_type": "execute_result"
    }
   ],
   "source": [
    "data = pd.read_csv(\"Sheet_1.csv\",encoding= \"latin1\" )\n",
    "data.drop([\"Unnamed: 3\",\"Unnamed: 4\",\"Unnamed: 5\",\"Unnamed: 6\",\"Unnamed: 7\",], axis = 1, inplace =True)\n",
    "data = pd.concat([data[\"class\"],data[\"response_text\"]], axis = 1)\n",
    "data.dropna(axis=0, inplace =True)\n",
    "data.head(10)"
   ]
  },
  {
   "cell_type": "code",
   "execution_count": 30,
   "id": "finished-january",
   "metadata": {},
   "outputs": [
    {
     "data": {
      "text/html": [
       "<div>\n",
       "<style scoped>\n",
       "    .dataframe tbody tr th:only-of-type {\n",
       "        vertical-align: middle;\n",
       "    }\n",
       "\n",
       "    .dataframe tbody tr th {\n",
       "        vertical-align: top;\n",
       "    }\n",
       "\n",
       "    .dataframe thead th {\n",
       "        text-align: right;\n",
       "    }\n",
       "</style>\n",
       "<table border=\"1\" class=\"dataframe\">\n",
       "  <thead>\n",
       "    <tr style=\"text-align: right;\">\n",
       "      <th></th>\n",
       "      <th>class</th>\n",
       "      <th>response_text</th>\n",
       "    </tr>\n",
       "  </thead>\n",
       "  <tbody>\n",
       "    <tr>\n",
       "      <th>0</th>\n",
       "      <td>0</td>\n",
       "      <td>I try and avoid this sort of conflict</td>\n",
       "    </tr>\n",
       "    <tr>\n",
       "      <th>1</th>\n",
       "      <td>1</td>\n",
       "      <td>Had a friend open up to me about his mental ad...</td>\n",
       "    </tr>\n",
       "    <tr>\n",
       "      <th>2</th>\n",
       "      <td>1</td>\n",
       "      <td>I saved a girl from suicide once. She was goin...</td>\n",
       "    </tr>\n",
       "    <tr>\n",
       "      <th>3</th>\n",
       "      <td>0</td>\n",
       "      <td>i cant think of one really...i think i may hav...</td>\n",
       "    </tr>\n",
       "    <tr>\n",
       "      <th>4</th>\n",
       "      <td>0</td>\n",
       "      <td>Only really one friend who doesn't fit into th...</td>\n",
       "    </tr>\n",
       "    <tr>\n",
       "      <th>5</th>\n",
       "      <td>0</td>\n",
       "      <td>a couple of years ago my friends was going to ...</td>\n",
       "    </tr>\n",
       "    <tr>\n",
       "      <th>6</th>\n",
       "      <td>1</td>\n",
       "      <td>Roommate when he was going through death and l...</td>\n",
       "    </tr>\n",
       "    <tr>\n",
       "      <th>7</th>\n",
       "      <td>1</td>\n",
       "      <td>i've had a couple of friends (you could say mo...</td>\n",
       "    </tr>\n",
       "    <tr>\n",
       "      <th>8</th>\n",
       "      <td>0</td>\n",
       "      <td>Listened to someone talk about relationship tr...</td>\n",
       "    </tr>\n",
       "    <tr>\n",
       "      <th>9</th>\n",
       "      <td>1</td>\n",
       "      <td>I will always listen. I comforted my sister wh...</td>\n",
       "    </tr>\n",
       "  </tbody>\n",
       "</table>\n",
       "</div>"
      ],
      "text/plain": [
       "   class                                      response_text\n",
       "0      0              I try and avoid this sort of conflict\n",
       "1      1  Had a friend open up to me about his mental ad...\n",
       "2      1  I saved a girl from suicide once. She was goin...\n",
       "3      0  i cant think of one really...i think i may hav...\n",
       "4      0  Only really one friend who doesn't fit into th...\n",
       "5      0  a couple of years ago my friends was going to ...\n",
       "6      1  Roommate when he was going through death and l...\n",
       "7      1  i've had a couple of friends (you could say mo...\n",
       "8      0  Listened to someone talk about relationship tr...\n",
       "9      1  I will always listen. I comforted my sister wh..."
      ]
     },
     "execution_count": 30,
     "metadata": {},
     "output_type": "execute_result"
    }
   ],
   "source": [
    "data[\"class\"] = [1 if each == \"flagged\" else 0 for each in data[\"class\"]]\n",
    "data.head(10)"
   ]
  },
  {
   "cell_type": "markdown",
   "id": "opened-import",
   "metadata": {},
   "source": [
    "Changing the class column to binary values: 1 for 'flagged', 0 for 'not flagged'"
   ]
  },
  {
   "cell_type": "code",
   "execution_count": 31,
   "id": "characteristic-congress",
   "metadata": {},
   "outputs": [
    {
     "data": {
      "text/plain": [
       "'Took a week off work, packed up the car and picked up a friend who was on the verge of losing it and went camping/surfing for a week. His parents were a big part of the problem and being away from them and others and physical activity every day for a week. but more just being around helped i feel.'"
      ]
     },
     "execution_count": 31,
     "metadata": {},
     "output_type": "execute_result"
    }
   ],
   "source": [
    "data.response_text[10]"
   ]
  },
  {
   "cell_type": "code",
   "execution_count": 32,
   "id": "extended-marble",
   "metadata": {},
   "outputs": [
    {
     "name": "stdout",
     "output_type": "stream",
     "text": [
      "took a week off work  packed up the car and picked up a friend who was on the verge of losing it and went camping surfing for a week  his parents were a big part of the problem and being away from them and others and physical activity every day for a week  but more just being around helped i feel \n"
     ]
    }
   ],
   "source": [
    "import re\n",
    "import nltk\n",
    "first_text = data.response_text[10]\n",
    "text = re.sub(\"[^a-zA-Z]\",\" \",first_text)\n",
    "text = text.lower() \n",
    "print(text)"
   ]
  },
  {
   "cell_type": "markdown",
   "id": "viral-mississippi",
   "metadata": {},
   "source": [
    "Removing punctuation and converting text to lower case for consistency."
   ]
  },
  {
   "cell_type": "code",
   "execution_count": 33,
   "id": "scenic-gibraltar",
   "metadata": {},
   "outputs": [
    {
     "name": "stdout",
     "output_type": "stream",
     "text": [
      "['took', 'week', 'work', 'packed', 'car', 'picked', 'friend', 'verge', 'losing', 'went', 'camping', 'surfing', 'week', 'parents', 'big', 'part', 'problem', 'away', 'others', 'physical', 'activity', 'every', 'day', 'week', 'around', 'helped', 'feel']\n"
     ]
    },
    {
     "name": "stderr",
     "output_type": "stream",
     "text": [
      "[nltk_data] Downloading package stopwords to\n",
      "[nltk_data]     C:\\Users\\daenj\\AppData\\Roaming\\nltk_data...\n",
      "[nltk_data]   Package stopwords is already up-to-date!\n"
     ]
    }
   ],
   "source": [
    "nltk.download(\"stopwords\")     \n",
    "\n",
    "text = nltk.word_tokenize(text)\n",
    "\n",
    "text = [ word for word in text if not word in set(stopwords.words(\"english\"))]\n",
    "print(text)"
   ]
  },
  {
   "cell_type": "code",
   "execution_count": 34,
   "id": "bacterial-observation",
   "metadata": {},
   "outputs": [
    {
     "name": "stdout",
     "output_type": "stream",
     "text": [
      "['take', 'week', 'work', 'pack', 'car', 'pick', 'friend', 'verge', 'lose', 'go', 'camp', 'surf', 'week', 'parent', 'big', 'part', 'problem', 'away', 'others', 'physical', 'activity', 'every', 'day', 'week', 'around', 'help', 'feel']\n"
     ]
    }
   ],
   "source": [
    "import nltk as nlp\n",
    "from nltk.stem.wordnet import WordNetLemmatizer\n",
    "lemmatizer = WordNetLemmatizer()\n",
    "text = [(lemmatizer.lemmatize(lemmatizer.lemmatize(lemmatizer.lemmatize(word, \"n\"),pos = \"v\"),pos=\"a\")) for word in text]\n",
    "print(text)"
   ]
  },
  {
   "cell_type": "code",
   "execution_count": 35,
   "id": "insured-vintage",
   "metadata": {},
   "outputs": [],
   "source": [
    "description_list = []\n",
    "for description in data.response_text:\n",
    "    \n",
    "    \n",
    "    description = re.sub(\"[^a-zA-Z]\",\" \",description)\n",
    "    description = description.lower() \n",
    "    \n",
    "    description = nltk.word_tokenize(description)\n",
    "    description = [ word for word in description if not word in set(stopwords.words(\"english\"))]\n",
    "    \n",
    "    lemmatizer = WordNetLemmatizer()\n",
    "    description = (lemmatizer.lemmatize(lemmatizer.lemmatize(lemmatizer.lemmatize(word, \"n\"),pos = \"v\"),pos=\"a\") for word in description)\n",
    "    \n",
    "    description = \" \".join(description)\n",
    "    description_list.append(description)"
   ]
  },
  {
   "cell_type": "code",
   "execution_count": 36,
   "id": "average-treasure",
   "metadata": {},
   "outputs": [
    {
     "data": {
      "text/plain": [
       "'take week work pack car pick friend verge lose go camp surf week parent big part problem away others physical activity every day week around help feel'"
      ]
     },
     "execution_count": 36,
     "metadata": {},
     "output_type": "execute_result"
    }
   ],
   "source": [
    "description_list[10]"
   ]
  },
  {
   "cell_type": "code",
   "execution_count": 37,
   "id": "restricted-record",
   "metadata": {},
   "outputs": [],
   "source": [
    "max_features = 100"
   ]
  },
  {
   "cell_type": "code",
   "execution_count": 38,
   "id": "theoretical-maker",
   "metadata": {},
   "outputs": [],
   "source": [
    "count_vectorizer = CountVectorizer(max_features=max_features)"
   ]
  },
  {
   "cell_type": "code",
   "execution_count": 39,
   "id": "baking-gregory",
   "metadata": {},
   "outputs": [],
   "source": [
    "sparce_matrix = count_vectorizer.fit_transform(description_list).toarray()"
   ]
  },
  {
   "cell_type": "code",
   "execution_count": 40,
   "id": "eleven-indianapolis",
   "metadata": {},
   "outputs": [
    {
     "name": "stdout",
     "output_type": "stream",
     "text": [
      "Top 100 Most Used Words: ['addiction', 'advice', 'alone', 'always', 'anxiety', 'anything', 'back', 'best', 'bring', 'call', 'care', 'come', 'comfort', 'could', 'deal', 'depression', 'describe', 'dont', 'end', 'even', 'everything', 'experience', 'face', 'feel', 'find', 'friend', 'get', 'gf', 'girl', 'girlfriend', 'give', 'go', 'good', 'grade', 'happen', 'help', 'helpful', 'issue', 'kid', 'kill', 'know', 'last', 'let', 'life', 'like', 'listen', 'little', 'look', 'lot', 'make', 'many', 'may', 'much', 'need', 'never', 'night', 'offer', 'often', 'one', 'open', 'others', 'people', 'person', 'personal', 'pretty', 'problem', 'really', 'relationship', 'say', 'school', 'see', 'self', 'severe', 'share', 'shit', 'similar', 'simply', 'situation', 'someone', 'sometimes', 'start', 'struggle', 'stuff', 'suicide', 'support', 'talk', 'tell', 'think', 'though', 'time', 'trouble', 'try', 'use', 'want', 'way', 'week', 'well', 'work', 'would', 'year']\n"
     ]
    }
   ],
   "source": [
    "print(\"Top {} Most Used Words: {}\".format(max_features,count_vectorizer.get_feature_names()))"
   ]
  },
  {
   "cell_type": "markdown",
   "id": "proved-seeker",
   "metadata": {},
   "source": [
    "These are the top 100 words in the chatbot responses."
   ]
  },
  {
   "cell_type": "markdown",
   "id": "foreign-distance",
   "metadata": {},
   "source": [
    "The same process as above will be repeated for the resume data."
   ]
  },
  {
   "cell_type": "code",
   "execution_count": 41,
   "id": "spare-builder",
   "metadata": {},
   "outputs": [],
   "source": [
    "data2 = pd.read_csv(\"Sheet_2.csv\",encoding= \"latin1\" )"
   ]
  },
  {
   "cell_type": "code",
   "execution_count": 42,
   "id": "trying-suspension",
   "metadata": {},
   "outputs": [
    {
     "data": {
      "text/html": [
       "<div>\n",
       "<style scoped>\n",
       "    .dataframe tbody tr th:only-of-type {\n",
       "        vertical-align: middle;\n",
       "    }\n",
       "\n",
       "    .dataframe tbody tr th {\n",
       "        vertical-align: top;\n",
       "    }\n",
       "\n",
       "    .dataframe thead th {\n",
       "        text-align: right;\n",
       "    }\n",
       "</style>\n",
       "<table border=\"1\" class=\"dataframe\">\n",
       "  <thead>\n",
       "    <tr style=\"text-align: right;\">\n",
       "      <th></th>\n",
       "      <th>resume_id</th>\n",
       "      <th>class</th>\n",
       "      <th>resume_text</th>\n",
       "    </tr>\n",
       "  </thead>\n",
       "  <tbody>\n",
       "    <tr>\n",
       "      <th>0</th>\n",
       "      <td>resume_1</td>\n",
       "      <td>0</td>\n",
       "      <td>\\rCustomer Service Supervisor/Tier - Isabella ...</td>\n",
       "    </tr>\n",
       "    <tr>\n",
       "      <th>1</th>\n",
       "      <td>resume_2</td>\n",
       "      <td>0</td>\n",
       "      <td>\\rEngineer / Scientist - IBM Microelectronics ...</td>\n",
       "    </tr>\n",
       "    <tr>\n",
       "      <th>2</th>\n",
       "      <td>resume_3</td>\n",
       "      <td>0</td>\n",
       "      <td>\\rLTS Software Engineer Computational Lithogra...</td>\n",
       "    </tr>\n",
       "    <tr>\n",
       "      <th>3</th>\n",
       "      <td>resume_4</td>\n",
       "      <td>0</td>\n",
       "      <td>TUTOR\\rWilliston VT - Email me on Indeed: ind...</td>\n",
       "    </tr>\n",
       "    <tr>\n",
       "      <th>4</th>\n",
       "      <td>resume_5</td>\n",
       "      <td>1</td>\n",
       "      <td>\\rIndependent Consultant - Self-employed\\rBurl...</td>\n",
       "    </tr>\n",
       "    <tr>\n",
       "      <th>5</th>\n",
       "      <td>resume_6</td>\n",
       "      <td>0</td>\n",
       "      <td>\\rPoultney VT - Email me on Indeed: indeed.com...</td>\n",
       "    </tr>\n",
       "    <tr>\n",
       "      <th>6</th>\n",
       "      <td>resume_7</td>\n",
       "      <td>0</td>\n",
       "      <td>\\rMedical Laboratory Scientist (Special Chemis...</td>\n",
       "    </tr>\n",
       "    <tr>\n",
       "      <th>7</th>\n",
       "      <td>resume_8</td>\n",
       "      <td>1</td>\n",
       "      <td>Statistician\\rBurlington VT - Email me on Inde...</td>\n",
       "    </tr>\n",
       "    <tr>\n",
       "      <th>8</th>\n",
       "      <td>resume_9</td>\n",
       "      <td>0</td>\n",
       "      <td>Research technician\\rBurlington VT - Email me ...</td>\n",
       "    </tr>\n",
       "    <tr>\n",
       "      <th>9</th>\n",
       "      <td>resume_10</td>\n",
       "      <td>0</td>\n",
       "      <td>Barbara Hennessey-Elzohairy\\rNewport VT - Emai...</td>\n",
       "    </tr>\n",
       "  </tbody>\n",
       "</table>\n",
       "</div>"
      ],
      "text/plain": [
       "   resume_id  class                                        resume_text\n",
       "0   resume_1      0  \\rCustomer Service Supervisor/Tier - Isabella ...\n",
       "1   resume_2      0  \\rEngineer / Scientist - IBM Microelectronics ...\n",
       "2   resume_3      0  \\rLTS Software Engineer Computational Lithogra...\n",
       "3   resume_4      0   TUTOR\\rWilliston VT - Email me on Indeed: ind...\n",
       "4   resume_5      1  \\rIndependent Consultant - Self-employed\\rBurl...\n",
       "5   resume_6      0  \\rPoultney VT - Email me on Indeed: indeed.com...\n",
       "6   resume_7      0  \\rMedical Laboratory Scientist (Special Chemis...\n",
       "7   resume_8      1  Statistician\\rBurlington VT - Email me on Inde...\n",
       "8   resume_9      0  Research technician\\rBurlington VT - Email me ...\n",
       "9  resume_10      0  Barbara Hennessey-Elzohairy\\rNewport VT - Emai..."
      ]
     },
     "execution_count": 42,
     "metadata": {},
     "output_type": "execute_result"
    }
   ],
   "source": [
    "data2[\"class\"] = [1 if each == \"flagged\" else 0 for each in data2[\"class\"]]\n",
    "data2.head(10)"
   ]
  },
  {
   "cell_type": "code",
   "execution_count": 43,
   "id": "martial-radio",
   "metadata": {},
   "outputs": [],
   "source": [
    "first_text = data2.resume_text[10]\n",
    "text = re.sub(\"[^a-zA-Z]\",\" \",first_text)\n",
    "text = text.lower() "
   ]
  },
  {
   "cell_type": "code",
   "execution_count": 44,
   "id": "pleasant-registrar",
   "metadata": {},
   "outputs": [
    {
     "name": "stderr",
     "output_type": "stream",
     "text": [
      "[nltk_data] Downloading package stopwords to\n",
      "[nltk_data]     C:\\Users\\daenj\\AppData\\Roaming\\nltk_data...\n",
      "[nltk_data]   Package stopwords is already up-to-date!\n"
     ]
    },
    {
     "name": "stdout",
     "output_type": "stream",
     "text": [
      "['barbara', 'kurth', 'research', 'assistant', 'professor', 'clinical', 'research', 'navigation', 'tulane', 'university', 'health', 'sciences', 'center', 'louisiana', 'state', 'university', 'charlotte', 'vt', 'email', 'indeed', 'indeed', 'com', 'r', 'barbara', 'kurth', 'f', 'e', 'f', 'fab', 'work', 'experience', 'research', 'assistant', 'professor', 'clinical', 'research', 'navigation', 'tulane', 'university', 'health', 'sciences', 'center', 'louisiana', 'state', 'university', 'new', 'orleans', 'la', 'present', 'health', 'sciences', 'center', 'new', 'orleans', 'la', 'research', 'assistant', 'professor', 'clinical', 'research', 'navigation', 'provide', 'regulatory', 'expertise', 'advice', 'administration', 'medical', 'faculty', 'staff', 'ensure', 'clinical', 'research', 'protocols', 'meet', 'institutional', 'governmental', 'regulations', 'inception', 'approval', 'services', 'include', 'advising', 'assisting', 'investigators', 'drafting', 'generation', 'research', 'protocols', 'using', 'ich', 'gcp', 'guidelines', 'ensuring', 'appropriate', 'input', 'biostatisticians', 'bioinformaticists', 'intellectual', 'property', 'officers', 'contracting', 'officers', 'clinical', 'research', 'proposals', 'guiding', 'researchers', 'oversight', 'informed', 'consents', 'studies', 'using', 'irb', 'guidelines', 'guiding', 'researchers', 'processing', 'necessary', 'paperwork', 'activate', 'investigator', 'initiated', 'pharmaceutical', 'studies', 'including', 'site', 'agreements', 'budgets', 'informed', 'consents', 'license', 'requirements', 'etc', 'facilitating', 'input', 'electronic', 'protocol', 'management', 'work', 'experience', 'continued', 'providing', 'editorial', 'assistance', 'writing', 'revising', 'protocol', 'consent', 'forms', 'requested', 'various', 'committees', 'assisting', 'researchers', 'needed', 'ensure', 'submissions', 'satisfy', 'regulatory', 'criteria', 'irb', 'fda', 'ind', 'ide', 'k', 'etc', 'assisting', 'researchers', 'regulations', 'regarding', 'glp', 'cgmp', 'needed', 'working', 'researchers', 'oversee', 'establishment', 'study', 'budget', 'working', 'researchers', 'strategize', 'proper', 'accrual', 'patients', 'data', 'acquisition', 'data', 'analysis', 'reporting', 'teaching', 'protocol', 'design', 'writing', 'masters', 'science', 'clinical', 'research', 'program', 'research', 'assistant', 'professor', 'clinical', 'trials', 'scientist', 'university', 'virginia', 'cancer', 'center', 'charlottesville', 'va', 'clinical', 'trial', 'development', 'physicians', 'needing', 'assistance', 'guidance', 'including', 'protocol', 'writing', 'regulatory', 'submissions', 'cancer', 'trials', 'developed', 'photodynamic', 'therapy', 'non', 'resectable', 'cholangiocarcinoma', 'phase', 'ii', 'pilot', 'study', 'use', 'high', 'dose', 'estradiol', 'women', 'breast', 'cancer', 'role', 'apoptosis', 'single', 'arm', 'phase', 'ii', 'clinical', 'trial', 'neoadjuvant', 'chemotherapy', 'treatment', 'advanced', 'stage', 'epithelial', 'ovarian', 'primary', 'peritoneal', 'fallopian', 'tube', 'cancers', 'pilot', 'study', 'evaluating', 'massage', 'therapy', 'cancer', 'patients', 'undergoing', 'treatment', 'acute', 'myeloid', 'leukemia', 'use', 'attitudes', 'toward', 'complementary', 'alternative', 'medicine', 'lung', 'cancer', 'patients', 'academic', 'medical', 'center', 'pilot', 'feasibility', 'dosimetry', 'study', 'topotherapy', 'whole', 'breast', 'irradiation', 'patients', 'undergoing', 'breast', 'conservation', 'therapy', 'stages', 'iia', 'breast', 'carcinoma', 'hormone', 'sensitive', 'progressive', 'metastatic', 'breast', 'cancer', 'group', 'b', 'work', 'experience', 'continued', 'phase', 'ii', 'study', 'dasatinib', 'plus', 'capecitabine', 'paclitaxel', 'refractory', 'metastatic', 'breast', 'cancer', 'group', 'dasatinib', 'plus', 'fulvestrant', 'effector', 'mechanisms', 'targeting', 'mab', 'opsonized', 'malignant', 'b', 'cells', 'killing', 'shaving', 'either', 'circulating', 'b', 'cells', 'b', 'cells', 'fixed', 'tissue', 'treatment', 'rituximab', 'rtx', 'chart', 'review', 'minority', 'patients', 'newly', 'diagnosed', 'lung', 'gynecological', 'cancers', 'seen', 'uva', 'calendar', 'year', 'senior', 'scientist', 'university', 'virginia', 'charlottesville', 'va', 'meetings', 'presentations', 'funding', 'agencies', 'private', 'sector', 'responsible', 'compliance', 'issues', 'laboratory', 'responsible', 'writing', 'keeping', 'current', 'human', 'use', 'protocols', 'consents', 'responsible', 'writing', 'keeping', 'current', 'animal', 'use', 'protocols', 'publishing', 'bench', 'work', 'assistant', 'director', 'primate', 'models', 'core', 'university', 'virginia', 'charlottesville', 'va', 'charlottesville', 'va', 'assistant', 'director', 'primate', 'models', 'core', 'established', 'maintained', 'colony', 'cynomolgus', 'macaque', 'use', 'vaccine', 'development', 'prepared', 'vaccine', 'samples', 'sp', 'immunization', 'female', 'macaques', 'using', 'conjugation', 'immunogenic', 'protein', 'carrier', 'oil', 'water', 'water', 'oil', 'emulsions', 'aluminum', 'salt', 'adjuvants', 'explored', 'various', 'routes', 'immunization', 'intramuscular', 'subcutaneous', 'oral', 'salmonella', 'sp', 'intracervical', 'wall', 'intranasal', 'determine', 'efficient', 'means', 'vaccine', 'delivery', 'performed', 'immunizations', 'sperm', 'specific', 'egg', 'specific', 'vaccine', 'preps', 'investigators', 'institutions', 'work', 'experience', 'continued', 'determined', 'immunogenicity', 'vaccine', 'preps', 'macaque', 'cervical', 'mucus', 'oviductal', 'fluid', 'serum', 'iga', 'igg', 'determined', 'activity', 'fluids', 'immunized', 'macaques', 'vitro', 'assays', 'isolated', 'peripheral', 'blood', 'lymphocytes', 'research', 'associate', 'research', 'fellow', 'university', 'virginia', 'charlottesville', 'va', 'isolated', 'localized', 'sp', 'protein', 'sperm', 'determine', 'tissue', 'specificity', 'protein', 'mrna', 'level', 'employed', 'western', 'blots', 'determine', 'purity', 'isolated', 'sp', 'protein', 'prior', 'vaccine', 'preparation', 'employed', 'northern', 'blot', 'technique', 'determine', 'appropriate', 'animal', 'model', 'vaccine', 'efficacy', 'employed', 'various', 'forms', 'microscopy', 'elucidate', 'localization', 'timing', 'expression', 'sp', 'protein', 'spermatogenesis', 'research', 'experience', 'cell', 'tissue', 'culture', 'vaccine', 'preparation', 'delivery', 'adjuvanted', 'nonadjuvanted', 'emulsions', 'vehicle', 'carriers', 'salmonella', 'sp', 'po', 'sq', 'im', 'electrophoresis', 'protein', 'nucleic', 'acid', 'microscopy', 'optical', 'bright', 'field', 'phase', 'contrast', 'fluorescence', 'dark', 'field', 'tem', 'sem', 'photography', 'preparation', 'microscopy', 'fixation', 'embedding', 'sectioning', 'lm', 'em', 'slide', 'prep', 'situ', 'hybridization', 'h', 'brdu', 'immunoassays', 'ich', 'elisa', 'western', 'cell', 'dna', 'rna', 'isolation', 'gradient', 'northern', 'training', 'experience', 'awic', 'animal', 'welfare', 'information', 'center', 'workshop', 'beltsville', 'fdli', 'educational', 'conference', 'washington', 'dc', 'clinical', 'investigations', 'changing', 'expectations', 'regulatory', 'requirements', 'washington', 'dc', 'changing', 'regulatory', 'environment', 'irbs', 'impact', 'irbs', 'sponsors', 'cros', 'washington', 'dc', 'medical', 'technology', 'course', 'students', 'law', 'medical', 'school', 'uva', 'charlottesville', 'va', 'clinical', 'research', 'coordinators', 'continuing', 'education', 'series', 'uva', 'charlottesville', 'va', 'education', 'ph', 'molecular', 'cellular', 'biology', 'pathobiology', 'medical', 'university', 'south', 'carolina', 'charleston', 'sc', 'b', 'biology', 'trinity', 'college', 'burlington', 'vt']\n"
     ]
    }
   ],
   "source": [
    "nltk.download(\"stopwords\")     \n",
    "\n",
    "text = nltk.word_tokenize(text)\n",
    "\n",
    "text = [ word for word in text if not word in set(stopwords.words(\"english\"))]\n",
    "print(text)"
   ]
  },
  {
   "cell_type": "code",
   "execution_count": 45,
   "id": "spiritual-significance",
   "metadata": {},
   "outputs": [],
   "source": [
    "import nltk as nlp\n",
    "from nltk.stem.wordnet import WordNetLemmatizer\n",
    "lemmatizer = WordNetLemmatizer()\n",
    "text = [(lemmatizer.lemmatize(lemmatizer.lemmatize(lemmatizer.lemmatize(word, \"n\"),pos = \"v\"),pos=\"a\")) for word in text]"
   ]
  },
  {
   "cell_type": "code",
   "execution_count": null,
   "id": "phantom-consensus",
   "metadata": {},
   "outputs": [],
   "source": [
    "description_list = []\n",
    "for description in data2.resume_text:\n",
    "    \n",
    "    \n",
    "    description = re.sub(\"[^a-zA-Z]\",\" \",description)\n",
    "    description = description.lower() \n",
    "    \n",
    "    description = nltk.word_tokenize(description)\n",
    "    description = [ word for word in description if not word in set(stopwords.words(\"english\"))]\n",
    "    \n",
    "    lemmatizer = WordNetLemmatizer()\n",
    "    description = (lemmatizer.lemmatize(lemmatizer.lemmatize(lemmatizer.lemmatize(word, \"n\"),pos = \"v\"),pos=\"a\") for word in description)\n",
    "    \n",
    "    description = \" \".join(description)\n",
    "    description_list.append(description)"
   ]
  },
  {
   "cell_type": "code",
   "execution_count": null,
   "id": "according-balloon",
   "metadata": {},
   "outputs": [],
   "source": [
    "description_list[10]"
   ]
  },
  {
   "cell_type": "code",
   "execution_count": null,
   "id": "absent-appraisal",
   "metadata": {},
   "outputs": [],
   "source": [
    "max_features = 100"
   ]
  },
  {
   "cell_type": "code",
   "execution_count": null,
   "id": "resistant-release",
   "metadata": {},
   "outputs": [],
   "source": [
    "count_vectorizer = CountVectorizer(max_features=max_features)"
   ]
  },
  {
   "cell_type": "code",
   "execution_count": null,
   "id": "mediterranean-winner",
   "metadata": {},
   "outputs": [],
   "source": [
    "sparce_matrix = count_vectorizer.fit_transform(description_list).toarray()"
   ]
  },
  {
   "cell_type": "code",
   "execution_count": null,
   "id": "smoking-frequency",
   "metadata": {},
   "outputs": [],
   "source": [
    "print(\"Top {} Most Used Words: {}\".format(max_features,count_vectorizer.get_feature_names()))"
   ]
  },
  {
   "cell_type": "markdown",
   "id": "selected-hollywood",
   "metadata": {},
   "source": [
    "These are the top 100 words in the resume dataset."
   ]
  },
  {
   "cell_type": "markdown",
   "id": "functioning-restriction",
   "metadata": {},
   "source": [
    "## Summary<a id='_Summary'></a>"
   ]
  },
  {
   "cell_type": "markdown",
   "id": "bronze-welding",
   "metadata": {},
   "source": [
    "These datasets did not contain any missing values so not much cleaning was required. Word frequency, sentence length, and average word length were visualized for both datasets using histograms. The top words in both sets were visualized, as well as the top 5-word phrases. CountVectorizer was used to determine how many unique words were present. The vectorizer was also used to determine the top 100 words in both chatbot responses and resumes."
   ]
  }
 ],
 "metadata": {
  "kernelspec": {
   "display_name": "Python 3",
   "language": "python",
   "name": "python3"
  },
  "language_info": {
   "codemirror_mode": {
    "name": "ipython",
    "version": 3
   },
   "file_extension": ".py",
   "mimetype": "text/x-python",
   "name": "python",
   "nbconvert_exporter": "python",
   "pygments_lexer": "ipython3",
   "version": "3.8.3"
  }
 },
 "nbformat": 4,
 "nbformat_minor": 5
}
