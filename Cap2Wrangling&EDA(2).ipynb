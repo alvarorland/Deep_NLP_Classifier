{
 "cells": [
  {
   "cell_type": "markdown",
   "id": "hidden-affect",
   "metadata": {},
   "source": [
    "##  Contents<a id='Contents'></a>\n",
    "* [Exploratory Data Analysis](#Exploratory_Data_Analysis)\n",
    "  * [Introduction](#Introduction)\n",
    "  * [Imports](#Imports)\n",
    "  * [Load The Data](#Load_The_Data)\n",
    "  * [Explore The Data](#Explore_The_Data)\n",
    "  * [Visualizing Data](#Visualizing_Data)\n",
    "      * [Word Frequency Analysis](#_Word_Frequency_Analysis)\n",
    "      * [Sentence Length Analysis](#_Sentence_Length_Analysis)\n",
    "      * [Average Word Length Analysis](#_Average_Word_Length_Analysis)\n",
    "  * [Tokenization and Lemmatization](#_Tokenization_and_Lemmatization)\n",
    "  * [Count Vectorizer](#_Count_Vectorizer_)\n",
    "  * [Most Common Words](#_Most_Common_Words_)\n",
    "  * [Least Common Words](#_Least_Common_Words_)\n",
    "  * [Pentagrams](#Pentagrams)\n",
    "  * [Contractions and Spacy](#Contractions_and_Spacy)\n",
    "  * [Removing Stopwords and Lemmatization with Spacy](#Removing_Stopwords_and_Lemmatization_Spacy)\n",
    "  * [Document Term Matrices and Sentiment Analysis](#Document_Term_Matrices_and_Sentiment_Analysis)\n",
    "  * [Summary](#_Summary)"
   ]
  },
  {
   "cell_type": "markdown",
   "id": "smoking-temperature",
   "metadata": {},
   "source": [
    "## Introduction<a id='Introduction'></a>"
   ]
  },
  {
   "cell_type": "markdown",
   "id": "coral-pitch",
   "metadata": {},
   "source": [
    "Natural language processing (NLP) is a subfield of linguistics, computer science, and artificial intelligence concerned with the interactions between computers and human language, in particular how to program computers to process and analyze large amounts of natural language data. The technology can then accurately extract information and insights contained in the documents as well as categorize and organize the documents themselves."
   ]
  },
  {
   "cell_type": "markdown",
   "id": "surprising-marketplace",
   "metadata": {},
   "source": [
    "Sheet1.csv contains 80 user responses to a therapy chatbot. The prompt for the bot is: 'Describe a time when you have acted as a resource for someone else'. The user response is stored in the response_text column. If a response is 'not flagged', the user can continue talking to the bot. If it is 'flagged', the user is referred to help.\n",
    "\n",
    "Sheet2.csv contains 125 data science resumes, stored in the resume_text column. Resumes were queried from Indeed.com with keyword 'data scientist', location 'Vermont'. If a resume is 'not flagged', the applicant can submit a modified resume version at a later date. If it is 'flagged', the applicant is invited to interview."
   ]
  },
  {
   "cell_type": "markdown",
   "id": "polished-public",
   "metadata": {},
   "source": [
    "The purpose of the chatbot is to provide both an avenue for users to vent their feelings and to refer them to professional help. An incompetent classification system could result in emotional isolation and needless user suffering. The classification of the resumes for a ‘data scientist’ role is not as high stakes. This process can be thought of as ‘separating the wheat from the chaff’. Strong resumes are flagged and invited to interview."
   ]
  },
  {
   "cell_type": "markdown",
   "id": "joint-compensation",
   "metadata": {},
   "source": [
    "## Imports<a id='Imports'></a>"
   ]
  },
  {
   "cell_type": "code",
   "execution_count": 1,
   "id": "billion-management",
   "metadata": {},
   "outputs": [],
   "source": [
    "import numpy as np \n",
    "import pandas as pd\n",
    "import seaborn as sns\n",
    "import string\n",
    "import os"
   ]
  },
  {
   "cell_type": "code",
   "execution_count": 2,
   "id": "dangerous-director",
   "metadata": {},
   "outputs": [],
   "source": [
    "os.chdir(r'C:\\Users\\daenj\\OneDrive\\Desktop\\Datasets\\Capstone 2 2021')"
   ]
  },
  {
   "cell_type": "markdown",
   "id": "generic-holocaust",
   "metadata": {},
   "source": [
    "## Load the Data<a id='Load_the_Data'></a>"
   ]
  },
  {
   "cell_type": "code",
   "execution_count": 3,
   "id": "exempt-burden",
   "metadata": {},
   "outputs": [
    {
     "data": {
      "text/html": [
       "<div>\n",
       "<style scoped>\n",
       "    .dataframe tbody tr th:only-of-type {\n",
       "        vertical-align: middle;\n",
       "    }\n",
       "\n",
       "    .dataframe tbody tr th {\n",
       "        vertical-align: top;\n",
       "    }\n",
       "\n",
       "    .dataframe thead th {\n",
       "        text-align: right;\n",
       "    }\n",
       "</style>\n",
       "<table border=\"1\" class=\"dataframe\">\n",
       "  <thead>\n",
       "    <tr style=\"text-align: right;\">\n",
       "      <th></th>\n",
       "      <th>response_id</th>\n",
       "      <th>class</th>\n",
       "      <th>response_text</th>\n",
       "    </tr>\n",
       "  </thead>\n",
       "  <tbody>\n",
       "    <tr>\n",
       "      <th>0</th>\n",
       "      <td>response_1</td>\n",
       "      <td>not_flagged</td>\n",
       "      <td>I try and avoid this sort of conflict</td>\n",
       "    </tr>\n",
       "    <tr>\n",
       "      <th>1</th>\n",
       "      <td>response_2</td>\n",
       "      <td>flagged</td>\n",
       "      <td>Had a friend open up to me about his mental ad...</td>\n",
       "    </tr>\n",
       "    <tr>\n",
       "      <th>2</th>\n",
       "      <td>response_3</td>\n",
       "      <td>flagged</td>\n",
       "      <td>I saved a girl from suicide once. She was goin...</td>\n",
       "    </tr>\n",
       "    <tr>\n",
       "      <th>3</th>\n",
       "      <td>response_4</td>\n",
       "      <td>not_flagged</td>\n",
       "      <td>i cant think of one really...i think i may hav...</td>\n",
       "    </tr>\n",
       "    <tr>\n",
       "      <th>4</th>\n",
       "      <td>response_5</td>\n",
       "      <td>not_flagged</td>\n",
       "      <td>Only really one friend who doesn't fit into th...</td>\n",
       "    </tr>\n",
       "  </tbody>\n",
       "</table>\n",
       "</div>"
      ],
      "text/plain": [
       "  response_id        class                                      response_text\n",
       "0  response_1  not_flagged              I try and avoid this sort of conflict\n",
       "1  response_2      flagged  Had a friend open up to me about his mental ad...\n",
       "2  response_3      flagged  I saved a girl from suicide once. She was goin...\n",
       "3  response_4  not_flagged  i cant think of one really...i think i may hav...\n",
       "4  response_5  not_flagged  Only really one friend who doesn't fit into th..."
      ]
     },
     "execution_count": 3,
     "metadata": {},
     "output_type": "execute_result"
    }
   ],
   "source": [
    "data = pd.read_csv('Sheet_1.csv', encoding='latin-1')\n",
    "\n",
    "\n",
    "data = data.drop([\"Unnamed: 3\", \"Unnamed: 4\", \"Unnamed: 5\", \"Unnamed: 6\",\"Unnamed: 7\"], axis = 1)\n",
    "data = data.rename(columns={\"v1\":\"class\", \"v2\":\"Responses\"})\n",
    "\n",
    "data.head()"
   ]
  },
  {
   "cell_type": "code",
   "execution_count": 4,
   "id": "resident-longer",
   "metadata": {},
   "outputs": [
    {
     "data": {
      "text/plain": [
       "not_flagged    55\n",
       "flagged        25\n",
       "Name: class, dtype: int64"
      ]
     },
     "execution_count": 4,
     "metadata": {},
     "output_type": "execute_result"
    }
   ],
   "source": [
    "data[\"class\"].value_counts()"
   ]
  },
  {
   "cell_type": "code",
   "execution_count": 5,
   "id": "electrical-digit",
   "metadata": {},
   "outputs": [
    {
     "data": {
      "text/html": [
       "<div>\n",
       "<style scoped>\n",
       "    .dataframe tbody tr th:only-of-type {\n",
       "        vertical-align: middle;\n",
       "    }\n",
       "\n",
       "    .dataframe tbody tr th {\n",
       "        vertical-align: top;\n",
       "    }\n",
       "\n",
       "    .dataframe thead th {\n",
       "        text-align: right;\n",
       "    }\n",
       "</style>\n",
       "<table border=\"1\" class=\"dataframe\">\n",
       "  <thead>\n",
       "    <tr style=\"text-align: right;\">\n",
       "      <th></th>\n",
       "      <th>response_id</th>\n",
       "      <th>class</th>\n",
       "      <th>response_text</th>\n",
       "    </tr>\n",
       "  </thead>\n",
       "  <tbody>\n",
       "    <tr>\n",
       "      <th>count</th>\n",
       "      <td>80</td>\n",
       "      <td>80</td>\n",
       "      <td>80</td>\n",
       "    </tr>\n",
       "    <tr>\n",
       "      <th>unique</th>\n",
       "      <td>80</td>\n",
       "      <td>2</td>\n",
       "      <td>80</td>\n",
       "    </tr>\n",
       "    <tr>\n",
       "      <th>top</th>\n",
       "      <td>response_54</td>\n",
       "      <td>not_flagged</td>\n",
       "      <td>Simply being there as a friend for somebody wh...</td>\n",
       "    </tr>\n",
       "    <tr>\n",
       "      <th>freq</th>\n",
       "      <td>1</td>\n",
       "      <td>55</td>\n",
       "      <td>1</td>\n",
       "    </tr>\n",
       "  </tbody>\n",
       "</table>\n",
       "</div>"
      ],
      "text/plain": [
       "        response_id        class  \\\n",
       "count            80           80   \n",
       "unique           80            2   \n",
       "top     response_54  not_flagged   \n",
       "freq              1           55   \n",
       "\n",
       "                                            response_text  \n",
       "count                                                  80  \n",
       "unique                                                 80  \n",
       "top     Simply being there as a friend for somebody wh...  \n",
       "freq                                                    1  "
      ]
     },
     "execution_count": 5,
     "metadata": {},
     "output_type": "execute_result"
    }
   ],
   "source": [
    "data.describe()"
   ]
  },
  {
   "cell_type": "code",
   "execution_count": 6,
   "id": "varying-reproduction",
   "metadata": {},
   "outputs": [
    {
     "data": {
      "text/html": [
       "<div>\n",
       "<style scoped>\n",
       "    .dataframe tbody tr th:only-of-type {\n",
       "        vertical-align: middle;\n",
       "    }\n",
       "\n",
       "    .dataframe tbody tr th {\n",
       "        vertical-align: top;\n",
       "    }\n",
       "\n",
       "    .dataframe thead th {\n",
       "        text-align: right;\n",
       "    }\n",
       "</style>\n",
       "<table border=\"1\" class=\"dataframe\">\n",
       "  <thead>\n",
       "    <tr style=\"text-align: right;\">\n",
       "      <th></th>\n",
       "      <th>resume_id</th>\n",
       "      <th>class</th>\n",
       "      <th>resume_text</th>\n",
       "    </tr>\n",
       "  </thead>\n",
       "  <tbody>\n",
       "    <tr>\n",
       "      <th>0</th>\n",
       "      <td>resume_1</td>\n",
       "      <td>not_flagged</td>\n",
       "      <td>\\rCustomer Service Supervisor/Tier - Isabella ...</td>\n",
       "    </tr>\n",
       "    <tr>\n",
       "      <th>1</th>\n",
       "      <td>resume_2</td>\n",
       "      <td>not_flagged</td>\n",
       "      <td>\\rEngineer / Scientist - IBM Microelectronics ...</td>\n",
       "    </tr>\n",
       "    <tr>\n",
       "      <th>2</th>\n",
       "      <td>resume_3</td>\n",
       "      <td>not_flagged</td>\n",
       "      <td>\\rLTS Software Engineer Computational Lithogra...</td>\n",
       "    </tr>\n",
       "    <tr>\n",
       "      <th>3</th>\n",
       "      <td>resume_4</td>\n",
       "      <td>not_flagged</td>\n",
       "      <td>TUTOR\\rWilliston VT - Email me on Indeed: ind...</td>\n",
       "    </tr>\n",
       "    <tr>\n",
       "      <th>4</th>\n",
       "      <td>resume_5</td>\n",
       "      <td>flagged</td>\n",
       "      <td>\\rIndependent Consultant - Self-employed\\rBurl...</td>\n",
       "    </tr>\n",
       "  </tbody>\n",
       "</table>\n",
       "</div>"
      ],
      "text/plain": [
       "  resume_id        class                                        resume_text\n",
       "0  resume_1  not_flagged  \\rCustomer Service Supervisor/Tier - Isabella ...\n",
       "1  resume_2  not_flagged  \\rEngineer / Scientist - IBM Microelectronics ...\n",
       "2  resume_3  not_flagged  \\rLTS Software Engineer Computational Lithogra...\n",
       "3  resume_4  not_flagged   TUTOR\\rWilliston VT - Email me on Indeed: ind...\n",
       "4  resume_5      flagged  \\rIndependent Consultant - Self-employed\\rBurl..."
      ]
     },
     "execution_count": 6,
     "metadata": {},
     "output_type": "execute_result"
    }
   ],
   "source": [
    "data2 = pd.read_csv('Sheet_2.csv', encoding='latin-1')\n",
    "\n",
    "data2 = data2.rename(columns={\"v1\":\"class\", \"v2\":\"Resumes\"})\n",
    "\n",
    "data2.head()"
   ]
  },
  {
   "cell_type": "code",
   "execution_count": 7,
   "id": "verified-vampire",
   "metadata": {},
   "outputs": [
    {
     "data": {
      "text/plain": [
       "not_flagged    92\n",
       "flagged        33\n",
       "Name: class, dtype: int64"
      ]
     },
     "execution_count": 7,
     "metadata": {},
     "output_type": "execute_result"
    }
   ],
   "source": [
    "data2[\"class\"].value_counts()"
   ]
  },
  {
   "cell_type": "code",
   "execution_count": 8,
   "id": "presidential-brighton",
   "metadata": {},
   "outputs": [
    {
     "data": {
      "text/html": [
       "<div>\n",
       "<style scoped>\n",
       "    .dataframe tbody tr th:only-of-type {\n",
       "        vertical-align: middle;\n",
       "    }\n",
       "\n",
       "    .dataframe tbody tr th {\n",
       "        vertical-align: top;\n",
       "    }\n",
       "\n",
       "    .dataframe thead th {\n",
       "        text-align: right;\n",
       "    }\n",
       "</style>\n",
       "<table border=\"1\" class=\"dataframe\">\n",
       "  <thead>\n",
       "    <tr style=\"text-align: right;\">\n",
       "      <th></th>\n",
       "      <th>resume_id</th>\n",
       "      <th>class</th>\n",
       "      <th>resume_text</th>\n",
       "    </tr>\n",
       "  </thead>\n",
       "  <tbody>\n",
       "    <tr>\n",
       "      <th>count</th>\n",
       "      <td>125</td>\n",
       "      <td>125</td>\n",
       "      <td>125</td>\n",
       "    </tr>\n",
       "    <tr>\n",
       "      <th>unique</th>\n",
       "      <td>125</td>\n",
       "      <td>2</td>\n",
       "      <td>125</td>\n",
       "    </tr>\n",
       "    <tr>\n",
       "      <th>top</th>\n",
       "      <td>resume_87</td>\n",
       "      <td>not_flagged</td>\n",
       "      <td>Caroline Clauson Work Study Student\\rBrattlebo...</td>\n",
       "    </tr>\n",
       "    <tr>\n",
       "      <th>freq</th>\n",
       "      <td>1</td>\n",
       "      <td>92</td>\n",
       "      <td>1</td>\n",
       "    </tr>\n",
       "  </tbody>\n",
       "</table>\n",
       "</div>"
      ],
      "text/plain": [
       "        resume_id        class  \\\n",
       "count         125          125   \n",
       "unique        125            2   \n",
       "top     resume_87  not_flagged   \n",
       "freq            1           92   \n",
       "\n",
       "                                              resume_text  \n",
       "count                                                 125  \n",
       "unique                                                125  \n",
       "top     Caroline Clauson Work Study Student\\rBrattlebo...  \n",
       "freq                                                    1  "
      ]
     },
     "execution_count": 8,
     "metadata": {},
     "output_type": "execute_result"
    }
   ],
   "source": [
    "data2.describe()"
   ]
  },
  {
   "cell_type": "markdown",
   "id": "demanding-steel",
   "metadata": {},
   "source": [
    "There are no missing values in either dataset. Let's move on to EDA."
   ]
  },
  {
   "cell_type": "markdown",
   "id": "thrown-collapse",
   "metadata": {},
   "source": [
    "## Explore the Data<a id='Explore_the_Data'></a>"
   ]
  },
  {
   "cell_type": "code",
   "execution_count": 9,
   "id": "approved-dependence",
   "metadata": {},
   "outputs": [
    {
     "data": {
      "image/png": "[encoded data removed]",
      "text/plain": [
       "<Figure size 432x288 with 1 Axes>"
      ]
     },
     "metadata": {
      "needs_background": "light"
     },
     "output_type": "display_data"
    }
   ],
   "source": [
    "## Bag of response words\n",
    "\n",
    "from wordcloud import WordCloud, STOPWORDS\n",
    "import matplotlib.pyplot as plt\n",
    "\n",
    "def wordcloud(dataframe):\n",
    "    stopwords = set(STOPWORDS)\n",
    "    wordcloud = WordCloud(background_color=\"white\",stopwords=stopwords).generate(\" \".join([i for i in dataframe.str.upper()]))\n",
    "    plt.imshow(wordcloud)\n",
    "    plt.axis(\"off\")\n",
    "    plt.title(\"Bag of Words\")\n",
    "\n",
    "wordcloud(data['response_text'])"
   ]
  },
  {
   "cell_type": "markdown",
   "id": "mental-amber",
   "metadata": {},
   "source": [
    "The most popular words in chatbot responses are 'friend', 'people',  and 'helped'. "
   ]
  },
  {
   "cell_type": "code",
   "execution_count": 10,
   "id": "forty-bahamas",
   "metadata": {},
   "outputs": [
    {
     "data": {
      "image/png": "[encoded data removed]",
      "text/plain": [
       "<Figure size 432x288 with 1 Axes>"
      ]
     },
     "metadata": {
      "needs_background": "light"
     },
     "output_type": "display_data"
    }
   ],
   "source": [
    "# Bag of resume words\n",
    "\n",
    "wordcloud(data2['resume_text'])  "
   ]
  },
  {
   "cell_type": "markdown",
   "id": "three-luther",
   "metadata": {},
   "source": [
    "The most popular words in the data science resumes are 'research', 'data', and 'development'."
   ]
  },
  {
   "cell_type": "markdown",
   "id": "opposed-colleague",
   "metadata": {},
   "source": [
    "## Visualizing Data<a id='Visualizing_Data'></a>"
   ]
  },
  {
   "cell_type": "markdown",
   "id": "minor-server",
   "metadata": {},
   "source": [
    "## Word Frequency Analysis<a id='_Word_Frequency_Analysis'></a>"
   ]
  },
  {
   "cell_type": "code",
   "execution_count": 11,
   "id": "private-carter",
   "metadata": {},
   "outputs": [],
   "source": [
    "import matplotlib.pyplot as plt\n",
    "import seaborn as sns\n",
    "from collections import Counter\n",
    "from sklearn.decomposition import PCA\n",
    "from sklearn.preprocessing import scale\n",
    "pd.set_option('display.max_columns', 100)"
   ]
  },
  {
   "cell_type": "code",
   "execution_count": 12,
   "id": "complex-forwarding",
   "metadata": {},
   "outputs": [
    {
     "data": {
      "text/plain": [
       "Text(0, 0.5, 'Count')"
      ]
     },
     "execution_count": 12,
     "metadata": {},
     "output_type": "execute_result"
    },
    {
     "data": {
      "image/png": "[encoded data removed]",
      "text/plain": [
       "<Figure size 432x288 with 1 Axes>"
      ]
     },
     "metadata": {
      "needs_background": "light"
     },
     "output_type": "display_data"
    }
   ],
   "source": [
    "data['response_text'].str.len().hist()\n",
    "plt.title('Word Frequency Analysis in Responses')\n",
    "plt.xlabel('Number of Characters')\n",
    "plt.ylabel('Count')"
   ]
  },
  {
   "cell_type": "markdown",
   "id": "compact-blast",
   "metadata": {},
   "source": [
    "Most responses contain less than 200 words. There is one case where the response was greater than 1400 words."
   ]
  },
  {
   "cell_type": "code",
   "execution_count": 13,
   "id": "proof-superintendent",
   "metadata": {},
   "outputs": [
    {
     "data": {
      "text/plain": [
       "Text(0, 0.5, 'Count')"
      ]
     },
     "execution_count": 13,
     "metadata": {},
     "output_type": "execute_result"
    },
    {
     "data": {
      "image/png": "[encoded data removed]",
      "text/plain": [
       "<Figure size 432x288 with 1 Axes>"
      ]
     },
     "metadata": {
      "needs_background": "light"
     },
     "output_type": "display_data"
    }
   ],
   "source": [
    "data2['resume_text'].str.len().hist()\n",
    "plt.title('Word Frequency Analysis in Resumes')\n",
    "plt.xlabel('Number of Characters')\n",
    "plt.ylabel('Count')"
   ]
  },
  {
   "cell_type": "markdown",
   "id": "ultimate-scottish",
   "metadata": {},
   "source": [
    "Most resumes contain around 5000 words. There is one outlier with almost 17500 words!"
   ]
  },
  {
   "cell_type": "markdown",
   "id": "irish-least",
   "metadata": {},
   "source": [
    "## Sentence Length Analysis<a id='_Sentence_Length_Analysis'></a>"
   ]
  },
  {
   "cell_type": "code",
   "execution_count": 14,
   "id": "professional-accommodation",
   "metadata": {},
   "outputs": [
    {
     "data": {
      "text/plain": [
       "Text(0, 0.5, 'Count')"
      ]
     },
     "execution_count": 14,
     "metadata": {},
     "output_type": "execute_result"
    },
    {
     "data": {
      "image/png": "[encoded data removed]",
      "text/plain": [
       "<Figure size 432x288 with 1 Axes>"
      ]
     },
     "metadata": {
      "needs_background": "light"
     },
     "output_type": "display_data"
    }
   ],
   "source": [
    "data['response_text'].str.split().\\\n",
    "    map(lambda x: len(x)).\\\n",
    "    hist()\n",
    "plt.title('Sentence Length Analysis')\n",
    "plt.xlabel('Number of Words In Responses')\n",
    "plt.ylabel('Count')"
   ]
  },
  {
   "cell_type": "markdown",
   "id": "demographic-arbor",
   "metadata": {},
   "source": [
    "Most chatbot responses contain around 25 words."
   ]
  },
  {
   "cell_type": "code",
   "execution_count": 15,
   "id": "smaller-birth",
   "metadata": {},
   "outputs": [
    {
     "data": {
      "text/plain": [
       "Text(0, 0.5, 'Count')"
      ]
     },
     "execution_count": 15,
     "metadata": {},
     "output_type": "execute_result"
    },
    {
     "data": {
      "image/png": "[encoded data removed]",
      "text/plain": [
       "<Figure size 432x288 with 1 Axes>"
      ]
     },
     "metadata": {
      "needs_background": "light"
     },
     "output_type": "display_data"
    }
   ],
   "source": [
    "data2['resume_text'].str.split().\\\n",
    "    map(lambda x: len(x)).\\\n",
    "    hist()\n",
    "plt.title('Sentence Length Analysis')\n",
    "plt.xlabel('Number of Words In Resumes')\n",
    "plt.ylabel('Count')"
   ]
  },
  {
   "cell_type": "markdown",
   "id": "subject-blend",
   "metadata": {},
   "source": [
    "Most resumes contain around 500 - 750 words."
   ]
  },
  {
   "cell_type": "markdown",
   "id": "vulnerable-gamma",
   "metadata": {},
   "source": [
    "## Average Word Length Analysis<a id='_Average_Word_Length_Analysis'></a>"
   ]
  },
  {
   "cell_type": "code",
   "execution_count": 16,
   "id": "equal-information",
   "metadata": {},
   "outputs": [
    {
     "data": {
      "text/plain": [
       "Text(0, 0.5, 'Count')"
      ]
     },
     "execution_count": 16,
     "metadata": {},
     "output_type": "execute_result"
    },
    {
     "data": {
      "image/png": "[encoded data removed]",
      "text/plain": [
       "<Figure size 432x288 with 1 Axes>"
      ]
     },
     "metadata": {
      "needs_background": "light"
     },
     "output_type": "display_data"
    }
   ],
   "source": [
    "data['response_text'].str.split().\\\n",
    "   apply(lambda x : [len(i) for i in x]). \\\n",
    "   map(lambda x: np.mean(x)).hist()\n",
    "plt.title('Average Word Length Analysis')\n",
    "plt.xlabel('Average Number of Letters In Responses')\n",
    "plt.ylabel('Count')"
   ]
  },
  {
   "cell_type": "markdown",
   "id": "billion-spelling",
   "metadata": {},
   "source": [
    "The average word in chatbot responses contain 4 letters. These 4 letter words occured most frequently."
   ]
  },
  {
   "cell_type": "code",
   "execution_count": 17,
   "id": "sunset-coordination",
   "metadata": {},
   "outputs": [
    {
     "data": {
      "text/plain": [
       "Text(0, 0.5, 'Count')"
      ]
     },
     "execution_count": 17,
     "metadata": {},
     "output_type": "execute_result"
    },
    {
     "data": {
      "image/png": "[encoded data removed]",
      "text/plain": [
       "<Figure size 432x288 with 1 Axes>"
      ]
     },
     "metadata": {
      "needs_background": "light"
     },
     "output_type": "display_data"
    }
   ],
   "source": [
    "data2['resume_text'].str.split().\\\n",
    "   apply(lambda x : [len(i) for i in x]). \\\n",
    "   map(lambda x: np.mean(x)).hist()\n",
    "plt.title('Average Word Length Analysis')\n",
    "plt.xlabel('Average Number of Letters In Responses')\n",
    "plt.ylabel('Count')"
   ]
  },
  {
   "cell_type": "markdown",
   "id": "growing-violin",
   "metadata": {},
   "source": [
    "The average word length in the resume text contains 6 letters."
   ]
  },
  {
   "cell_type": "markdown",
   "id": "diverse-boutique",
   "metadata": {},
   "source": [
    "## Tokenization and Lemmitization<a id='_Tokenization_and_Lemmitization'></a>"
   ]
  },
  {
   "cell_type": "code",
   "execution_count": 18,
   "id": "configured-beach",
   "metadata": {},
   "outputs": [],
   "source": [
    "from nltk.corpus import stopwords\n",
    "from sklearn.feature_extraction.text import CountVectorizer\n",
    "from sklearn.model_selection import train_test_split\n",
    "from sklearn.naive_bayes import GaussianNB"
   ]
  },
  {
   "cell_type": "code",
   "execution_count": 19,
   "id": "square-backing",
   "metadata": {},
   "outputs": [
    {
     "data": {
      "text/plain": [
       "'Took a week off work, packed up the car and picked up a friend who was on the verge of losing it and went camping/surfing for a week. His parents were a big part of the problem and being away from them and others and physical activity every day for a week. but more just being around helped i feel.'"
      ]
     },
     "execution_count": 19,
     "metadata": {},
     "output_type": "execute_result"
    }
   ],
   "source": [
    "data.response_text[10]"
   ]
  },
  {
   "cell_type": "code",
   "execution_count": 20,
   "id": "boxed-centre",
   "metadata": {},
   "outputs": [
    {
     "name": "stdout",
     "output_type": "stream",
     "text": [
      "took a week off work  packed up the car and picked up a friend who was on the verge of losing it and went camping surfing for a week  his parents were a big part of the problem and being away from them and others and physical activity every day for a week  but more just being around helped i feel \n"
     ]
    }
   ],
   "source": [
    "import re\n",
    "import nltk\n",
    "first_text = data.response_text[10]\n",
    "text = re.sub(\"[^a-zA-Z]\",\" \",first_text)\n",
    "text = text.lower() \n",
    "print(text)"
   ]
  },
  {
   "cell_type": "markdown",
   "id": "liberal-layer",
   "metadata": {},
   "source": [
    "Removing punctuation using regular expression and converting text to lower case for consistency."
   ]
  },
  {
   "cell_type": "code",
   "execution_count": 21,
   "id": "thirty-syntax",
   "metadata": {},
   "outputs": [
    {
     "name": "stdout",
     "output_type": "stream",
     "text": [
      "['took', 'week', 'work', 'packed', 'car', 'picked', 'friend', 'verge', 'losing', 'went', 'camping', 'surfing', 'week', 'parents', 'big', 'part', 'problem', 'away', 'others', 'physical', 'activity', 'every', 'day', 'week', 'around', 'helped', 'feel']\n"
     ]
    },
    {
     "name": "stderr",
     "output_type": "stream",
     "text": [
      "[nltk_data] Downloading package stopwords to\n",
      "[nltk_data]     C:\\Users\\daenj\\AppData\\Roaming\\nltk_data...\n",
      "[nltk_data]   Package stopwords is already up-to-date!\n"
     ]
    }
   ],
   "source": [
    "nltk.download(\"stopwords\")     \n",
    "\n",
    "text = nltk.word_tokenize(text)\n",
    "\n",
    "text = [ word for word in text if not word in set(stopwords.words(\"english\"))]\n",
    "print(text)"
   ]
  },
  {
   "cell_type": "code",
   "execution_count": 22,
   "id": "varied-throw",
   "metadata": {},
   "outputs": [
    {
     "name": "stdout",
     "output_type": "stream",
     "text": [
      "['take', 'week', 'work', 'pack', 'car', 'pick', 'friend', 'verge', 'lose', 'go', 'camp', 'surf', 'week', 'parent', 'big', 'part', 'problem', 'away', 'others', 'physical', 'activity', 'every', 'day', 'week', 'around', 'help', 'feel']\n"
     ]
    }
   ],
   "source": [
    "import nltk as nlp\n",
    "from nltk.stem.wordnet import WordNetLemmatizer\n",
    "lemmatizer = WordNetLemmatizer()\n",
    "text = [(lemmatizer.lemmatize(lemmatizer.lemmatize(lemmatizer.lemmatize(word, \"n\"),pos = \"v\"),pos=\"a\")) for word in text]\n",
    "print(text)"
   ]
  },
  {
   "cell_type": "markdown",
   "id": "recovered-timber",
   "metadata": {},
   "source": [
    "The same process as above will be repeated for the resume data."
   ]
  },
  {
   "cell_type": "code",
   "execution_count": 23,
   "id": "classified-challenge",
   "metadata": {},
   "outputs": [],
   "source": [
    "data2 = pd.read_csv(\"Sheet_2.csv\",encoding= \"latin1\" )"
   ]
  },
  {
   "cell_type": "code",
   "execution_count": 24,
   "id": "communist-plaza",
   "metadata": {},
   "outputs": [
    {
     "data": {
      "text/html": [
       "<div>\n",
       "<style scoped>\n",
       "    .dataframe tbody tr th:only-of-type {\n",
       "        vertical-align: middle;\n",
       "    }\n",
       "\n",
       "    .dataframe tbody tr th {\n",
       "        vertical-align: top;\n",
       "    }\n",
       "\n",
       "    .dataframe thead th {\n",
       "        text-align: right;\n",
       "    }\n",
       "</style>\n",
       "<table border=\"1\" class=\"dataframe\">\n",
       "  <thead>\n",
       "    <tr style=\"text-align: right;\">\n",
       "      <th></th>\n",
       "      <th>resume_id</th>\n",
       "      <th>class</th>\n",
       "      <th>resume_text</th>\n",
       "    </tr>\n",
       "  </thead>\n",
       "  <tbody>\n",
       "    <tr>\n",
       "      <th>0</th>\n",
       "      <td>resume_1</td>\n",
       "      <td>not_flagged</td>\n",
       "      <td>\\rCustomer Service Supervisor/Tier - Isabella ...</td>\n",
       "    </tr>\n",
       "    <tr>\n",
       "      <th>1</th>\n",
       "      <td>resume_2</td>\n",
       "      <td>not_flagged</td>\n",
       "      <td>\\rEngineer / Scientist - IBM Microelectronics ...</td>\n",
       "    </tr>\n",
       "    <tr>\n",
       "      <th>2</th>\n",
       "      <td>resume_3</td>\n",
       "      <td>not_flagged</td>\n",
       "      <td>\\rLTS Software Engineer Computational Lithogra...</td>\n",
       "    </tr>\n",
       "    <tr>\n",
       "      <th>3</th>\n",
       "      <td>resume_4</td>\n",
       "      <td>not_flagged</td>\n",
       "      <td>TUTOR\\rWilliston VT - Email me on Indeed: ind...</td>\n",
       "    </tr>\n",
       "    <tr>\n",
       "      <th>4</th>\n",
       "      <td>resume_5</td>\n",
       "      <td>flagged</td>\n",
       "      <td>\\rIndependent Consultant - Self-employed\\rBurl...</td>\n",
       "    </tr>\n",
       "    <tr>\n",
       "      <th>5</th>\n",
       "      <td>resume_6</td>\n",
       "      <td>not_flagged</td>\n",
       "      <td>\\rPoultney VT - Email me on Indeed: indeed.com...</td>\n",
       "    </tr>\n",
       "    <tr>\n",
       "      <th>6</th>\n",
       "      <td>resume_7</td>\n",
       "      <td>not_flagged</td>\n",
       "      <td>\\rMedical Laboratory Scientist (Special Chemis...</td>\n",
       "    </tr>\n",
       "    <tr>\n",
       "      <th>7</th>\n",
       "      <td>resume_8</td>\n",
       "      <td>flagged</td>\n",
       "      <td>Statistician\\rBurlington VT - Email me on Inde...</td>\n",
       "    </tr>\n",
       "    <tr>\n",
       "      <th>8</th>\n",
       "      <td>resume_9</td>\n",
       "      <td>not_flagged</td>\n",
       "      <td>Research technician\\rBurlington VT - Email me ...</td>\n",
       "    </tr>\n",
       "    <tr>\n",
       "      <th>9</th>\n",
       "      <td>resume_10</td>\n",
       "      <td>not_flagged</td>\n",
       "      <td>Barbara Hennessey-Elzohairy\\rNewport VT - Emai...</td>\n",
       "    </tr>\n",
       "  </tbody>\n",
       "</table>\n",
       "</div>"
      ],
      "text/plain": [
       "   resume_id        class                                        resume_text\n",
       "0   resume_1  not_flagged  \\rCustomer Service Supervisor/Tier - Isabella ...\n",
       "1   resume_2  not_flagged  \\rEngineer / Scientist - IBM Microelectronics ...\n",
       "2   resume_3  not_flagged  \\rLTS Software Engineer Computational Lithogra...\n",
       "3   resume_4  not_flagged   TUTOR\\rWilliston VT - Email me on Indeed: ind...\n",
       "4   resume_5      flagged  \\rIndependent Consultant - Self-employed\\rBurl...\n",
       "5   resume_6  not_flagged  \\rPoultney VT - Email me on Indeed: indeed.com...\n",
       "6   resume_7  not_flagged  \\rMedical Laboratory Scientist (Special Chemis...\n",
       "7   resume_8      flagged  Statistician\\rBurlington VT - Email me on Inde...\n",
       "8   resume_9  not_flagged  Research technician\\rBurlington VT - Email me ...\n",
       "9  resume_10  not_flagged  Barbara Hennessey-Elzohairy\\rNewport VT - Emai..."
      ]
     },
     "execution_count": 24,
     "metadata": {},
     "output_type": "execute_result"
    }
   ],
   "source": [
    "data2.head(10)"
   ]
  },
  {
   "cell_type": "code",
   "execution_count": 25,
   "id": "scenic-minnesota",
   "metadata": {},
   "outputs": [],
   "source": [
    "first_text = data2.resume_text[10]\n",
    "text = re.sub(\"[^a-zA-Z]\",\" \",first_text)\n",
    "text = text.lower() "
   ]
  },
  {
   "cell_type": "code",
   "execution_count": 26,
   "id": "about-leone",
   "metadata": {},
   "outputs": [
    {
     "name": "stderr",
     "output_type": "stream",
     "text": [
      "[nltk_data] Downloading package stopwords to\n",
      "[nltk_data]     C:\\Users\\daenj\\AppData\\Roaming\\nltk_data...\n",
      "[nltk_data]   Package stopwords is already up-to-date!\n"
     ]
    },
    {
     "name": "stdout",
     "output_type": "stream",
     "text": [
      "['barbara', 'kurth', 'research', 'assistant', 'professor', 'clinical', 'research', 'navigation', 'tulane', 'university', 'health', 'sciences', 'center', 'louisiana', 'state', 'university', 'charlotte', 'vt', 'email', 'indeed', 'indeed', 'com', 'r', 'barbara', 'kurth', 'f', 'e', 'f', 'fab', 'work', 'experience', 'research', 'assistant', 'professor', 'clinical', 'research', 'navigation', 'tulane', 'university', 'health', 'sciences', 'center', 'louisiana', 'state', 'university', 'new', 'orleans', 'la', 'present', 'health', 'sciences', 'center', 'new', 'orleans', 'la', 'research', 'assistant', 'professor', 'clinical', 'research', 'navigation', 'provide', 'regulatory', 'expertise', 'advice', 'administration', 'medical', 'faculty', 'staff', 'ensure', 'clinical', 'research', 'protocols', 'meet', 'institutional', 'governmental', 'regulations', 'inception', 'approval', 'services', 'include', 'advising', 'assisting', 'investigators', 'drafting', 'generation', 'research', 'protocols', 'using', 'ich', 'gcp', 'guidelines', 'ensuring', 'appropriate', 'input', 'biostatisticians', 'bioinformaticists', 'intellectual', 'property', 'officers', 'contracting', 'officers', 'clinical', 'research', 'proposals', 'guiding', 'researchers', 'oversight', 'informed', 'consents', 'studies', 'using', 'irb', 'guidelines', 'guiding', 'researchers', 'processing', 'necessary', 'paperwork', 'activate', 'investigator', 'initiated', 'pharmaceutical', 'studies', 'including', 'site', 'agreements', 'budgets', 'informed', 'consents', 'license', 'requirements', 'etc', 'facilitating', 'input', 'electronic', 'protocol', 'management', 'work', 'experience', 'continued', 'providing', 'editorial', 'assistance', 'writing', 'revising', 'protocol', 'consent', 'forms', 'requested', 'various', 'committees', 'assisting', 'researchers', 'needed', 'ensure', 'submissions', 'satisfy', 'regulatory', 'criteria', 'irb', 'fda', 'ind', 'ide', 'k', 'etc', 'assisting', 'researchers', 'regulations', 'regarding', 'glp', 'cgmp', 'needed', 'working', 'researchers', 'oversee', 'establishment', 'study', 'budget', 'working', 'researchers', 'strategize', 'proper', 'accrual', 'patients', 'data', 'acquisition', 'data', 'analysis', 'reporting', 'teaching', 'protocol', 'design', 'writing', 'masters', 'science', 'clinical', 'research', 'program', 'research', 'assistant', 'professor', 'clinical', 'trials', 'scientist', 'university', 'virginia', 'cancer', 'center', 'charlottesville', 'va', 'clinical', 'trial', 'development', 'physicians', 'needing', 'assistance', 'guidance', 'including', 'protocol', 'writing', 'regulatory', 'submissions', 'cancer', 'trials', 'developed', 'photodynamic', 'therapy', 'non', 'resectable', 'cholangiocarcinoma', 'phase', 'ii', 'pilot', 'study', 'use', 'high', 'dose', 'estradiol', 'women', 'breast', 'cancer', 'role', 'apoptosis', 'single', 'arm', 'phase', 'ii', 'clinical', 'trial', 'neoadjuvant', 'chemotherapy', 'treatment', 'advanced', 'stage', 'epithelial', 'ovarian', 'primary', 'peritoneal', 'fallopian', 'tube', 'cancers', 'pilot', 'study', 'evaluating', 'massage', 'therapy', 'cancer', 'patients', 'undergoing', 'treatment', 'acute', 'myeloid', 'leukemia', 'use', 'attitudes', 'toward', 'complementary', 'alternative', 'medicine', 'lung', 'cancer', 'patients', 'academic', 'medical', 'center', 'pilot', 'feasibility', 'dosimetry', 'study', 'topotherapy', 'whole', 'breast', 'irradiation', 'patients', 'undergoing', 'breast', 'conservation', 'therapy', 'stages', 'iia', 'breast', 'carcinoma', 'hormone', 'sensitive', 'progressive', 'metastatic', 'breast', 'cancer', 'group', 'b', 'work', 'experience', 'continued', 'phase', 'ii', 'study', 'dasatinib', 'plus', 'capecitabine', 'paclitaxel', 'refractory', 'metastatic', 'breast', 'cancer', 'group', 'dasatinib', 'plus', 'fulvestrant', 'effector', 'mechanisms', 'targeting', 'mab', 'opsonized', 'malignant', 'b', 'cells', 'killing', 'shaving', 'either', 'circulating', 'b', 'cells', 'b', 'cells', 'fixed', 'tissue', 'treatment', 'rituximab', 'rtx', 'chart', 'review', 'minority', 'patients', 'newly', 'diagnosed', 'lung', 'gynecological', 'cancers', 'seen', 'uva', 'calendar', 'year', 'senior', 'scientist', 'university', 'virginia', 'charlottesville', 'va', 'meetings', 'presentations', 'funding', 'agencies', 'private', 'sector', 'responsible', 'compliance', 'issues', 'laboratory', 'responsible', 'writing', 'keeping', 'current', 'human', 'use', 'protocols', 'consents', 'responsible', 'writing', 'keeping', 'current', 'animal', 'use', 'protocols', 'publishing', 'bench', 'work', 'assistant', 'director', 'primate', 'models', 'core', 'university', 'virginia', 'charlottesville', 'va', 'charlottesville', 'va', 'assistant', 'director', 'primate', 'models', 'core', 'established', 'maintained', 'colony', 'cynomolgus', 'macaque', 'use', 'vaccine', 'development', 'prepared', 'vaccine', 'samples', 'sp', 'immunization', 'female', 'macaques', 'using', 'conjugation', 'immunogenic', 'protein', 'carrier', 'oil', 'water', 'water', 'oil', 'emulsions', 'aluminum', 'salt', 'adjuvants', 'explored', 'various', 'routes', 'immunization', 'intramuscular', 'subcutaneous', 'oral', 'salmonella', 'sp', 'intracervical', 'wall', 'intranasal', 'determine', 'efficient', 'means', 'vaccine', 'delivery', 'performed', 'immunizations', 'sperm', 'specific', 'egg', 'specific', 'vaccine', 'preps', 'investigators', 'institutions', 'work', 'experience', 'continued', 'determined', 'immunogenicity', 'vaccine', 'preps', 'macaque', 'cervical', 'mucus', 'oviductal', 'fluid', 'serum', 'iga', 'igg', 'determined', 'activity', 'fluids', 'immunized', 'macaques', 'vitro', 'assays', 'isolated', 'peripheral', 'blood', 'lymphocytes', 'research', 'associate', 'research', 'fellow', 'university', 'virginia', 'charlottesville', 'va', 'isolated', 'localized', 'sp', 'protein', 'sperm', 'determine', 'tissue', 'specificity', 'protein', 'mrna', 'level', 'employed', 'western', 'blots', 'determine', 'purity', 'isolated', 'sp', 'protein', 'prior', 'vaccine', 'preparation', 'employed', 'northern', 'blot', 'technique', 'determine', 'appropriate', 'animal', 'model', 'vaccine', 'efficacy', 'employed', 'various', 'forms', 'microscopy', 'elucidate', 'localization', 'timing', 'expression', 'sp', 'protein', 'spermatogenesis', 'research', 'experience', 'cell', 'tissue', 'culture', 'vaccine', 'preparation', 'delivery', 'adjuvanted', 'nonadjuvanted', 'emulsions', 'vehicle', 'carriers', 'salmonella', 'sp', 'po', 'sq', 'im', 'electrophoresis', 'protein', 'nucleic', 'acid', 'microscopy', 'optical', 'bright', 'field', 'phase', 'contrast', 'fluorescence', 'dark', 'field', 'tem', 'sem', 'photography', 'preparation', 'microscopy', 'fixation', 'embedding', 'sectioning', 'lm', 'em', 'slide', 'prep', 'situ', 'hybridization', 'h', 'brdu', 'immunoassays', 'ich', 'elisa', 'western', 'cell', 'dna', 'rna', 'isolation', 'gradient', 'northern', 'training', 'experience', 'awic', 'animal', 'welfare', 'information', 'center', 'workshop', 'beltsville', 'fdli', 'educational', 'conference', 'washington', 'dc', 'clinical', 'investigations', 'changing', 'expectations', 'regulatory', 'requirements', 'washington', 'dc', 'changing', 'regulatory', 'environment', 'irbs', 'impact', 'irbs', 'sponsors', 'cros', 'washington', 'dc', 'medical', 'technology', 'course', 'students', 'law', 'medical', 'school', 'uva', 'charlottesville', 'va', 'clinical', 'research', 'coordinators', 'continuing', 'education', 'series', 'uva', 'charlottesville', 'va', 'education', 'ph', 'molecular', 'cellular', 'biology', 'pathobiology', 'medical', 'university', 'south', 'carolina', 'charleston', 'sc', 'b', 'biology', 'trinity', 'college', 'burlington', 'vt']\n"
     ]
    }
   ],
   "source": [
    "nltk.download(\"stopwords\")     \n",
    "\n",
    "text = nltk.word_tokenize(text)\n",
    "\n",
    "text = [ word for word in text if not word in set(stopwords.words(\"english\"))]\n",
    "print(text)"
   ]
  },
  {
   "cell_type": "code",
   "execution_count": 27,
   "id": "informal-palestinian",
   "metadata": {},
   "outputs": [
    {
     "name": "stdout",
     "output_type": "stream",
     "text": [
      "['barbara', 'kurth', 'research', 'assistant', 'professor', 'clinical', 'research', 'navigation', 'tulane', 'university', 'health', 'science', 'center', 'louisiana', 'state', 'university', 'charlotte', 'vt', 'email', 'indeed', 'indeed', 'com', 'r', 'barbara', 'kurth', 'f', 'e', 'f', 'fab', 'work', 'experience', 'research', 'assistant', 'professor', 'clinical', 'research', 'navigation', 'tulane', 'university', 'health', 'science', 'center', 'louisiana', 'state', 'university', 'new', 'orleans', 'la', 'present', 'health', 'science', 'center', 'new', 'orleans', 'la', 'research', 'assistant', 'professor', 'clinical', 'research', 'navigation', 'provide', 'regulatory', 'expertise', 'advice', 'administration', 'medical', 'faculty', 'staff', 'ensure', 'clinical', 'research', 'protocol', 'meet', 'institutional', 'governmental', 'regulation', 'inception', 'approval', 'service', 'include', 'advise', 'assist', 'investigator', 'draft', 'generation', 'research', 'protocol', 'use', 'ich', 'gcp', 'guideline', 'ensure', 'appropriate', 'input', 'biostatisticians', 'bioinformaticists', 'intellectual', 'property', 'officer', 'contract', 'officer', 'clinical', 'research', 'proposal', 'guide', 'researcher', 'oversight', 'inform', 'consent', 'study', 'use', 'irb', 'guideline', 'guide', 'researcher', 'process', 'necessary', 'paperwork', 'activate', 'investigator', 'initiate', 'pharmaceutical', 'study', 'include', 'site', 'agreement', 'budget', 'inform', 'consent', 'license', 'requirement', 'etc', 'facilitate', 'input', 'electronic', 'protocol', 'management', 'work', 'experience', 'continue', 'provide', 'editorial', 'assistance', 'write', 'revise', 'protocol', 'consent', 'form', 'request', 'various', 'committee', 'assist', 'researcher', 'need', 'ensure', 'submission', 'satisfy', 'regulatory', 'criterion', 'irb', 'fda', 'ind', 'ide', 'k', 'etc', 'assist', 'researcher', 'regulation', 'regard', 'glp', 'cgmp', 'need', 'work', 'researcher', 'oversee', 'establishment', 'study', 'budget', 'work', 'researcher', 'strategize', 'proper', 'accrual', 'patient', 'data', 'acquisition', 'data', 'analysis', 'report', 'teach', 'protocol', 'design', 'write', 'master', 'science', 'clinical', 'research', 'program', 'research', 'assistant', 'professor', 'clinical', 'trial', 'scientist', 'university', 'virginia', 'cancer', 'center', 'charlottesville', 'va', 'clinical', 'trial', 'development', 'physician', 'need', 'assistance', 'guidance', 'include', 'protocol', 'write', 'regulatory', 'submission', 'cancer', 'trial', 'develop', 'photodynamic', 'therapy', 'non', 'resectable', 'cholangiocarcinoma', 'phase', 'ii', 'pilot', 'study', 'use', 'high', 'dose', 'estradiol', 'woman', 'breast', 'cancer', 'role', 'apoptosis', 'single', 'arm', 'phase', 'ii', 'clinical', 'trial', 'neoadjuvant', 'chemotherapy', 'treatment', 'advance', 'stage', 'epithelial', 'ovarian', 'primary', 'peritoneal', 'fallopian', 'tube', 'cancer', 'pilot', 'study', 'evaluate', 'massage', 'therapy', 'cancer', 'patient', 'undergo', 'treatment', 'acute', 'myeloid', 'leukemia', 'use', 'attitude', 'toward', 'complementary', 'alternative', 'medicine', 'lung', 'cancer', 'patient', 'academic', 'medical', 'center', 'pilot', 'feasibility', 'dosimetry', 'study', 'topotherapy', 'whole', 'breast', 'irradiation', 'patient', 'undergo', 'breast', 'conservation', 'therapy', 'stage', 'iia', 'breast', 'carcinoma', 'hormone', 'sensitive', 'progressive', 'metastatic', 'breast', 'cancer', 'group', 'b', 'work', 'experience', 'continue', 'phase', 'ii', 'study', 'dasatinib', 'plus', 'capecitabine', 'paclitaxel', 'refractory', 'metastatic', 'breast', 'cancer', 'group', 'dasatinib', 'plus', 'fulvestrant', 'effector', 'mechanism', 'target', 'mab', 'opsonize', 'malignant', 'b', 'cell', 'kill', 'shave', 'either', 'circulate', 'b', 'cell', 'b', 'cell', 'fix', 'tissue', 'treatment', 'rituximab', 'rtx', 'chart', 'review', 'minority', 'patient', 'newly', 'diagnose', 'lung', 'gynecological', 'cancer', 'see', 'uva', 'calendar', 'year', 'senior', 'scientist', 'university', 'virginia', 'charlottesville', 'va', 'meet', 'presentation', 'fund', 'agency', 'private', 'sector', 'responsible', 'compliance', 'issue', 'laboratory', 'responsible', 'write', 'keep', 'current', 'human', 'use', 'protocol', 'consent', 'responsible', 'write', 'keep', 'current', 'animal', 'use', 'protocol', 'publish', 'bench', 'work', 'assistant', 'director', 'primate', 'model', 'core', 'university', 'virginia', 'charlottesville', 'va', 'charlottesville', 'va', 'assistant', 'director', 'primate', 'model', 'core', 'establish', 'maintain', 'colony', 'cynomolgus', 'macaque', 'use', 'vaccine', 'development', 'prepare', 'vaccine', 'sample', 'sp', 'immunization', 'female', 'macaque', 'use', 'conjugation', 'immunogenic', 'protein', 'carrier', 'oil', 'water', 'water', 'oil', 'emulsion', 'aluminum', 'salt', 'adjuvant', 'explore', 'various', 'route', 'immunization', 'intramuscular', 'subcutaneous', 'oral', 'salmonella', 'sp', 'intracervical', 'wall', 'intranasal', 'determine', 'efficient', 'mean', 'vaccine', 'delivery', 'perform', 'immunization', 'sperm', 'specific', 'egg', 'specific', 'vaccine', 'prep', 'investigator', 'institution', 'work', 'experience', 'continue', 'determine', 'immunogenicity', 'vaccine', 'prep', 'macaque', 'cervical', 'mucus', 'oviductal', 'fluid', 'serum', 'iga', 'igg', 'determine', 'activity', 'fluid', 'immunize', 'macaque', 'vitro', 'assay', 'isolate', 'peripheral', 'blood', 'lymphocyte', 'research', 'associate', 'research', 'fellow', 'university', 'virginia', 'charlottesville', 'va', 'isolate', 'localize', 'sp', 'protein', 'sperm', 'determine', 'tissue', 'specificity', 'protein', 'mrna', 'level', 'employ', 'western', 'blot', 'determine', 'purity', 'isolate', 'sp', 'protein', 'prior', 'vaccine', 'preparation', 'employ', 'northern', 'blot', 'technique', 'determine', 'appropriate', 'animal', 'model', 'vaccine', 'efficacy', 'employ', 'various', 'form', 'microscopy', 'elucidate', 'localization', 'time', 'expression', 'sp', 'protein', 'spermatogenesis', 'research', 'experience', 'cell', 'tissue', 'culture', 'vaccine', 'preparation', 'delivery', 'adjuvanted', 'nonadjuvanted', 'emulsion', 'vehicle', 'carrier', 'salmonella', 'sp', 'po', 'sq', 'im', 'electrophoresis', 'protein', 'nucleic', 'acid', 'microscopy', 'optical', 'bright', 'field', 'phase', 'contrast', 'fluorescence', 'dark', 'field', 'tem', 'sem', 'photography', 'preparation', 'microscopy', 'fixation', 'embed', 'section', 'lm', 'em', 'slide', 'prep', 'situ', 'hybridization', 'h', 'brdu', 'immunoassay', 'ich', 'elisa', 'western', 'cell', 'dna', 'rna', 'isolation', 'gradient', 'northern', 'train', 'experience', 'awic', 'animal', 'welfare', 'information', 'center', 'workshop', 'beltsville', 'fdli', 'educational', 'conference', 'washington', 'dc', 'clinical', 'investigation', 'change', 'expectation', 'regulatory', 'requirement', 'washington', 'dc', 'change', 'regulatory', 'environment', 'irbs', 'impact', 'irbs', 'sponsor', 'cro', 'washington', 'dc', 'medical', 'technology', 'course', 'student', 'law', 'medical', 'school', 'uva', 'charlottesville', 'va', 'clinical', 'research', 'coordinator', 'continue', 'education', 'series', 'uva', 'charlottesville', 'va', 'education', 'ph', 'molecular', 'cellular', 'biology', 'pathobiology', 'medical', 'university', 'south', 'carolina', 'charleston', 'sc', 'b', 'biology', 'trinity', 'college', 'burlington', 'vt']\n"
     ]
    }
   ],
   "source": [
    "import nltk as nlp\n",
    "from nltk.stem.wordnet import WordNetLemmatizer\n",
    "lemmatizer = WordNetLemmatizer()\n",
    "text = [(lemmatizer.lemmatize(lemmatizer.lemmatize(lemmatizer.lemmatize(word, \"n\"),pos = \"v\"),pos=\"a\")) for word in text]\n",
    "print(text)"
   ]
  },
  {
   "cell_type": "markdown",
   "id": "fresh-pharmacology",
   "metadata": {},
   "source": [
    "Here is a function that uses regular expression, tokenization, and lemmatization on both the datasets."
   ]
  },
  {
   "cell_type": "code",
   "execution_count": 28,
   "id": "operating-housing",
   "metadata": {},
   "outputs": [],
   "source": [
    "description_list = []\n",
    "for description in data.response_text:\n",
    "    \n",
    "    \n",
    "    description = re.sub(\"[^a-zA-Z]\",\" \",description)\n",
    "    description = description.lower() \n",
    "    \n",
    "    description = nltk.word_tokenize(description)\n",
    "    description = [ word for word in description if not word in set(stopwords.words(\"english\"))]\n",
    "    \n",
    "    lemmatizer = WordNetLemmatizer()\n",
    "    description = (lemmatizer.lemmatize(lemmatizer.lemmatize(lemmatizer.lemmatize(word, \"n\"),pos = \"v\"),pos=\"a\") for word in description)\n",
    "    \n",
    "    description = \" \".join(description)\n",
    "    description_list.append(description)"
   ]
  },
  {
   "cell_type": "code",
   "execution_count": 29,
   "id": "planned-japanese",
   "metadata": {},
   "outputs": [
    {
     "data": {
      "text/plain": [
       "'take week work pack car pick friend verge lose go camp surf week parent big part problem away others physical activity every day week around help feel'"
      ]
     },
     "execution_count": 29,
     "metadata": {},
     "output_type": "execute_result"
    }
   ],
   "source": [
    "description_list[10]"
   ]
  },
  {
   "cell_type": "code",
   "execution_count": 30,
   "id": "ordinary-summary",
   "metadata": {},
   "outputs": [],
   "source": [
    "description_list = []\n",
    "for description in data2.resume_text:\n",
    "    \n",
    "    \n",
    "    description = re.sub(\"[^a-zA-Z]\",\" \",description)\n",
    "    description = description.lower() \n",
    "    \n",
    "    description = nltk.word_tokenize(description)\n",
    "    description = [ word for word in description if not word in set(stopwords.words(\"english\"))]\n",
    "    \n",
    "    lemmatizer = WordNetLemmatizer()\n",
    "    description = (lemmatizer.lemmatize(lemmatizer.lemmatize(lemmatizer.lemmatize(word, \"n\"),pos = \"v\"),pos=\"a\") for word in description)\n",
    "    \n",
    "    description = \" \".join(description)\n",
    "    description_list.append(description)"
   ]
  },
  {
   "cell_type": "code",
   "execution_count": 31,
   "id": "adopted-caribbean",
   "metadata": {},
   "outputs": [
    {
     "data": {
      "text/plain": [
       "'barbara kurth research assistant professor clinical research navigation tulane university health science center louisiana state university charlotte vt email indeed indeed com r barbara kurth f e f fab work experience research assistant professor clinical research navigation tulane university health science center louisiana state university new orleans la present health science center new orleans la research assistant professor clinical research navigation provide regulatory expertise advice administration medical faculty staff ensure clinical research protocol meet institutional governmental regulation inception approval service include advise assist investigator draft generation research protocol use ich gcp guideline ensure appropriate input biostatisticians bioinformaticists intellectual property officer contract officer clinical research proposal guide researcher oversight inform consent study use irb guideline guide researcher process necessary paperwork activate investigator initiate pharmaceutical study include site agreement budget inform consent license requirement etc facilitate input electronic protocol management work experience continue provide editorial assistance write revise protocol consent form request various committee assist researcher need ensure submission satisfy regulatory criterion irb fda ind ide k etc assist researcher regulation regard glp cgmp need work researcher oversee establishment study budget work researcher strategize proper accrual patient data acquisition data analysis report teach protocol design write master science clinical research program research assistant professor clinical trial scientist university virginia cancer center charlottesville va clinical trial development physician need assistance guidance include protocol write regulatory submission cancer trial develop photodynamic therapy non resectable cholangiocarcinoma phase ii pilot study use high dose estradiol woman breast cancer role apoptosis single arm phase ii clinical trial neoadjuvant chemotherapy treatment advance stage epithelial ovarian primary peritoneal fallopian tube cancer pilot study evaluate massage therapy cancer patient undergo treatment acute myeloid leukemia use attitude toward complementary alternative medicine lung cancer patient academic medical center pilot feasibility dosimetry study topotherapy whole breast irradiation patient undergo breast conservation therapy stage iia breast carcinoma hormone sensitive progressive metastatic breast cancer group b work experience continue phase ii study dasatinib plus capecitabine paclitaxel refractory metastatic breast cancer group dasatinib plus fulvestrant effector mechanism target mab opsonize malignant b cell kill shave either circulate b cell b cell fix tissue treatment rituximab rtx chart review minority patient newly diagnose lung gynecological cancer see uva calendar year senior scientist university virginia charlottesville va meet presentation fund agency private sector responsible compliance issue laboratory responsible write keep current human use protocol consent responsible write keep current animal use protocol publish bench work assistant director primate model core university virginia charlottesville va charlottesville va assistant director primate model core establish maintain colony cynomolgus macaque use vaccine development prepare vaccine sample sp immunization female macaque use conjugation immunogenic protein carrier oil water water oil emulsion aluminum salt adjuvant explore various route immunization intramuscular subcutaneous oral salmonella sp intracervical wall intranasal determine efficient mean vaccine delivery perform immunization sperm specific egg specific vaccine prep investigator institution work experience continue determine immunogenicity vaccine prep macaque cervical mucus oviductal fluid serum iga igg determine activity fluid immunize macaque vitro assay isolate peripheral blood lymphocyte research associate research fellow university virginia charlottesville va isolate localize sp protein sperm determine tissue specificity protein mrna level employ western blot determine purity isolate sp protein prior vaccine preparation employ northern blot technique determine appropriate animal model vaccine efficacy employ various form microscopy elucidate localization time expression sp protein spermatogenesis research experience cell tissue culture vaccine preparation delivery adjuvanted nonadjuvanted emulsion vehicle carrier salmonella sp po sq im electrophoresis protein nucleic acid microscopy optical bright field phase contrast fluorescence dark field tem sem photography preparation microscopy fixation embed section lm em slide prep situ hybridization h brdu immunoassay ich elisa western cell dna rna isolation gradient northern train experience awic animal welfare information center workshop beltsville fdli educational conference washington dc clinical investigation change expectation regulatory requirement washington dc change regulatory environment irbs impact irbs sponsor cro washington dc medical technology course student law medical school uva charlottesville va clinical research coordinator continue education series uva charlottesville va education ph molecular cellular biology pathobiology medical university south carolina charleston sc b biology trinity college burlington vt'"
      ]
     },
     "execution_count": 31,
     "metadata": {},
     "output_type": "execute_result"
    }
   ],
   "source": [
    "description_list[10]"
   ]
  },
  {
   "cell_type": "markdown",
   "id": "confidential-lender",
   "metadata": {},
   "source": [
    "## Count Vectorizer<a id='_Count_Vectorizer'></a>"
   ]
  },
  {
   "cell_type": "code",
   "execution_count": 32,
   "id": "minor-montgomery",
   "metadata": {},
   "outputs": [],
   "source": [
    "max_features = 50"
   ]
  },
  {
   "cell_type": "code",
   "execution_count": 33,
   "id": "detected-leader",
   "metadata": {},
   "outputs": [],
   "source": [
    "count_vectorizer = CountVectorizer(max_features=max_features)"
   ]
  },
  {
   "cell_type": "code",
   "execution_count": 34,
   "id": "organic-google",
   "metadata": {},
   "outputs": [],
   "source": [
    "sparce_matrix = count_vectorizer.fit_transform(description_list).toarray()"
   ]
  },
  {
   "cell_type": "code",
   "execution_count": 35,
   "id": "duplicate-republic",
   "metadata": {},
   "outputs": [
    {
     "name": "stdout",
     "output_type": "stream",
     "text": [
      "Top 50 Most Used Words: ['analysis', 'assistant', 'august', 'college', 'com', 'data', 'design', 'develop', 'development', 'education', 'engineer', 'environmental', 'experience', 'include', 'indeed', 'information', 'june', 'laboratory', 'maintain', 'manage', 'management', 'may', 'new', 'present', 'process', 'product', 'program', 'project', 'provide', 'quality', 'report', 'research', 'science', 'scientist', 'service', 'skill', 'software', 'state', 'student', 'support', 'system', 'team', 'test', 'train', 'university', 'use', 'vermont', 'vt', 'work', 'year']\n"
     ]
    }
   ],
   "source": [
    "print(\"Top {} Most Used Words: {}\".format(max_features,count_vectorizer.get_feature_names()))"
   ]
  },
  {
   "cell_type": "code",
   "execution_count": 36,
   "id": "historic-wright",
   "metadata": {},
   "outputs": [],
   "source": [
    "max_features = 50"
   ]
  },
  {
   "cell_type": "code",
   "execution_count": 37,
   "id": "renewable-apache",
   "metadata": {},
   "outputs": [],
   "source": [
    "count_vectorizer = CountVectorizer(max_features=max_features)"
   ]
  },
  {
   "cell_type": "code",
   "execution_count": 38,
   "id": "coupled-wright",
   "metadata": {},
   "outputs": [],
   "source": [
    "sparce_matrix = count_vectorizer.fit_transform(description_list).toarray()"
   ]
  },
  {
   "cell_type": "code",
   "execution_count": 39,
   "id": "color-ecuador",
   "metadata": {},
   "outputs": [
    {
     "name": "stdout",
     "output_type": "stream",
     "text": [
      "Top 50 Most Used Words: ['analysis', 'assistant', 'august', 'college', 'com', 'data', 'design', 'develop', 'development', 'education', 'engineer', 'environmental', 'experience', 'include', 'indeed', 'information', 'june', 'laboratory', 'maintain', 'manage', 'management', 'may', 'new', 'present', 'process', 'product', 'program', 'project', 'provide', 'quality', 'report', 'research', 'science', 'scientist', 'service', 'skill', 'software', 'state', 'student', 'support', 'system', 'team', 'test', 'train', 'university', 'use', 'vermont', 'vt', 'work', 'year']\n"
     ]
    }
   ],
   "source": [
    "print(\"Top {} Most Used Words: {}\".format(max_features,count_vectorizer.get_feature_names()))"
   ]
  },
  {
   "cell_type": "code",
   "execution_count": 40,
   "id": "presidential-norway",
   "metadata": {},
   "outputs": [
    {
     "name": "stdout",
     "output_type": "stream",
     "text": [
      "(80, 660)\n",
      "['1n', '50', 'able', 'about', 'above', 'absolutely', 'acquaintances', 'acted', 'actions', 'activity', 'addiction', 'adequate', 'admit', 'advice', 'advise', 'after', 'age', 'ago', 'agony', 'alcoholic', 'all', 'allowed', 'almost', 'alone', 'along', 'already', 'also', 'although', 'always', 'am', 'an', 'and', 'anniversary', 'another', 'answer', 'answers', 'anxiety', 'anxious', 'any', 'anyone', 'anything', 'anyway', 'apposed', 'are', 'aren', 'around', 'as', 'ask', 'asks', 'at', 'attention', 'aunt', 'avoid', 'away', 'back', 'bad', 'basically', 'be', 'because', 'bedroom', 'been', 'before', 'being', 'best', 'better', 'big', 'bit', 'blow', 'blows', 'blue', 'blunt', 'book', 'both', 'boyfriend', 'break', 'bring', 'brother', 'brought', 'bunch', 'but', 'by', 'call', 'called', 'calling', 'calls', 'calm', 'came', 'camp', 'camping', 'campsite', 'can', 'cancer', 'cant', 'car', 'care', 'caring', 'categories', 'caught', 'cause', 'chance', 'change', 'changed', 'chat', 'circumstances', 'clean', 'cleaning', 'cocaine', 'come', 'comes', 'comfort', 'comforted', 'commit', 'common', 'complete', 'completely', 'concern', 'confines', 'conflict', 'convinced', 'cope', 'cops', 'could', 'counselor', 'countless', 'couple', 'crazy', 'cutter', 'cutting', 'damn', 'dating', 'day', 'days', 'dealing', 'dealt', 'death', 'defined', 'depressed', 'depression', 'describe', 'describes', 'desire', 'diagnosed', 'dialog', 'did', 'didn', 'difficulties', 'disorder', 'doc', 'doesn', 'don', 'dont', 'douche', 'down', 'drag', 'drove', 'drugs', 'due', 'dumped', 'dumps', 'during', 'dying', 'ear', 'earlier', 'eight', 'either', 'else', 'email', 'emotional', 'encourage', 'end', 'ended', 'enough', 'entire', 'essential', 'esteem', 'even', 'eventually', 'ever', 'every', 'everyday', 'everything', 'ex', 'example', 'excited', 'experience', 'experiences', 'express', 'expressing', 'extremely', 'face', 'facebook', 'faced', 'facing', 'fact', 'fairly', 'family', 'father', 'feel', 'feeling', 'feelings', 'fell', 'felt', 'few', 'fight', 'find', 'first', 'fit', 'fixed', 'flickers', 'focus', 'for', 'found', 'friend', 'friends', 'from', 'frustrated', 'gave', 'ged', 'get', 'gf', 'girl', 'girlfriend', 'girlfriends', 'girls', 'give', 'giving', 'go', 'goal', 'going', 'gone', 'good', 'got', 'grade', 'grandmother', 'guess', 'guy', 'guys', 'had', 'hadnt', 'haha', 'half', 'hand', 'happens', 'hard', 'harmed', 'has', 'have', 'haven', 'having', 'he', 'head', 'healing', 'health', 'hear', 'heard', 'help', 'helped', 'helpful', 'helping', 'her', 'here', 'hesitate', 'high', 'him', 'himself', 'his', 'hits', 'hold', 'home', 'homeless', 'honest', 'hood', 'hopes', 'hoping', 'horrable', 'hospital', 'hour', 'house', 'how', 'huge', 'humans', 'hung', 'hurts', 'idk', 'if', 'important', 'in', 'indirectly', 'ing', 'initiated', 'innermost', 'input', 'inside', 'intense', 'internet', 'into', 'irl', 'is', 'isolated', 'issue', 'issues', 'it', 'its', 'jokingly', 'judge', 'junior', 'just', 'keep', 'kid', 'kids', 'kill', 'killed', 'kind', 'kindness', 'knew', 'know', 'knowledge', 'known', 'lack', 'last', 'late', 'laugh', 'least', 'lent', 'less', 'let', 'letting', 'level', 'life', 'light', 'like', 'lines', 'listen', 'listened', 'listener', 'listening', 'little', 'lives', 'living', 'll', 'logical', 'long', 'look', 'looked', 'losing', 'loss', 'lost', 'lot', 'loving', 'low', 'made', 'major', 'make', 'making', 'managed', 'many', 'may', 'maybe', 'me', 'memorial', 'men', 'mental', 'met', 'methods', 'might', 'mind', 'mine', 'mom', 'months', 'more', 'most', 'mother', 'mt', 'much', 'my', 'myself', 'nah', 'naturally', 'necessarily', 'need', 'needed', 'needs', 'nervous', 'never', 'nice', 'night', 'nights', 'no', 'nobody', 'normal', 'not', 'now', 'number', 'objective', 'obtain', 'occurrence', 'od', 'of', 'off', 'offer', 'offered', 'often', 'oh', 'ok', 'on', 'once', 'one', 'only', 'open', 'openness', 'or', 'other', 'others', 'our', 'out', 'over', 'overcome', 'own', 'packed', 'parents', 'part', 'past', 'path', 'peace', 'people', 'peoples', 'perfect', 'period', 'person', 'personal', 'physical', 'picked', 'pills', 'please', 'positive', 'possible', 'possibly', 'pretty', 'probably', 'problem', 'problems', 'progress', 'promised', 'provide', 'psych', 'pulled', 'purpose', 'qualified', 'questions', 'quite', 'rant', 'rational', 're', 'reading', 'reality', 'realize', 'really', 'recovery', 'refers', 'reflect', 'rehab', 'rejected', 'rejecting', 'relate', 'related', 'relationship', 'relationships', 'relief', 'remember', 'remind', 'remote', 'resource', 'respect', 'restless', 'result', 'roommate', 'rude', 'sad', 'said', 'same', 'saved', 'saw', 'say', 'saying', 'school', 'schoolwork', 'see', 'self', 'sense', 'serious', 'set', 'several', 'severe', 'share', 'shared', 'sharing', 'she', 'shelter', 'shit', 'shortly', 'side', 'sign', 'similar', 'simply', 'sister', 'situation', 'situations', 'skipped', 'slightly', 'slowly', 'so', 'some', 'somebody', 'someone', 'something', 'sometime', 'sometimes', 'sort', 'speak', 'specific', 'specifically', 'spent', 'spiraling', 'spot', 'stability', 'start', 'started', 'stayed', 'still', 'stopped', 'story', 'strangers', 'struggle', 'struggles', 'struggling', 'stuff', 'subject', 'such', 'suffer', 'suicidal', 'suicide', 'summer', 'super', 'support', 'supporting', 'supportive', 'sure', 'surfing', 'survival', 'sustained', 'swallow', 'swaying', 'swimming', 'switch', 'switched', 'taken', 'taking', 'talk', 'talked', 'talking', 'teacher', 'tell', 'telling', 'than', 'thankgiving', 'that', 'thats', 'the', 'their', 'them', 'themselves', 'then', 'therapist', 'therapy', 'there', 'theripist', 'they', 'thing', 'think', 'thinking', 'thinks', 'this', 'those', 'though', 'thought', 'thoughts', 'threw', 'through', 'throughout', 'till', 'time', 'times', 'to', 'together', 'told', 'too', 'took', 'top', 'tough', 'trapped', 'treat', 'treatment', 'tried', 'troubled', 'troubles', 'truth', 'try', 'tryin', 'trying', 'tunnel', 'turmoil', 'tutor', 'twice', 'type', 'understand', 'unfortunately', 'unless', 'until', 'up', 'us', 'used', 'using', 've', 'vent', 'verge', 'very', 'virgity', 'visited', 'walked', 'want', 'wanted', 'ward', 'was', 'way', 'we', 'weed', 'week', 'well', 'went', 'were', 'what', 'when', 'whenever', 'where', 'while', 'who', 'will', 'with', 'within', 'woods', 'work', 'worked', 'would', 'wouldn', 'write', 'year', 'yearbook', 'years', 'you', 'yourself']\n",
      "660\n"
     ]
    }
   ],
   "source": [
    "from sklearn.feature_extraction.text import CountVectorizer\n",
    "vect = CountVectorizer()\n",
    "train_df = data.sample(frac = 1, axis=0)  \n",
    "train_df_mat = vect.fit_transform(train_df['response_text'])\n",
    "print(train_df_mat.shape) \n",
    "\n",
    "print(vect.get_feature_names())\n",
    "\n",
    "print(len(vect.get_feature_names()))"
   ]
  },
  {
   "cell_type": "markdown",
   "id": "periodic-harrison",
   "metadata": {},
   "source": [
    "There are 660 unique words in chatbot responses."
   ]
  },
  {
   "cell_type": "code",
   "execution_count": 41,
   "id": "challenging-sponsorship",
   "metadata": {},
   "outputs": [
    {
     "name": "stdout",
     "output_type": "stream",
     "text": [
      "(125, 11466)\n"
     ]
    }
   ],
   "source": [
    "# CountVectorizer significantly decreases the number of words (down from ~17k to ~11k).\n",
    "vect2 = CountVectorizer()\n",
    "train_df2 = data2.sample(frac = 1, axis=0) \n",
    "df2_mat = vect2.fit_transform(train_df2['resume_text'])\n",
    "print(df2_mat.shape)  "
   ]
  },
  {
   "cell_type": "markdown",
   "id": "lyric-george",
   "metadata": {},
   "source": [
    "Here we see CountVectorizer finds 11466 unique words in the resume text."
   ]
  },
  {
   "cell_type": "markdown",
   "id": "familiar-diving",
   "metadata": {},
   "source": [
    "## Most Common Words <a id='_Most_Common_Words'></a>"
   ]
  },
  {
   "cell_type": "code",
   "execution_count": 42,
   "id": "structured-insertion",
   "metadata": {},
   "outputs": [
    {
     "name": "stderr",
     "output_type": "stream",
     "text": [
      "[nltk_data] Downloading package punkt to\n",
      "[nltk_data]     C:\\Users\\daenj\\AppData\\Roaming\\nltk_data...\n",
      "[nltk_data]   Package punkt is already up-to-date!\n",
      "[nltk_data] Downloading package wordnet to\n",
      "[nltk_data]     C:\\Users\\daenj\\AppData\\Roaming\\nltk_data...\n",
      "[nltk_data]   Package wordnet is already up-to-date!\n"
     ]
    }
   ],
   "source": [
    "import nltk\n",
    "nltk.download('punkt')\n",
    "nltk.download('wordnet')\n",
    "stop_words = nltk.corpus.stopwords.words(\"english\")\n",
    "stopwords = set(stop_words)"
   ]
  },
  {
   "cell_type": "code",
   "execution_count": 43,
   "id": "governing-certification",
   "metadata": {},
   "outputs": [],
   "source": [
    "corpus = []\n",
    "bot_resp = data['response_text'].str.split()\n",
    "bot_resp = bot_resp.values.tolist()\n",
    "corpus = [word for i in bot_resp for word in i]"
   ]
  },
  {
   "cell_type": "code",
   "execution_count": 44,
   "id": "simple-reminder",
   "metadata": {},
   "outputs": [
    {
     "data": {
      "text/plain": [
       "<matplotlib.axes._subplots.AxesSubplot at 0x23fcd5cebe0>"
      ]
     },
     "execution_count": 44,
     "metadata": {},
     "output_type": "execute_result"
    },
    {
     "data": {
      "image/png": "[encoded data removed]",
      "text/plain": [
       "<Figure size 432x288 with 1 Axes>"
      ]
     },
     "metadata": {
      "needs_background": "light"
     },
     "output_type": "display_data"
    }
   ],
   "source": [
    "counter_bot=Counter(corpus)\n",
    "most=counter_bot.most_common()\n",
    "\n",
    "x, y= [], []\n",
    "for word,count in most[:30]:\n",
    "    if (word not in stopwords):\n",
    "        x.append(word)\n",
    "        y.append(count)\n",
    "        \n",
    "sns.barplot(x=y,y=x)"
   ]
  },
  {
   "cell_type": "markdown",
   "id": "excellent-notebook",
   "metadata": {},
   "source": [
    "These are the most common words in chatbot responses."
   ]
  },
  {
   "cell_type": "code",
   "execution_count": 45,
   "id": "sealed-johnston",
   "metadata": {},
   "outputs": [],
   "source": [
    "corpus = []\n",
    "res_text = data2[\"resume_text\"].str.split()\n",
    "res_text = res_text.values.tolist()\n",
    "corpus=[word for i in res_text for word in i]"
   ]
  },
  {
   "cell_type": "code",
   "execution_count": 46,
   "id": "subject-glucose",
   "metadata": {},
   "outputs": [
    {
     "data": {
      "text/plain": [
       "<matplotlib.axes._subplots.AxesSubplot at 0x23fd31d4b20>"
      ]
     },
     "execution_count": 46,
     "metadata": {},
     "output_type": "execute_result"
    },
    {
     "name": "stderr",
     "output_type": "stream",
     "text": [
      "C:\\Users\\daenj\\anaconda3\\lib\\site-packages\\matplotlib\\backends\\backend_agg.py:214: RuntimeWarning: Glyph 138 missing from current font.\n",
      "  font.set_text(s, 0.0, flags=flags)\n",
      "C:\\Users\\daenj\\anaconda3\\lib\\site-packages\\matplotlib\\backends\\backend_agg.py:214: RuntimeWarning: Glyph 151 missing from current font.\n",
      "  font.set_text(s, 0.0, flags=flags)\n",
      "C:\\Users\\daenj\\anaconda3\\lib\\site-packages\\matplotlib\\backends\\backend_agg.py:183: RuntimeWarning: Glyph 138 missing from current font.\n",
      "  font.set_text(s, 0, flags=flags)\n",
      "C:\\Users\\daenj\\anaconda3\\lib\\site-packages\\matplotlib\\backends\\backend_agg.py:183: RuntimeWarning: Glyph 151 missing from current font.\n",
      "  font.set_text(s, 0, flags=flags)\n"
     ]
    },
    {
     "data": {
      "image/png": "[encoded data removed]",
      "text/plain": [
       "<Figure size 432x288 with 1 Axes>"
      ]
     },
     "metadata": {
      "needs_background": "light"
     },
     "output_type": "display_data"
    }
   ],
   "source": [
    "counter_res=Counter(corpus)\n",
    "most=counter_res.most_common()\n",
    "\n",
    "x, y= [], []\n",
    "for word,count in most[:30]:\n",
    "    if (word not in stopwords):\n",
    "        x.append(word)\n",
    "        y.append(count)\n",
    "        \n",
    "sns.barplot(x=y,y=x)"
   ]
  },
  {
   "cell_type": "markdown",
   "id": "adopted-trace",
   "metadata": {},
   "source": [
    "'VT', 'university', and 'data' are the three most common words in resumes."
   ]
  },
  {
   "cell_type": "markdown",
   "id": "tested-internship",
   "metadata": {},
   "source": [
    "## Least Common Words <a id='_Least_Common_Words'></a>"
   ]
  },
  {
   "cell_type": "code",
   "execution_count": 47,
   "id": "final-category",
   "metadata": {},
   "outputs": [],
   "source": [
    "from operator import itemgetter\n",
    "import heapq\n",
    "import collections\n",
    "def least_common_values(array, to_find=None):\n",
    "    counter = collections.Counter(array)\n",
    "    if to_find is None:\n",
    "        return sorted(counter.items(), key=itemgetter(1), reverse=False)\n",
    "    return heapq.nsmallest(to_find, counter.items(), key=itemgetter(1))"
   ]
  },
  {
   "cell_type": "code",
   "execution_count": 48,
   "id": "external-wallpaper",
   "metadata": {},
   "outputs": [
    {
     "data": {
      "text/plain": [
       "[('avoid', 1),\n",
       " ('sort', 1),\n",
       " ('conflict', 1),\n",
       " ('Had', 1),\n",
       " ('weed', 1),\n",
       " ('taking', 1),\n",
       " ('depressed', 1),\n",
       " ('saved', 1),\n",
       " ('suicide', 1),\n",
       " ('once.', 1),\n",
       " ('swallow', 1),\n",
       " ('bunch', 1),\n",
       " ('pills', 1),\n",
       " ('calm,', 1),\n",
       " ('loving', 1),\n",
       " ('way.', 1),\n",
       " ('really...i', 1),\n",
       " ('indirectly', 1),\n",
       " ('Only', 1),\n",
       " ('fit', 1),\n",
       " ('above', 1),\n",
       " ('categories.', 1),\n",
       " ('Her', 1),\n",
       " ('therapist', 1),\n",
       " ('spiraling.\"', 1)]"
      ]
     },
     "execution_count": 48,
     "metadata": {},
     "output_type": "execute_result"
    }
   ],
   "source": [
    "least_common_values(counter_bot, 25)"
   ]
  },
  {
   "cell_type": "markdown",
   "id": "living-controversy",
   "metadata": {},
   "source": [
    "The 25 least common words used in chatbot responses."
   ]
  },
  {
   "cell_type": "code",
   "execution_count": 49,
   "id": "altered-radical",
   "metadata": {},
   "outputs": [
    {
     "data": {
      "text/plain": [
       "[('indeed.com/r//49f8c9aecf490d26', 1),\n",
       " ('Service/Visual', 1),\n",
       " ('Up', 1),\n",
       " ('Display/Website', 1),\n",
       " ('upset', 1),\n",
       " ('issues:', 1),\n",
       " ('transit', 1),\n",
       " ('escalated', 1),\n",
       " ('placing', 1),\n",
       " ('cross-selling/upselling', 1),\n",
       " ('pick-up', 1),\n",
       " ('clean-up:', 1),\n",
       " ('proofreading', 1),\n",
       " ('/Events', 1),\n",
       " ('Coordinator/Office', 1),\n",
       " ('travel/logistics', 1),\n",
       " ('interior', 1),\n",
       " ('walk-thru', 1),\n",
       " ('calendars', 1),\n",
       " ('require', 1),\n",
       " ('Officer/Owner', 1),\n",
       " ('Temp', 1),\n",
       " ('Assignment', 1),\n",
       " ('OrthoNet', 1),\n",
       " ('Assistant/Receptionist', 1)]"
      ]
     },
     "execution_count": 49,
     "metadata": {},
     "output_type": "execute_result"
    }
   ],
   "source": [
    "least_common_values(counter_res, 25)"
   ]
  },
  {
   "cell_type": "markdown",
   "id": "unlike-queue",
   "metadata": {},
   "source": [
    "The 25 least common used words in resumes."
   ]
  },
  {
   "cell_type": "markdown",
   "id": "lasting-testing",
   "metadata": {},
   "source": [
    "## Pentagrams<a id='Pentagrams'></a>"
   ]
  },
  {
   "cell_type": "code",
   "execution_count": 50,
   "id": "british-ottawa",
   "metadata": {},
   "outputs": [],
   "source": [
    "from sklearn.feature_extraction.text import CountVectorizer\n",
    "from collections import  Counter\n",
    "\n",
    "def plot_top_ngrams_barchart(text, n=2):\n",
    "    \n",
    "\n",
    "    new= text.str.split()\n",
    "    new=new.values.tolist()\n",
    "    corpus=[word for i in new for word in i]\n",
    "\n",
    "    def _get_top_ngram(corpus, n=None):\n",
    "        vec = CountVectorizer(ngram_range=(n, n)).fit(corpus)\n",
    "        bag_of_words = vec.transform(corpus)\n",
    "        sum_words = bag_of_words.sum(axis=0) \n",
    "        words_freq = [(word, sum_words[0, idx]) \n",
    "                      for word, idx in vec.vocabulary_.items()]\n",
    "        words_freq =sorted(words_freq, key = lambda x: x[1], reverse=True)\n",
    "        return words_freq[:10]\n",
    "\n",
    "    top_n_bigrams=_get_top_ngram(text,n)[:10]\n",
    "    x,y=map(list,zip(*top_n_bigrams))\n",
    "    sns.barplot(x=y,y=x)"
   ]
  },
  {
   "cell_type": "code",
   "execution_count": 51,
   "id": "unavailable-aspect",
   "metadata": {},
   "outputs": [
    {
     "data": {
      "image/png": "[encoded data removed]",
      "text/plain": [
       "<Figure size 432x288 with 1 Axes>"
      ]
     },
     "metadata": {
      "needs_background": "light"
     },
     "output_type": "display_data"
    }
   ],
   "source": [
    "plot_top_ngrams_barchart(data['response_text'],5)"
   ]
  },
  {
   "cell_type": "markdown",
   "id": "visible-necklace",
   "metadata": {},
   "source": [
    "The pentagrams for the chatbot responses paints a clear picture into how people responded to the prompt. Being there for someone and dealing with anxiety are the main themes."
   ]
  },
  {
   "cell_type": "code",
   "execution_count": 52,
   "id": "alternate-pacific",
   "metadata": {},
   "outputs": [
    {
     "data": {
      "image/png": "[encoded data removed]",
      "text/plain": [
       "<Figure size 432x288 with 1 Axes>"
      ]
     },
     "metadata": {
      "needs_background": "light"
     },
     "output_type": "display_data"
    }
   ],
   "source": [
    "plot_top_ngrams_barchart(data2['resume_text'],5)"
   ]
  },
  {
   "cell_type": "markdown",
   "id": "great-vintage",
   "metadata": {},
   "source": [
    "The resume pentagrams are identical. 5 word phrases in resumes pertain to working and invitations to email via indeed.com"
   ]
  },
  {
   "cell_type": "markdown",
   "id": "insured-least",
   "metadata": {},
   "source": [
    "## Contractions and Spacy <a id='_Contractions_and_Spacy'></a>"
   ]
  },
  {
   "cell_type": "code",
   "execution_count": 53,
   "id": "municipal-germany",
   "metadata": {},
   "outputs": [],
   "source": [
    "data[\"class\"] = [1 if each == \"flagged\" else 0 for each in data[\"class\"]]"
   ]
  },
  {
   "cell_type": "code",
   "execution_count": 54,
   "id": "supposed-company",
   "metadata": {},
   "outputs": [],
   "source": [
    "data2[\"class\"] = [1 if each == \"flagged\" else 0 for each in data2[\"class\"]]"
   ]
  },
  {
   "cell_type": "markdown",
   "id": "color-values",
   "metadata": {},
   "source": [
    "Changing the \"class\" column in both datasets to binary values: 1 (flagged) and 0 (not flagged)"
   ]
  },
  {
   "cell_type": "code",
   "execution_count": 55,
   "id": "imperial-aluminum",
   "metadata": {},
   "outputs": [],
   "source": [
    "# Dictionary of English Contractions\n",
    "contractions_dict = { \"ain't\": \"are not\",\"'s\":\" is\",\"aren't\": \"are not\",\n",
    "                     \"can't\": \"cannot\",\"can't've\": \"cannot have\",\n",
    "                     \"'cause\": \"because\",\"could've\": \"could have\",\"couldn't\": \"could not\",\n",
    "                     \"couldn't've\": \"could not have\", \"didn't\": \"did not\",\"doesn't\": \"does not\",\n",
    "                     \"don't\": \"do not\",\"hadn't\": \"had not\",\"hadn't've\": \"had not have\",\n",
    "                     \"hasn't\": \"has not\",\"haven't\": \"have not\",\"he'd\": \"he would\",\n",
    "                     \"he'd've\": \"he would have\",\"he'll\": \"he will\", \"he'll've\": \"he will have\",\n",
    "                     \"how'd\": \"how did\",\"how'd'y\": \"how do you\",\"how'll\": \"how will\",\n",
    "                     \"I'd\": \"I would\", \"I'd've\": \"I would have\",\"I'll\": \"I will\",\n",
    "                     \"I'll've\": \"I will have\",\"I'm\": \"I am\",\"I've\": \"I have\", \"isn't\": \"is not\",\n",
    "                     \"it'd\": \"it would\",\"it'd've\": \"it would have\",\"it'll\": \"it will\",\n",
    "                     \"it'll've\": \"it will have\", \"let's\": \"let us\",\"ma'am\": \"madam\",\n",
    "                     \"mayn't\": \"may not\",\"might've\": \"might have\",\"mightn't\": \"might not\", \n",
    "                     \"mightn't've\": \"might not have\",\"must've\": \"must have\",\"mustn't\": \"must not\",\n",
    "                     \"mustn't've\": \"must not have\", \"needn't\": \"need not\",\n",
    "                     \"needn't've\": \"need not have\",\"o'clock\": \"of the clock\",\"oughtn't\": \"ought not\",\n",
    "                     \"oughtn't've\": \"ought not have\",\"shan't\": \"shall not\",\"sha'n't\": \"shall not\",\n",
    "                     \"shan't've\": \"shall not have\",\"she'd\": \"she would\",\"she'd've\": \"she would have\",\n",
    "                     \"she'll\": \"she will\", \"she'll've\": \"she will have\",\"should've\": \"should have\",\n",
    "                     \"shouldn't\": \"should not\", \"shouldn't've\": \"should not have\",\"so've\": \"so have\",\n",
    "                     \"that'd\": \"that would\",\"that'd've\": \"that would have\", \"there'd\": \"there would\",\n",
    "                     \"there'd've\": \"there would have\", \"they'd\": \"they would\",\n",
    "                     \"they'd've\": \"they would have\",\"they'll\": \"they will\",\n",
    "                     \"they'll've\": \"they will have\", \"they're\": \"they are\",\"they've\": \"they have\",\n",
    "                     \"to've\": \"to have\",\"wasn't\": \"was not\",\"we'd\": \"we would\",\n",
    "                     \"we'd've\": \"we would have\",\"we'll\": \"we will\",\"we'll've\": \"we will have\",\n",
    "                     \"we're\": \"we are\",\"we've\": \"we have\", \"weren't\": \"were not\",\"what'll\": \"what will\",\n",
    "                     \"what'll've\": \"what will have\",\"what're\": \"what are\", \"what've\": \"what have\",\n",
    "                     \"when've\": \"when have\",\"where'd\": \"where did\", \"where've\": \"where have\",\n",
    "                     \"who'll\": \"who will\",\"who'll've\": \"who will have\",\"who've\": \"who have\",\n",
    "                     \"why've\": \"why have\",\"will've\": \"will have\",\"won't\": \"will not\",\n",
    "                     \"won't've\": \"will not have\", \"would've\": \"would have\",\"wouldn't\": \"would not\",\n",
    "                     \"wouldn't've\": \"would not have\",\"y'all\": \"you all\", \"y'all'd\": \"you all would\",\n",
    "                     \"y'all'd've\": \"you all would have\",\"y'all're\": \"you all are\",\n",
    "                     \"y'all've\": \"you all have\", \"you'd\": \"you would\",\"you'd've\": \"you would have\",\n",
    "                     \"you'll\": \"you will\",\"you'll've\": \"you will have\", \"you're\": \"you are\",\n",
    "                     \"you've\": \"you have\"}\n",
    "\n",
    "# Regular expression for finding contractions\n",
    "contractions_re=re.compile('(%s)' % '|'.join(contractions_dict.keys()))\n",
    "\n",
    "# Function for expanding contractions\n",
    "def expand_contractions(text,contractions_dict=contractions_dict):\n",
    "  def replace(match):\n",
    "    return contractions_dict[match.group(0)]\n",
    "  return contractions_re.sub(replace, text)\n",
    "\n",
    "# Expanding Contractions in the reviews\n",
    "data['response_text']=data['response_text'].apply(lambda x:expand_contractions(x))"
   ]
  },
  {
   "cell_type": "code",
   "execution_count": 56,
   "id": "nasty-stomach",
   "metadata": {},
   "outputs": [],
   "source": [
    "data2['resume_text']=data2['resume_text'].apply(lambda x:expand_contractions(x))"
   ]
  },
  {
   "cell_type": "code",
   "execution_count": 57,
   "id": "expressed-insurance",
   "metadata": {},
   "outputs": [],
   "source": [
    "data['cleaned']=data['response_text'].apply(lambda x: x.lower())"
   ]
  },
  {
   "cell_type": "code",
   "execution_count": 58,
   "id": "boxed-making",
   "metadata": {},
   "outputs": [],
   "source": [
    "data2['cleaned']=data2['resume_text'].apply(lambda x: x.lower())"
   ]
  },
  {
   "cell_type": "markdown",
   "id": "conventional-belarus",
   "metadata": {},
   "source": [
    "Putting all the text into lower case."
   ]
  },
  {
   "cell_type": "code",
   "execution_count": 59,
   "id": "curious-leader",
   "metadata": {},
   "outputs": [],
   "source": [
    "data['cleaned']=data['cleaned'].apply(lambda x: re.sub('\\w*\\d\\w*','', x))"
   ]
  },
  {
   "cell_type": "code",
   "execution_count": 60,
   "id": "governing-raise",
   "metadata": {},
   "outputs": [],
   "source": [
    "data2['cleaned']=data2['cleaned'].apply(lambda x: re.sub('\\w*\\d\\w*','', x))"
   ]
  },
  {
   "cell_type": "markdown",
   "id": "infectious-trick",
   "metadata": {},
   "source": [
    "Removing digits and words containing digits."
   ]
  },
  {
   "cell_type": "code",
   "execution_count": 61,
   "id": "approved-class",
   "metadata": {},
   "outputs": [],
   "source": [
    "data['cleaned']=data['cleaned'].apply(lambda x: re.sub('[%s]' % re.escape(string.punctuation), '', x))"
   ]
  },
  {
   "cell_type": "code",
   "execution_count": 62,
   "id": "endless-orange",
   "metadata": {},
   "outputs": [],
   "source": [
    "data2['cleaned']=data2['cleaned'].apply(lambda x: re.sub('[%s]' % re.escape(string.punctuation), '', x))"
   ]
  },
  {
   "cell_type": "code",
   "execution_count": 63,
   "id": "french-steam",
   "metadata": {},
   "outputs": [],
   "source": [
    "data['cleaned']=data['cleaned'].apply(lambda x: re.sub(' +',' ',x))"
   ]
  },
  {
   "cell_type": "code",
   "execution_count": 64,
   "id": "liberal-nicholas",
   "metadata": {},
   "outputs": [],
   "source": [
    "data2['cleaned']=data2['cleaned'].apply(lambda x: re.sub(' +',' ',x))"
   ]
  },
  {
   "cell_type": "markdown",
   "id": "experienced-shipping",
   "metadata": {},
   "source": [
    "Removing punctuation."
   ]
  },
  {
   "cell_type": "code",
   "execution_count": 65,
   "id": "continuing-creature",
   "metadata": {},
   "outputs": [
    {
     "name": "stdout",
     "output_type": "stream",
     "text": [
      "Response 1:\n",
      " i try and avoid this sort of conflict\n",
      "Response 2:\n",
      " had a friend open up to me about his mental addiction to weed and how it was taking over his life and making him depressed\n",
      "Response 3:\n",
      " i saved a girl from suicide once she was going to swallow a bunch of pills and i talked her out of it in a very calm loving way\n",
      "Response 4:\n",
      " i cant think of one reallyi think i may have indirectly\n",
      "Response 5:\n",
      " only really one friend who does not fit into the any of the above categories her therapist calls it spiraling anyway she pretty much calls me any time she is frustrated by something with her boyfriend to ask me if it is logical or not before they would just fight and he would call her crazy now she asks me if it is ok he did not say please when he said hand me the remote\n",
      "Response 6:\n",
      " a couple of years ago my friends was going to switch school because of low self esteem too i helped him overcome that shit too\n",
      "Response 7:\n",
      " roommate when he was going through death and loss of a gf did anything to get him out of his bedroom\n",
      "Response 8:\n",
      " ive had a couple of friends you could say more than friends with quite severe depression emotional problems i helped for a while but eventually both relationships started to suffer as a result of both our personal problems\n",
      "Response 9:\n",
      " listened to someone talk about relationship troubles offered some advice from personal experience\n",
      "Response 10:\n",
      " i will always listen i comforted my sister when she lost her virgity the same night she walked in on her boyfriend cutting himself and then our parents found out she threw a house part simply bring supportive was my focus\n"
     ]
    }
   ],
   "source": [
    "for index,text in enumerate(data['cleaned'][0:10]):\n",
    "    print('Response %d:\\n'%(index+1),text)"
   ]
  },
  {
   "cell_type": "code",
   "execution_count": 66,
   "id": "reverse-collection",
   "metadata": {},
   "outputs": [
    {
     "name": "stdout",
     "output_type": "stream",
     "text": [
      "Response 1:\n",
      "providing more than years of combined office services with a focus on administrative assistance customer service event coordination trade show coordination and facilitatingalls to customer accountsogistics catering interior design research projects\n",
      "Response 2:\n",
      "¢ excellent presentation skills public speaking power point continuous improvement value stream analysis standard work visual pull systemse m ovens thermal cycling chambers\n",
      "Response 3:\n",
      " est systems teradyne advantest rial pcson ieee equipment microcontrollers atmel arduino family ofl html xml basic and assembler development tools orcad visual age vc vcmpression tool that was used to compress the various pieces of a tcm together as it was being built this was the first use of the c programming language at this sitehe purpose of one of these applications is to automatically pinpoint final test failures on all chips tested the aixcmotif based application fast faildata analysis system was an integral part version x was developed using java and swing for the guir map processes using ms visual c i continue to development my own products maintaining my software skills using the latest leading edge technology\n",
      "Response 4:\n",
      " aintained an overall gpa of throughout my time at dickinson collegeious microscopy techniques dic phase contrast brightfield darkfield fluorescent recombinant dna plasmid cloning pymol crispr urly measurements for stable isotope signatures in realtime using a infrared analyzer helifanplus and interpret collected data using repeated measures rmanova the life of jigme nidup\n",
      "Response 5:\n",
      " inks httpwwwlinkedincominalexreutterankconvergence of mcmc algorithms using coupled sample paths defects in algorithms and underlying assumptions of stroke policy model leading to creation of web portal that allowed practicing physicians to more\n"
     ]
    }
   ],
   "source": [
    "for index,text in enumerate(data2['cleaned'][0:5]):\n",
    "    print('Response %d:\\n'%(index+1),text)"
   ]
  },
  {
   "cell_type": "markdown",
   "id": "strong-liechtenstein",
   "metadata": {},
   "source": [
    "## Removing Stopwords and Lemmatization with Spacy <a id='_Removing_Stopwords_and_Lemmatization_with_Spacy'></a>"
   ]
  },
  {
   "cell_type": "code",
   "execution_count": 67,
   "id": "rational-content",
   "metadata": {},
   "outputs": [],
   "source": [
    "# Importing spacy\n",
    "import spacy\n",
    "\n",
    "# Loading model\n",
    "nlp = spacy.load('en_core_web_sm',disable=['parser', 'ner'])\n",
    "\n",
    "# Lemmatization with stopwords removal\n",
    "data['lemmatized']=data['cleaned'].apply(lambda x: ' '.join([token.lemma_ for token in list(nlp(x)) if (token.is_stop==False)]))"
   ]
  },
  {
   "cell_type": "code",
   "execution_count": 68,
   "id": "impossible-india",
   "metadata": {},
   "outputs": [],
   "source": [
    "data2['lemmatized']=data2['cleaned'].apply(lambda x: ' '.join([token.lemma_ for token in list(nlp(x)) if (token.is_stop==False)]))"
   ]
  },
  {
   "cell_type": "code",
   "execution_count": 69,
   "id": "primary-gallery",
   "metadata": {},
   "outputs": [
    {
     "data": {
      "text/html": [
       "<div>\n",
       "<style scoped>\n",
       "    .dataframe tbody tr th:only-of-type {\n",
       "        vertical-align: middle;\n",
       "    }\n",
       "\n",
       "    .dataframe tbody tr th {\n",
       "        vertical-align: top;\n",
       "    }\n",
       "\n",
       "    .dataframe thead th {\n",
       "        text-align: right;\n",
       "    }\n",
       "</style>\n",
       "<table border=\"1\" class=\"dataframe\">\n",
       "  <thead>\n",
       "    <tr style=\"text-align: right;\">\n",
       "      <th></th>\n",
       "      <th>lemmatized</th>\n",
       "    </tr>\n",
       "    <tr>\n",
       "      <th>response_id</th>\n",
       "      <th></th>\n",
       "    </tr>\n",
       "  </thead>\n",
       "  <tbody>\n",
       "    <tr>\n",
       "      <th>response_1</th>\n",
       "      <td>try avoid sort conflict</td>\n",
       "    </tr>\n",
       "    <tr>\n",
       "      <th>response_10</th>\n",
       "      <td>listen comfort sister lose virgity night walk ...</td>\n",
       "    </tr>\n",
       "    <tr>\n",
       "      <th>response_11</th>\n",
       "      <td>take week work pack car pick friend verge lose...</td>\n",
       "    </tr>\n",
       "    <tr>\n",
       "      <th>response_12</th>\n",
       "      <td>memorial anniversary friend father support remind</td>\n",
       "    </tr>\n",
       "    <tr>\n",
       "      <th>response_13</th>\n",
       "      <td>anxious girlfriend need help</td>\n",
       "    </tr>\n",
       "  </tbody>\n",
       "</table>\n",
       "</div>"
      ],
      "text/plain": [
       "                                                    lemmatized\n",
       "response_id                                                   \n",
       "response_1                             try avoid sort conflict\n",
       "response_10  listen comfort sister lose virgity night walk ...\n",
       "response_11  take week work pack car pick friend verge lose...\n",
       "response_12  memorial anniversary friend father support remind\n",
       "response_13                       anxious girlfriend need help"
      ]
     },
     "execution_count": 69,
     "metadata": {},
     "output_type": "execute_result"
    }
   ],
   "source": [
    "data_grouped=data[['response_id','lemmatized']].groupby(by='response_id').agg(lambda x:' '.join(x))\n",
    "data_grouped.head()"
   ]
  },
  {
   "cell_type": "code",
   "execution_count": 70,
   "id": "attached-single",
   "metadata": {},
   "outputs": [
    {
     "data": {
      "text/html": [
       "<div>\n",
       "<style scoped>\n",
       "    .dataframe tbody tr th:only-of-type {\n",
       "        vertical-align: middle;\n",
       "    }\n",
       "\n",
       "    .dataframe tbody tr th {\n",
       "        vertical-align: top;\n",
       "    }\n",
       "\n",
       "    .dataframe thead th {\n",
       "        text-align: right;\n",
       "    }\n",
       "</style>\n",
       "<table border=\"1\" class=\"dataframe\">\n",
       "  <thead>\n",
       "    <tr style=\"text-align: right;\">\n",
       "      <th></th>\n",
       "      <th>lemmatized</th>\n",
       "    </tr>\n",
       "    <tr>\n",
       "      <th>resume_id</th>\n",
       "      <th></th>\n",
       "    </tr>\n",
       "  </thead>\n",
       "  <tbody>\n",
       "    <tr>\n",
       "      <th>resume_1</th>\n",
       "      <td>\\r customer service supervisortier isabella ca...</td>\n",
       "    </tr>\n",
       "    <tr>\n",
       "      <th>resume_10</th>\n",
       "      <td>barbara hennesseyelzohairy \\r newport vt email...</td>\n",
       "    </tr>\n",
       "    <tr>\n",
       "      <th>resume_100</th>\n",
       "      <td>shadi bakhtiari \\r qa associate olympus biotec...</td>\n",
       "    </tr>\n",
       "    <tr>\n",
       "      <th>resume_101</th>\n",
       "      <td>shana kane \\r compliance management profession...</td>\n",
       "    </tr>\n",
       "    <tr>\n",
       "      <th>resume_102</th>\n",
       "      <td>shannon warburton senior scientist merck co gl...</td>\n",
       "    </tr>\n",
       "  </tbody>\n",
       "</table>\n",
       "</div>"
      ],
      "text/plain": [
       "                                                   lemmatized\n",
       "resume_id                                                    \n",
       "resume_1    \\r customer service supervisortier isabella ca...\n",
       "resume_10   barbara hennesseyelzohairy \\r newport vt email...\n",
       "resume_100  shadi bakhtiari \\r qa associate olympus biotec...\n",
       "resume_101  shana kane \\r compliance management profession...\n",
       "resume_102  shannon warburton senior scientist merck co gl..."
      ]
     },
     "execution_count": 70,
     "metadata": {},
     "output_type": "execute_result"
    }
   ],
   "source": [
    "data2_grouped=data2[['resume_id','lemmatized']].groupby(by='resume_id').agg(lambda x:' '.join(x))\n",
    "data2_grouped.head()"
   ]
  },
  {
   "cell_type": "markdown",
   "id": "premium-closure",
   "metadata": {},
   "source": [
    "## Document Term Matrices and Sentiment Analysis <a id='_Document_Term_Matrices_and_Sentiment_Analysis'></a>"
   ]
  },
  {
   "cell_type": "code",
   "execution_count": 71,
   "id": "centered-initial",
   "metadata": {},
   "outputs": [
    {
     "data": {
      "text/html": [
       "<div>\n",
       "<style scoped>\n",
       "    .dataframe tbody tr th:only-of-type {\n",
       "        vertical-align: middle;\n",
       "    }\n",
       "\n",
       "    .dataframe tbody tr th {\n",
       "        vertical-align: top;\n",
       "    }\n",
       "\n",
       "    .dataframe thead th {\n",
       "        text-align: right;\n",
       "    }\n",
       "</style>\n",
       "<table border=\"1\" class=\"dataframe\">\n",
       "  <thead>\n",
       "    <tr style=\"text-align: right;\">\n",
       "      <th></th>\n",
       "      <th>able</th>\n",
       "      <th>absolutely</th>\n",
       "      <th>acquaintance</th>\n",
       "      <th>act</th>\n",
       "      <th>action</th>\n",
       "      <th>activity</th>\n",
       "      <th>addiction</th>\n",
       "      <th>adequate</th>\n",
       "      <th>admit</th>\n",
       "      <th>advice</th>\n",
       "      <th>advise</th>\n",
       "      <th>age</th>\n",
       "      <th>ago</th>\n",
       "      <th>agony</th>\n",
       "      <th>alcoholic</th>\n",
       "      <th>allow</th>\n",
       "      <th>anniversary</th>\n",
       "      <th>answer</th>\n",
       "      <th>anxiety</th>\n",
       "      <th>anxious</th>\n",
       "      <th>appose</th>\n",
       "      <th>ask</th>\n",
       "      <th>attention</th>\n",
       "      <th>aunt</th>\n",
       "      <th>avoid</th>\n",
       "      <th>away</th>\n",
       "      <th>bad</th>\n",
       "      <th>basically</th>\n",
       "      <th>bedroom</th>\n",
       "      <th>big</th>\n",
       "      <th>bit</th>\n",
       "      <th>blow</th>\n",
       "      <th>blue</th>\n",
       "      <th>blunt</th>\n",
       "      <th>book</th>\n",
       "      <th>boyfriend</th>\n",
       "      <th>break</th>\n",
       "      <th>bring</th>\n",
       "      <th>brother</th>\n",
       "      <th>bunch</th>\n",
       "      <th>call</th>\n",
       "      <th>calm</th>\n",
       "      <th>camp</th>\n",
       "      <th>campingsurfe</th>\n",
       "      <th>campsite</th>\n",
       "      <th>cancer</th>\n",
       "      <th>car</th>\n",
       "      <th>care</th>\n",
       "      <th>catch</th>\n",
       "      <th>category</th>\n",
       "      <th>...</th>\n",
       "      <th>swallow</th>\n",
       "      <th>sway</th>\n",
       "      <th>swim</th>\n",
       "      <th>switch</th>\n",
       "      <th>take</th>\n",
       "      <th>talk</th>\n",
       "      <th>teacher</th>\n",
       "      <th>tell</th>\n",
       "      <th>thankgive</th>\n",
       "      <th>therapist</th>\n",
       "      <th>therapy</th>\n",
       "      <th>theripist</th>\n",
       "      <th>thing</th>\n",
       "      <th>think</th>\n",
       "      <th>thought</th>\n",
       "      <th>throw</th>\n",
       "      <th>till</th>\n",
       "      <th>time</th>\n",
       "      <th>tough</th>\n",
       "      <th>trap</th>\n",
       "      <th>treat</th>\n",
       "      <th>treatment</th>\n",
       "      <th>trouble</th>\n",
       "      <th>truth</th>\n",
       "      <th>try</th>\n",
       "      <th>tryin</th>\n",
       "      <th>tunnel</th>\n",
       "      <th>turmoil</th>\n",
       "      <th>tutor</th>\n",
       "      <th>twice</th>\n",
       "      <th>type</th>\n",
       "      <th>understand</th>\n",
       "      <th>unfortunately</th>\n",
       "      <th>ve</th>\n",
       "      <th>vent</th>\n",
       "      <th>verge</th>\n",
       "      <th>virgity</th>\n",
       "      <th>visit</th>\n",
       "      <th>walk</th>\n",
       "      <th>want</th>\n",
       "      <th>ward</th>\n",
       "      <th>way</th>\n",
       "      <th>weed</th>\n",
       "      <th>week</th>\n",
       "      <th>well</th>\n",
       "      <th>wood</th>\n",
       "      <th>work</th>\n",
       "      <th>write</th>\n",
       "      <th>year</th>\n",
       "      <th>yearbook</th>\n",
       "    </tr>\n",
       "    <tr>\n",
       "      <th>response_id</th>\n",
       "      <th></th>\n",
       "      <th></th>\n",
       "      <th></th>\n",
       "      <th></th>\n",
       "      <th></th>\n",
       "      <th></th>\n",
       "      <th></th>\n",
       "      <th></th>\n",
       "      <th></th>\n",
       "      <th></th>\n",
       "      <th></th>\n",
       "      <th></th>\n",
       "      <th></th>\n",
       "      <th></th>\n",
       "      <th></th>\n",
       "      <th></th>\n",
       "      <th></th>\n",
       "      <th></th>\n",
       "      <th></th>\n",
       "      <th></th>\n",
       "      <th></th>\n",
       "      <th></th>\n",
       "      <th></th>\n",
       "      <th></th>\n",
       "      <th></th>\n",
       "      <th></th>\n",
       "      <th></th>\n",
       "      <th></th>\n",
       "      <th></th>\n",
       "      <th></th>\n",
       "      <th></th>\n",
       "      <th></th>\n",
       "      <th></th>\n",
       "      <th></th>\n",
       "      <th></th>\n",
       "      <th></th>\n",
       "      <th></th>\n",
       "      <th></th>\n",
       "      <th></th>\n",
       "      <th></th>\n",
       "      <th></th>\n",
       "      <th></th>\n",
       "      <th></th>\n",
       "      <th></th>\n",
       "      <th></th>\n",
       "      <th></th>\n",
       "      <th></th>\n",
       "      <th></th>\n",
       "      <th></th>\n",
       "      <th></th>\n",
       "      <th></th>\n",
       "      <th></th>\n",
       "      <th></th>\n",
       "      <th></th>\n",
       "      <th></th>\n",
       "      <th></th>\n",
       "      <th></th>\n",
       "      <th></th>\n",
       "      <th></th>\n",
       "      <th></th>\n",
       "      <th></th>\n",
       "      <th></th>\n",
       "      <th></th>\n",
       "      <th></th>\n",
       "      <th></th>\n",
       "      <th></th>\n",
       "      <th></th>\n",
       "      <th></th>\n",
       "      <th></th>\n",
       "      <th></th>\n",
       "      <th></th>\n",
       "      <th></th>\n",
       "      <th></th>\n",
       "      <th></th>\n",
       "      <th></th>\n",
       "      <th></th>\n",
       "      <th></th>\n",
       "      <th></th>\n",
       "      <th></th>\n",
       "      <th></th>\n",
       "      <th></th>\n",
       "      <th></th>\n",
       "      <th></th>\n",
       "      <th></th>\n",
       "      <th></th>\n",
       "      <th></th>\n",
       "      <th></th>\n",
       "      <th></th>\n",
       "      <th></th>\n",
       "      <th></th>\n",
       "      <th></th>\n",
       "      <th></th>\n",
       "      <th></th>\n",
       "      <th></th>\n",
       "      <th></th>\n",
       "      <th></th>\n",
       "      <th></th>\n",
       "      <th></th>\n",
       "      <th></th>\n",
       "      <th></th>\n",
       "      <th></th>\n",
       "    </tr>\n",
       "  </thead>\n",
       "  <tbody>\n",
       "    <tr>\n",
       "      <th>response_1</th>\n",
       "      <td>0</td>\n",
       "      <td>0</td>\n",
       "      <td>0</td>\n",
       "      <td>0</td>\n",
       "      <td>0</td>\n",
       "      <td>0</td>\n",
       "      <td>0</td>\n",
       "      <td>0</td>\n",
       "      <td>0</td>\n",
       "      <td>0</td>\n",
       "      <td>0</td>\n",
       "      <td>0</td>\n",
       "      <td>0</td>\n",
       "      <td>0</td>\n",
       "      <td>0</td>\n",
       "      <td>0</td>\n",
       "      <td>0</td>\n",
       "      <td>0</td>\n",
       "      <td>0</td>\n",
       "      <td>0</td>\n",
       "      <td>0</td>\n",
       "      <td>0</td>\n",
       "      <td>0</td>\n",
       "      <td>0</td>\n",
       "      <td>1</td>\n",
       "      <td>0</td>\n",
       "      <td>0</td>\n",
       "      <td>0</td>\n",
       "      <td>0</td>\n",
       "      <td>0</td>\n",
       "      <td>0</td>\n",
       "      <td>0</td>\n",
       "      <td>0</td>\n",
       "      <td>0</td>\n",
       "      <td>0</td>\n",
       "      <td>0</td>\n",
       "      <td>0</td>\n",
       "      <td>0</td>\n",
       "      <td>0</td>\n",
       "      <td>0</td>\n",
       "      <td>0</td>\n",
       "      <td>0</td>\n",
       "      <td>0</td>\n",
       "      <td>0</td>\n",
       "      <td>0</td>\n",
       "      <td>0</td>\n",
       "      <td>0</td>\n",
       "      <td>0</td>\n",
       "      <td>0</td>\n",
       "      <td>0</td>\n",
       "      <td>...</td>\n",
       "      <td>0</td>\n",
       "      <td>0</td>\n",
       "      <td>0</td>\n",
       "      <td>0</td>\n",
       "      <td>0</td>\n",
       "      <td>0</td>\n",
       "      <td>0</td>\n",
       "      <td>0</td>\n",
       "      <td>0</td>\n",
       "      <td>0</td>\n",
       "      <td>0</td>\n",
       "      <td>0</td>\n",
       "      <td>0</td>\n",
       "      <td>0</td>\n",
       "      <td>0</td>\n",
       "      <td>0</td>\n",
       "      <td>0</td>\n",
       "      <td>0</td>\n",
       "      <td>0</td>\n",
       "      <td>0</td>\n",
       "      <td>0</td>\n",
       "      <td>0</td>\n",
       "      <td>0</td>\n",
       "      <td>0</td>\n",
       "      <td>1</td>\n",
       "      <td>0</td>\n",
       "      <td>0</td>\n",
       "      <td>0</td>\n",
       "      <td>0</td>\n",
       "      <td>0</td>\n",
       "      <td>0</td>\n",
       "      <td>0</td>\n",
       "      <td>0</td>\n",
       "      <td>0</td>\n",
       "      <td>0</td>\n",
       "      <td>0</td>\n",
       "      <td>0</td>\n",
       "      <td>0</td>\n",
       "      <td>0</td>\n",
       "      <td>0</td>\n",
       "      <td>0</td>\n",
       "      <td>0</td>\n",
       "      <td>0</td>\n",
       "      <td>0</td>\n",
       "      <td>0</td>\n",
       "      <td>0</td>\n",
       "      <td>0</td>\n",
       "      <td>0</td>\n",
       "      <td>0</td>\n",
       "      <td>0</td>\n",
       "    </tr>\n",
       "    <tr>\n",
       "      <th>response_10</th>\n",
       "      <td>0</td>\n",
       "      <td>0</td>\n",
       "      <td>0</td>\n",
       "      <td>0</td>\n",
       "      <td>0</td>\n",
       "      <td>0</td>\n",
       "      <td>0</td>\n",
       "      <td>0</td>\n",
       "      <td>0</td>\n",
       "      <td>0</td>\n",
       "      <td>0</td>\n",
       "      <td>0</td>\n",
       "      <td>0</td>\n",
       "      <td>0</td>\n",
       "      <td>0</td>\n",
       "      <td>0</td>\n",
       "      <td>0</td>\n",
       "      <td>0</td>\n",
       "      <td>0</td>\n",
       "      <td>0</td>\n",
       "      <td>0</td>\n",
       "      <td>0</td>\n",
       "      <td>0</td>\n",
       "      <td>0</td>\n",
       "      <td>0</td>\n",
       "      <td>0</td>\n",
       "      <td>0</td>\n",
       "      <td>0</td>\n",
       "      <td>0</td>\n",
       "      <td>0</td>\n",
       "      <td>0</td>\n",
       "      <td>0</td>\n",
       "      <td>0</td>\n",
       "      <td>0</td>\n",
       "      <td>0</td>\n",
       "      <td>1</td>\n",
       "      <td>0</td>\n",
       "      <td>1</td>\n",
       "      <td>0</td>\n",
       "      <td>0</td>\n",
       "      <td>0</td>\n",
       "      <td>0</td>\n",
       "      <td>0</td>\n",
       "      <td>0</td>\n",
       "      <td>0</td>\n",
       "      <td>0</td>\n",
       "      <td>0</td>\n",
       "      <td>0</td>\n",
       "      <td>0</td>\n",
       "      <td>0</td>\n",
       "      <td>...</td>\n",
       "      <td>0</td>\n",
       "      <td>0</td>\n",
       "      <td>0</td>\n",
       "      <td>0</td>\n",
       "      <td>0</td>\n",
       "      <td>0</td>\n",
       "      <td>0</td>\n",
       "      <td>0</td>\n",
       "      <td>0</td>\n",
       "      <td>0</td>\n",
       "      <td>0</td>\n",
       "      <td>0</td>\n",
       "      <td>0</td>\n",
       "      <td>0</td>\n",
       "      <td>0</td>\n",
       "      <td>1</td>\n",
       "      <td>0</td>\n",
       "      <td>0</td>\n",
       "      <td>0</td>\n",
       "      <td>0</td>\n",
       "      <td>0</td>\n",
       "      <td>0</td>\n",
       "      <td>0</td>\n",
       "      <td>0</td>\n",
       "      <td>0</td>\n",
       "      <td>0</td>\n",
       "      <td>0</td>\n",
       "      <td>0</td>\n",
       "      <td>0</td>\n",
       "      <td>0</td>\n",
       "      <td>0</td>\n",
       "      <td>0</td>\n",
       "      <td>0</td>\n",
       "      <td>0</td>\n",
       "      <td>0</td>\n",
       "      <td>0</td>\n",
       "      <td>1</td>\n",
       "      <td>0</td>\n",
       "      <td>1</td>\n",
       "      <td>0</td>\n",
       "      <td>0</td>\n",
       "      <td>0</td>\n",
       "      <td>0</td>\n",
       "      <td>0</td>\n",
       "      <td>0</td>\n",
       "      <td>0</td>\n",
       "      <td>0</td>\n",
       "      <td>0</td>\n",
       "      <td>0</td>\n",
       "      <td>0</td>\n",
       "    </tr>\n",
       "    <tr>\n",
       "      <th>response_11</th>\n",
       "      <td>0</td>\n",
       "      <td>0</td>\n",
       "      <td>0</td>\n",
       "      <td>0</td>\n",
       "      <td>0</td>\n",
       "      <td>1</td>\n",
       "      <td>0</td>\n",
       "      <td>0</td>\n",
       "      <td>0</td>\n",
       "      <td>0</td>\n",
       "      <td>0</td>\n",
       "      <td>0</td>\n",
       "      <td>0</td>\n",
       "      <td>0</td>\n",
       "      <td>0</td>\n",
       "      <td>0</td>\n",
       "      <td>0</td>\n",
       "      <td>0</td>\n",
       "      <td>0</td>\n",
       "      <td>0</td>\n",
       "      <td>0</td>\n",
       "      <td>0</td>\n",
       "      <td>0</td>\n",
       "      <td>0</td>\n",
       "      <td>0</td>\n",
       "      <td>1</td>\n",
       "      <td>0</td>\n",
       "      <td>0</td>\n",
       "      <td>0</td>\n",
       "      <td>1</td>\n",
       "      <td>0</td>\n",
       "      <td>0</td>\n",
       "      <td>0</td>\n",
       "      <td>0</td>\n",
       "      <td>0</td>\n",
       "      <td>0</td>\n",
       "      <td>0</td>\n",
       "      <td>0</td>\n",
       "      <td>0</td>\n",
       "      <td>0</td>\n",
       "      <td>0</td>\n",
       "      <td>0</td>\n",
       "      <td>0</td>\n",
       "      <td>1</td>\n",
       "      <td>0</td>\n",
       "      <td>0</td>\n",
       "      <td>1</td>\n",
       "      <td>0</td>\n",
       "      <td>0</td>\n",
       "      <td>0</td>\n",
       "      <td>...</td>\n",
       "      <td>0</td>\n",
       "      <td>0</td>\n",
       "      <td>0</td>\n",
       "      <td>0</td>\n",
       "      <td>1</td>\n",
       "      <td>0</td>\n",
       "      <td>0</td>\n",
       "      <td>0</td>\n",
       "      <td>0</td>\n",
       "      <td>0</td>\n",
       "      <td>0</td>\n",
       "      <td>0</td>\n",
       "      <td>0</td>\n",
       "      <td>0</td>\n",
       "      <td>0</td>\n",
       "      <td>0</td>\n",
       "      <td>0</td>\n",
       "      <td>0</td>\n",
       "      <td>0</td>\n",
       "      <td>0</td>\n",
       "      <td>0</td>\n",
       "      <td>0</td>\n",
       "      <td>0</td>\n",
       "      <td>0</td>\n",
       "      <td>0</td>\n",
       "      <td>0</td>\n",
       "      <td>0</td>\n",
       "      <td>0</td>\n",
       "      <td>0</td>\n",
       "      <td>0</td>\n",
       "      <td>0</td>\n",
       "      <td>0</td>\n",
       "      <td>0</td>\n",
       "      <td>0</td>\n",
       "      <td>0</td>\n",
       "      <td>1</td>\n",
       "      <td>0</td>\n",
       "      <td>0</td>\n",
       "      <td>0</td>\n",
       "      <td>0</td>\n",
       "      <td>0</td>\n",
       "      <td>0</td>\n",
       "      <td>0</td>\n",
       "      <td>3</td>\n",
       "      <td>0</td>\n",
       "      <td>0</td>\n",
       "      <td>1</td>\n",
       "      <td>0</td>\n",
       "      <td>0</td>\n",
       "      <td>0</td>\n",
       "    </tr>\n",
       "  </tbody>\n",
       "</table>\n",
       "<p>3 rows × 400 columns</p>\n",
       "</div>"
      ],
      "text/plain": [
       "             able  absolutely  acquaintance  act  action  activity  addiction  \\\n",
       "response_id                                                                     \n",
       "response_1      0           0             0    0       0         0          0   \n",
       "response_10     0           0             0    0       0         0          0   \n",
       "response_11     0           0             0    0       0         1          0   \n",
       "\n",
       "             adequate  admit  advice  advise  age  ago  agony  alcoholic  \\\n",
       "response_id                                                                \n",
       "response_1          0      0       0       0    0    0      0          0   \n",
       "response_10         0      0       0       0    0    0      0          0   \n",
       "response_11         0      0       0       0    0    0      0          0   \n",
       "\n",
       "             allow  anniversary  answer  anxiety  anxious  appose  ask  \\\n",
       "response_id                                                              \n",
       "response_1       0            0       0        0        0       0    0   \n",
       "response_10      0            0       0        0        0       0    0   \n",
       "response_11      0            0       0        0        0       0    0   \n",
       "\n",
       "             attention  aunt  avoid  away  bad  basically  bedroom  big  bit  \\\n",
       "response_id                                                                    \n",
       "response_1           0     0      1     0    0          0        0    0    0   \n",
       "response_10          0     0      0     0    0          0        0    0    0   \n",
       "response_11          0     0      0     1    0          0        0    1    0   \n",
       "\n",
       "             blow  blue  blunt  book  boyfriend  break  bring  brother  bunch  \\\n",
       "response_id                                                                     \n",
       "response_1      0     0      0     0          0      0      0        0      0   \n",
       "response_10     0     0      0     0          1      0      1        0      0   \n",
       "response_11     0     0      0     0          0      0      0        0      0   \n",
       "\n",
       "             call  calm  camp  campingsurfe  campsite  cancer  car  care  \\\n",
       "response_id                                                                \n",
       "response_1      0     0     0             0         0       0    0     0   \n",
       "response_10     0     0     0             0         0       0    0     0   \n",
       "response_11     0     0     0             1         0       0    1     0   \n",
       "\n",
       "             catch  category  ...  swallow  sway  swim  switch  take  talk  \\\n",
       "response_id                   ...                                            \n",
       "response_1       0         0  ...        0     0     0       0     0     0   \n",
       "response_10      0         0  ...        0     0     0       0     0     0   \n",
       "response_11      0         0  ...        0     0     0       0     1     0   \n",
       "\n",
       "             teacher  tell  thankgive  therapist  therapy  theripist  thing  \\\n",
       "response_id                                                                   \n",
       "response_1         0     0          0          0        0          0      0   \n",
       "response_10        0     0          0          0        0          0      0   \n",
       "response_11        0     0          0          0        0          0      0   \n",
       "\n",
       "             think  thought  throw  till  time  tough  trap  treat  treatment  \\\n",
       "response_id                                                                     \n",
       "response_1       0        0      0     0     0      0     0      0          0   \n",
       "response_10      0        0      1     0     0      0     0      0          0   \n",
       "response_11      0        0      0     0     0      0     0      0          0   \n",
       "\n",
       "             trouble  truth  try  tryin  tunnel  turmoil  tutor  twice  type  \\\n",
       "response_id                                                                    \n",
       "response_1         0      0    1      0       0        0      0      0     0   \n",
       "response_10        0      0    0      0       0        0      0      0     0   \n",
       "response_11        0      0    0      0       0        0      0      0     0   \n",
       "\n",
       "             understand  unfortunately  ve  vent  verge  virgity  visit  walk  \\\n",
       "response_id                                                                     \n",
       "response_1            0              0   0     0      0        0      0     0   \n",
       "response_10           0              0   0     0      0        1      0     1   \n",
       "response_11           0              0   0     0      1        0      0     0   \n",
       "\n",
       "             want  ward  way  weed  week  well  wood  work  write  year  \\\n",
       "response_id                                                               \n",
       "response_1      0     0    0     0     0     0     0     0      0     0   \n",
       "response_10     0     0    0     0     0     0     0     0      0     0   \n",
       "response_11     0     0    0     0     3     0     0     1      0     0   \n",
       "\n",
       "             yearbook  \n",
       "response_id            \n",
       "response_1          0  \n",
       "response_10         0  \n",
       "response_11         0  \n",
       "\n",
       "[3 rows x 400 columns]"
      ]
     },
     "execution_count": 71,
     "metadata": {},
     "output_type": "execute_result"
    }
   ],
   "source": [
    "# Creating Document Term Matrix\n",
    "\n",
    "cv=CountVectorizer(analyzer='word')\n",
    "chat_data=cv.fit_transform(data_grouped['lemmatized'])\n",
    "df_dtm = pd.DataFrame(chat_data.toarray(), columns=cv.get_feature_names())\n",
    "df_dtm.index=data_grouped.index\n",
    "df_dtm.head(3)"
   ]
  },
  {
   "cell_type": "code",
   "execution_count": 72,
   "id": "explicit-adaptation",
   "metadata": {},
   "outputs": [
    {
     "data": {
      "text/html": [
       "<div>\n",
       "<style scoped>\n",
       "    .dataframe tbody tr th:only-of-type {\n",
       "        vertical-align: middle;\n",
       "    }\n",
       "\n",
       "    .dataframe tbody tr th {\n",
       "        vertical-align: top;\n",
       "    }\n",
       "\n",
       "    .dataframe thead th {\n",
       "        text-align: right;\n",
       "    }\n",
       "</style>\n",
       "<table border=\"1\" class=\"dataframe\">\n",
       "  <thead>\n",
       "    <tr style=\"text-align: right;\">\n",
       "      <th></th>\n",
       "      <th>aa</th>\n",
       "      <th>aaalac</th>\n",
       "      <th>aabb</th>\n",
       "      <th>aac</th>\n",
       "      <th>aacn</th>\n",
       "      <th>aacr</th>\n",
       "      <th>aakeroõy</th>\n",
       "      <th>aanpcp</th>\n",
       "      <th>aaron</th>\n",
       "      <th>aas</th>\n",
       "      <th>ab</th>\n",
       "      <th>abbott</th>\n",
       "      <th>abd</th>\n",
       "      <th>abdoman</th>\n",
       "      <th>abdominal</th>\n",
       "      <th>abdul</th>\n",
       "      <th>aberdeen</th>\n",
       "      <th>abi</th>\n",
       "      <th>ability</th>\n",
       "      <th>abiotic</th>\n",
       "      <th>able</th>\n",
       "      <th>abnormal</th>\n",
       "      <th>aboard</th>\n",
       "      <th>abosalem</th>\n",
       "      <th>abraham</th>\n",
       "      <th>abreast</th>\n",
       "      <th>absence</th>\n",
       "      <th>absorbance</th>\n",
       "      <th>abstract</th>\n",
       "      <th>abualrub</th>\n",
       "      <th>abundance</th>\n",
       "      <th>abureehan</th>\n",
       "      <th>abuse</th>\n",
       "      <th>ac</th>\n",
       "      <th>academia</th>\n",
       "      <th>academic</th>\n",
       "      <th>academy</th>\n",
       "      <th>acadia</th>\n",
       "      <th>accelerate</th>\n",
       "      <th>accelerated</th>\n",
       "      <th>accept</th>\n",
       "      <th>acceptability</th>\n",
       "      <th>acceptable</th>\n",
       "      <th>acceptance</th>\n",
       "      <th>access</th>\n",
       "      <th>accessibility</th>\n",
       "      <th>accessible</th>\n",
       "      <th>accession</th>\n",
       "      <th>accident</th>\n",
       "      <th>accolateî</th>\n",
       "      <th>...</th>\n",
       "      <th>year</th>\n",
       "      <th>yearbook</th>\n",
       "      <th>yearly</th>\n",
       "      <th>yearround</th>\n",
       "      <th>yearsib</th>\n",
       "      <th>yeast</th>\n",
       "      <th>yeastbase</th>\n",
       "      <th>yeastbased</th>\n",
       "      <th>yellowrumpe</th>\n",
       "      <th>yes</th>\n",
       "      <th>yield</th>\n",
       "      <th>ymca</th>\n",
       "      <th>ynot</th>\n",
       "      <th>yolanda</th>\n",
       "      <th>yore</th>\n",
       "      <th>york</th>\n",
       "      <th>young</th>\n",
       "      <th>youngyoung</th>\n",
       "      <th>yousef</th>\n",
       "      <th>youth</th>\n",
       "      <th>yrs</th>\n",
       "      <th>yu</th>\n",
       "      <th>yuvaraja</th>\n",
       "      <th>zaruk</th>\n",
       "      <th>zebra</th>\n",
       "      <th>zeldin</th>\n",
       "      <th>zeng</th>\n",
       "      <th>zero</th>\n",
       "      <th>zhong</th>\n",
       "      <th>zilembo</th>\n",
       "      <th>zimecki</th>\n",
       "      <th>zip</th>\n",
       "      <th>zirconocene</th>\n",
       "      <th>zomig</th>\n",
       "      <th>zomigî</th>\n",
       "      <th>zone</th>\n",
       "      <th>zoonotic</th>\n",
       "      <th>zosia</th>\n",
       "      <th>zudaõ</th>\n",
       "      <th>zurima</th>\n",
       "      <th>zz</th>\n",
       "      <th>ãæ</th>\n",
       "      <th>ãæcomputer</th>\n",
       "      <th>ès</th>\n",
       "      <th>ètravel</th>\n",
       "      <th>îà</th>\n",
       "      <th>îâ</th>\n",
       "      <th>ôsynuclein</th>\n",
       "      <th>ôtorrent</th>\n",
       "      <th>ùµàëùä</th>\n",
       "    </tr>\n",
       "    <tr>\n",
       "      <th>resume_id</th>\n",
       "      <th></th>\n",
       "      <th></th>\n",
       "      <th></th>\n",
       "      <th></th>\n",
       "      <th></th>\n",
       "      <th></th>\n",
       "      <th></th>\n",
       "      <th></th>\n",
       "      <th></th>\n",
       "      <th></th>\n",
       "      <th></th>\n",
       "      <th></th>\n",
       "      <th></th>\n",
       "      <th></th>\n",
       "      <th></th>\n",
       "      <th></th>\n",
       "      <th></th>\n",
       "      <th></th>\n",
       "      <th></th>\n",
       "      <th></th>\n",
       "      <th></th>\n",
       "      <th></th>\n",
       "      <th></th>\n",
       "      <th></th>\n",
       "      <th></th>\n",
       "      <th></th>\n",
       "      <th></th>\n",
       "      <th></th>\n",
       "      <th></th>\n",
       "      <th></th>\n",
       "      <th></th>\n",
       "      <th></th>\n",
       "      <th></th>\n",
       "      <th></th>\n",
       "      <th></th>\n",
       "      <th></th>\n",
       "      <th></th>\n",
       "      <th></th>\n",
       "      <th></th>\n",
       "      <th></th>\n",
       "      <th></th>\n",
       "      <th></th>\n",
       "      <th></th>\n",
       "      <th></th>\n",
       "      <th></th>\n",
       "      <th></th>\n",
       "      <th></th>\n",
       "      <th></th>\n",
       "      <th></th>\n",
       "      <th></th>\n",
       "      <th></th>\n",
       "      <th></th>\n",
       "      <th></th>\n",
       "      <th></th>\n",
       "      <th></th>\n",
       "      <th></th>\n",
       "      <th></th>\n",
       "      <th></th>\n",
       "      <th></th>\n",
       "      <th></th>\n",
       "      <th></th>\n",
       "      <th></th>\n",
       "      <th></th>\n",
       "      <th></th>\n",
       "      <th></th>\n",
       "      <th></th>\n",
       "      <th></th>\n",
       "      <th></th>\n",
       "      <th></th>\n",
       "      <th></th>\n",
       "      <th></th>\n",
       "      <th></th>\n",
       "      <th></th>\n",
       "      <th></th>\n",
       "      <th></th>\n",
       "      <th></th>\n",
       "      <th></th>\n",
       "      <th></th>\n",
       "      <th></th>\n",
       "      <th></th>\n",
       "      <th></th>\n",
       "      <th></th>\n",
       "      <th></th>\n",
       "      <th></th>\n",
       "      <th></th>\n",
       "      <th></th>\n",
       "      <th></th>\n",
       "      <th></th>\n",
       "      <th></th>\n",
       "      <th></th>\n",
       "      <th></th>\n",
       "      <th></th>\n",
       "      <th></th>\n",
       "      <th></th>\n",
       "      <th></th>\n",
       "      <th></th>\n",
       "      <th></th>\n",
       "      <th></th>\n",
       "      <th></th>\n",
       "      <th></th>\n",
       "      <th></th>\n",
       "    </tr>\n",
       "  </thead>\n",
       "  <tbody>\n",
       "    <tr>\n",
       "      <th>resume_1</th>\n",
       "      <td>0</td>\n",
       "      <td>0</td>\n",
       "      <td>0</td>\n",
       "      <td>0</td>\n",
       "      <td>0</td>\n",
       "      <td>0</td>\n",
       "      <td>0</td>\n",
       "      <td>0</td>\n",
       "      <td>0</td>\n",
       "      <td>1</td>\n",
       "      <td>0</td>\n",
       "      <td>0</td>\n",
       "      <td>0</td>\n",
       "      <td>0</td>\n",
       "      <td>0</td>\n",
       "      <td>0</td>\n",
       "      <td>0</td>\n",
       "      <td>0</td>\n",
       "      <td>0</td>\n",
       "      <td>0</td>\n",
       "      <td>0</td>\n",
       "      <td>0</td>\n",
       "      <td>0</td>\n",
       "      <td>0</td>\n",
       "      <td>0</td>\n",
       "      <td>0</td>\n",
       "      <td>0</td>\n",
       "      <td>0</td>\n",
       "      <td>0</td>\n",
       "      <td>0</td>\n",
       "      <td>0</td>\n",
       "      <td>0</td>\n",
       "      <td>0</td>\n",
       "      <td>0</td>\n",
       "      <td>0</td>\n",
       "      <td>0</td>\n",
       "      <td>0</td>\n",
       "      <td>0</td>\n",
       "      <td>0</td>\n",
       "      <td>0</td>\n",
       "      <td>0</td>\n",
       "      <td>0</td>\n",
       "      <td>0</td>\n",
       "      <td>0</td>\n",
       "      <td>0</td>\n",
       "      <td>0</td>\n",
       "      <td>0</td>\n",
       "      <td>0</td>\n",
       "      <td>0</td>\n",
       "      <td>0</td>\n",
       "      <td>...</td>\n",
       "      <td>1</td>\n",
       "      <td>0</td>\n",
       "      <td>0</td>\n",
       "      <td>0</td>\n",
       "      <td>0</td>\n",
       "      <td>0</td>\n",
       "      <td>0</td>\n",
       "      <td>0</td>\n",
       "      <td>0</td>\n",
       "      <td>0</td>\n",
       "      <td>0</td>\n",
       "      <td>0</td>\n",
       "      <td>0</td>\n",
       "      <td>0</td>\n",
       "      <td>0</td>\n",
       "      <td>2</td>\n",
       "      <td>0</td>\n",
       "      <td>0</td>\n",
       "      <td>0</td>\n",
       "      <td>0</td>\n",
       "      <td>0</td>\n",
       "      <td>0</td>\n",
       "      <td>0</td>\n",
       "      <td>0</td>\n",
       "      <td>0</td>\n",
       "      <td>0</td>\n",
       "      <td>0</td>\n",
       "      <td>0</td>\n",
       "      <td>0</td>\n",
       "      <td>0</td>\n",
       "      <td>0</td>\n",
       "      <td>0</td>\n",
       "      <td>0</td>\n",
       "      <td>0</td>\n",
       "      <td>0</td>\n",
       "      <td>0</td>\n",
       "      <td>0</td>\n",
       "      <td>0</td>\n",
       "      <td>0</td>\n",
       "      <td>0</td>\n",
       "      <td>0</td>\n",
       "      <td>0</td>\n",
       "      <td>0</td>\n",
       "      <td>0</td>\n",
       "      <td>0</td>\n",
       "      <td>0</td>\n",
       "      <td>0</td>\n",
       "      <td>0</td>\n",
       "      <td>0</td>\n",
       "      <td>0</td>\n",
       "    </tr>\n",
       "    <tr>\n",
       "      <th>resume_10</th>\n",
       "      <td>0</td>\n",
       "      <td>0</td>\n",
       "      <td>0</td>\n",
       "      <td>0</td>\n",
       "      <td>0</td>\n",
       "      <td>0</td>\n",
       "      <td>0</td>\n",
       "      <td>0</td>\n",
       "      <td>0</td>\n",
       "      <td>1</td>\n",
       "      <td>0</td>\n",
       "      <td>0</td>\n",
       "      <td>0</td>\n",
       "      <td>0</td>\n",
       "      <td>0</td>\n",
       "      <td>0</td>\n",
       "      <td>0</td>\n",
       "      <td>0</td>\n",
       "      <td>0</td>\n",
       "      <td>0</td>\n",
       "      <td>0</td>\n",
       "      <td>0</td>\n",
       "      <td>0</td>\n",
       "      <td>0</td>\n",
       "      <td>0</td>\n",
       "      <td>0</td>\n",
       "      <td>0</td>\n",
       "      <td>0</td>\n",
       "      <td>0</td>\n",
       "      <td>0</td>\n",
       "      <td>0</td>\n",
       "      <td>0</td>\n",
       "      <td>0</td>\n",
       "      <td>0</td>\n",
       "      <td>0</td>\n",
       "      <td>1</td>\n",
       "      <td>0</td>\n",
       "      <td>0</td>\n",
       "      <td>0</td>\n",
       "      <td>0</td>\n",
       "      <td>0</td>\n",
       "      <td>0</td>\n",
       "      <td>0</td>\n",
       "      <td>0</td>\n",
       "      <td>0</td>\n",
       "      <td>0</td>\n",
       "      <td>0</td>\n",
       "      <td>0</td>\n",
       "      <td>0</td>\n",
       "      <td>0</td>\n",
       "      <td>...</td>\n",
       "      <td>2</td>\n",
       "      <td>0</td>\n",
       "      <td>0</td>\n",
       "      <td>0</td>\n",
       "      <td>0</td>\n",
       "      <td>0</td>\n",
       "      <td>0</td>\n",
       "      <td>0</td>\n",
       "      <td>0</td>\n",
       "      <td>0</td>\n",
       "      <td>0</td>\n",
       "      <td>0</td>\n",
       "      <td>0</td>\n",
       "      <td>0</td>\n",
       "      <td>0</td>\n",
       "      <td>6</td>\n",
       "      <td>0</td>\n",
       "      <td>0</td>\n",
       "      <td>0</td>\n",
       "      <td>0</td>\n",
       "      <td>0</td>\n",
       "      <td>0</td>\n",
       "      <td>0</td>\n",
       "      <td>0</td>\n",
       "      <td>0</td>\n",
       "      <td>0</td>\n",
       "      <td>0</td>\n",
       "      <td>0</td>\n",
       "      <td>0</td>\n",
       "      <td>0</td>\n",
       "      <td>0</td>\n",
       "      <td>0</td>\n",
       "      <td>0</td>\n",
       "      <td>0</td>\n",
       "      <td>0</td>\n",
       "      <td>0</td>\n",
       "      <td>0</td>\n",
       "      <td>0</td>\n",
       "      <td>0</td>\n",
       "      <td>0</td>\n",
       "      <td>0</td>\n",
       "      <td>0</td>\n",
       "      <td>0</td>\n",
       "      <td>0</td>\n",
       "      <td>0</td>\n",
       "      <td>0</td>\n",
       "      <td>0</td>\n",
       "      <td>0</td>\n",
       "      <td>0</td>\n",
       "      <td>0</td>\n",
       "    </tr>\n",
       "    <tr>\n",
       "      <th>resume_100</th>\n",
       "      <td>0</td>\n",
       "      <td>0</td>\n",
       "      <td>0</td>\n",
       "      <td>0</td>\n",
       "      <td>0</td>\n",
       "      <td>0</td>\n",
       "      <td>0</td>\n",
       "      <td>0</td>\n",
       "      <td>0</td>\n",
       "      <td>0</td>\n",
       "      <td>0</td>\n",
       "      <td>8</td>\n",
       "      <td>0</td>\n",
       "      <td>0</td>\n",
       "      <td>0</td>\n",
       "      <td>0</td>\n",
       "      <td>0</td>\n",
       "      <td>0</td>\n",
       "      <td>0</td>\n",
       "      <td>0</td>\n",
       "      <td>1</td>\n",
       "      <td>0</td>\n",
       "      <td>0</td>\n",
       "      <td>0</td>\n",
       "      <td>0</td>\n",
       "      <td>0</td>\n",
       "      <td>0</td>\n",
       "      <td>0</td>\n",
       "      <td>0</td>\n",
       "      <td>0</td>\n",
       "      <td>0</td>\n",
       "      <td>0</td>\n",
       "      <td>0</td>\n",
       "      <td>0</td>\n",
       "      <td>0</td>\n",
       "      <td>0</td>\n",
       "      <td>0</td>\n",
       "      <td>0</td>\n",
       "      <td>0</td>\n",
       "      <td>0</td>\n",
       "      <td>0</td>\n",
       "      <td>0</td>\n",
       "      <td>0</td>\n",
       "      <td>0</td>\n",
       "      <td>0</td>\n",
       "      <td>0</td>\n",
       "      <td>0</td>\n",
       "      <td>0</td>\n",
       "      <td>0</td>\n",
       "      <td>0</td>\n",
       "      <td>...</td>\n",
       "      <td>0</td>\n",
       "      <td>0</td>\n",
       "      <td>0</td>\n",
       "      <td>0</td>\n",
       "      <td>0</td>\n",
       "      <td>0</td>\n",
       "      <td>0</td>\n",
       "      <td>0</td>\n",
       "      <td>0</td>\n",
       "      <td>0</td>\n",
       "      <td>0</td>\n",
       "      <td>0</td>\n",
       "      <td>0</td>\n",
       "      <td>0</td>\n",
       "      <td>0</td>\n",
       "      <td>0</td>\n",
       "      <td>0</td>\n",
       "      <td>0</td>\n",
       "      <td>0</td>\n",
       "      <td>0</td>\n",
       "      <td>0</td>\n",
       "      <td>0</td>\n",
       "      <td>0</td>\n",
       "      <td>0</td>\n",
       "      <td>0</td>\n",
       "      <td>0</td>\n",
       "      <td>0</td>\n",
       "      <td>0</td>\n",
       "      <td>0</td>\n",
       "      <td>0</td>\n",
       "      <td>0</td>\n",
       "      <td>0</td>\n",
       "      <td>0</td>\n",
       "      <td>0</td>\n",
       "      <td>0</td>\n",
       "      <td>0</td>\n",
       "      <td>0</td>\n",
       "      <td>0</td>\n",
       "      <td>0</td>\n",
       "      <td>0</td>\n",
       "      <td>0</td>\n",
       "      <td>0</td>\n",
       "      <td>0</td>\n",
       "      <td>0</td>\n",
       "      <td>0</td>\n",
       "      <td>0</td>\n",
       "      <td>0</td>\n",
       "      <td>0</td>\n",
       "      <td>0</td>\n",
       "      <td>0</td>\n",
       "    </tr>\n",
       "  </tbody>\n",
       "</table>\n",
       "<p>3 rows × 9376 columns</p>\n",
       "</div>"
      ],
      "text/plain": [
       "            aa  aaalac  aabb  aac  aacn  aacr  aakeroõy  aanpcp  aaron  aas  \\\n",
       "resume_id                                                                     \n",
       "resume_1     0       0     0    0     0     0         0       0      0    1   \n",
       "resume_10    0       0     0    0     0     0         0       0      0    1   \n",
       "resume_100   0       0     0    0     0     0         0       0      0    0   \n",
       "\n",
       "            ab  abbott  abd  abdoman  abdominal  abdul  aberdeen  abi  \\\n",
       "resume_id                                                               \n",
       "resume_1     0       0    0        0          0      0         0    0   \n",
       "resume_10    0       0    0        0          0      0         0    0   \n",
       "resume_100   0       8    0        0          0      0         0    0   \n",
       "\n",
       "            ability  abiotic  able  abnormal  aboard  abosalem  abraham  \\\n",
       "resume_id                                                                 \n",
       "resume_1          0        0     0         0       0         0        0   \n",
       "resume_10         0        0     0         0       0         0        0   \n",
       "resume_100        0        0     1         0       0         0        0   \n",
       "\n",
       "            abreast  absence  absorbance  abstract  abualrub  abundance  \\\n",
       "resume_id                                                                 \n",
       "resume_1          0        0           0         0         0          0   \n",
       "resume_10         0        0           0         0         0          0   \n",
       "resume_100        0        0           0         0         0          0   \n",
       "\n",
       "            abureehan  abuse  ac  academia  academic  academy  acadia  \\\n",
       "resume_id                                                               \n",
       "resume_1            0      0   0         0         0        0       0   \n",
       "resume_10           0      0   0         0         1        0       0   \n",
       "resume_100          0      0   0         0         0        0       0   \n",
       "\n",
       "            accelerate  accelerated  accept  acceptability  acceptable  \\\n",
       "resume_id                                                                \n",
       "resume_1             0            0       0              0           0   \n",
       "resume_10            0            0       0              0           0   \n",
       "resume_100           0            0       0              0           0   \n",
       "\n",
       "            acceptance  access  accessibility  accessible  accession  \\\n",
       "resume_id                                                              \n",
       "resume_1             0       0              0           0          0   \n",
       "resume_10            0       0              0           0          0   \n",
       "resume_100           0       0              0           0          0   \n",
       "\n",
       "            accident  accolateî  ...  year  yearbook  yearly  yearround  \\\n",
       "resume_id                        ...                                      \n",
       "resume_1           0          0  ...     1         0       0          0   \n",
       "resume_10          0          0  ...     2         0       0          0   \n",
       "resume_100         0          0  ...     0         0       0          0   \n",
       "\n",
       "            yearsib  yeast  yeastbase  yeastbased  yellowrumpe  yes  yield  \\\n",
       "resume_id                                                                    \n",
       "resume_1          0      0          0           0            0    0      0   \n",
       "resume_10         0      0          0           0            0    0      0   \n",
       "resume_100        0      0          0           0            0    0      0   \n",
       "\n",
       "            ymca  ynot  yolanda  yore  york  young  youngyoung  yousef  youth  \\\n",
       "resume_id                                                                       \n",
       "resume_1       0     0        0     0     2      0           0       0      0   \n",
       "resume_10      0     0        0     0     6      0           0       0      0   \n",
       "resume_100     0     0        0     0     0      0           0       0      0   \n",
       "\n",
       "            yrs  yu  yuvaraja  zaruk  zebra  zeldin  zeng  zero  zhong  \\\n",
       "resume_id                                                                \n",
       "resume_1      0   0         0      0      0       0     0     0      0   \n",
       "resume_10     0   0         0      0      0       0     0     0      0   \n",
       "resume_100    0   0         0      0      0       0     0     0      0   \n",
       "\n",
       "            zilembo  zimecki  zip  zirconocene  zomig  zomigî  zone  zoonotic  \\\n",
       "resume_id                                                                       \n",
       "resume_1          0        0    0            0      0       0     0         0   \n",
       "resume_10         0        0    0            0      0       0     0         0   \n",
       "resume_100        0        0    0            0      0       0     0         0   \n",
       "\n",
       "            zosia  zudaõ  zurima  zz  ãæ  ãæcomputer  ès  ètravel  îà  îâ  \\\n",
       "resume_id                                                                   \n",
       "resume_1        0      0       0   0   0           0   0        0   0   0   \n",
       "resume_10       0      0       0   0   0           0   0        0   0   0   \n",
       "resume_100      0      0       0   0   0           0   0        0   0   0   \n",
       "\n",
       "            ôsynuclein  ôtorrent  ùµàëùä  \n",
       "resume_id                                 \n",
       "resume_1             0         0       0  \n",
       "resume_10            0         0       0  \n",
       "resume_100           0         0       0  \n",
       "\n",
       "[3 rows x 9376 columns]"
      ]
     },
     "execution_count": 72,
     "metadata": {},
     "output_type": "execute_result"
    }
   ],
   "source": [
    "cv=CountVectorizer(analyzer='word')\n",
    "resume_data=cv.fit_transform(data2_grouped['lemmatized'])\n",
    "df_dtm = pd.DataFrame(resume_data.toarray(), columns=cv.get_feature_names())\n",
    "df_dtm.index=data2_grouped.index\n",
    "df_dtm.head(3)"
   ]
  },
  {
   "cell_type": "code",
   "execution_count": 73,
   "id": "round-smile",
   "metadata": {},
   "outputs": [],
   "source": [
    "from textblob import TextBlob\n",
    "data['polarity']=data['lemmatized'].apply(lambda x:TextBlob(x).sentiment.polarity)"
   ]
  },
  {
   "cell_type": "code",
   "execution_count": 74,
   "id": "heard-million",
   "metadata": {},
   "outputs": [],
   "source": [
    "data2['polarity']=data2['lemmatized'].apply(lambda x:TextBlob(x).sentiment.polarity)"
   ]
  },
  {
   "cell_type": "code",
   "execution_count": 75,
   "id": "treated-keyboard",
   "metadata": {},
   "outputs": [
    {
     "name": "stdout",
     "output_type": "stream",
     "text": [
      "3 Random Responses with Highest Polarity:\n",
      "Response 1:\n",
      " One of my best friends was diagnosed with cancer and I did as much as I could for him during that time. I visited him almost every day when he was in treatment just so he did not have to be alone or anything. When he came back to school I helped him get caught up with school work too.\n",
      "Response 2:\n",
      " Some of my friends have gone through the same type of struggle I have been through. I let them know that they could talk to me about anything and that being honest with yourself even if the truth hurts is the best way to start to get back up.\n",
      "Response 3:\n",
      " My brother went through the same struggles I did, after i found help I was able to set him on the path to healing.\n"
     ]
    }
   ],
   "source": [
    "print(\"3 Random Responses with Highest Polarity:\")\n",
    "for index,review in enumerate(data.iloc[data['polarity'].sort_values(ascending=False)[:3].index]['response_text']):\n",
    "    print('Response {}:\\n'.format(index+1),review)"
   ]
  },
  {
   "cell_type": "code",
   "execution_count": 76,
   "id": "pointed-headline",
   "metadata": {},
   "outputs": [
    {
     "name": "stdout",
     "output_type": "stream",
     "text": [
      "3 Random Responses with Highest Polarity:\n",
      "Resume 1:\n",
      "Data Analysis Programming - SAS (http://www.sas.com/) SQL SPSS Technical Writing software customer support and education HTML MS EXCELith the best way to do their analysis.rganization.\n",
      "Resume 2:\n",
      "¢ Proficient in Matlab/Simulink (10+ year of experience) ¢ Familiar with Java Python R SQL C/C++ Perlionaking modelsforcement data modeling simulation and visualization challenges.\n",
      "Resume 3:\n",
      "East Setauket NYculture (3 years)tion -y 2017 to Presentductioners etc.2012 to August 2012cessed data and made that data into usable graphs and video taped interviews of teachers attending the news literacy workshop. I was also required to sort through and count papers. While helping with a four day teacher workshop I learned important elements of news and media literacy.\n"
     ]
    }
   ],
   "source": [
    "print(\"3 Random Responses with Highest Polarity:\")\n",
    "for index,review in enumerate(data2.iloc[data2['polarity'].sort_values(ascending=False)[:3].index]['resume_text']):\n",
    "    print('Resume {}:\\n'.format(index+1),review)"
   ]
  },
  {
   "cell_type": "markdown",
   "id": "neutral-index",
   "metadata": {},
   "source": [
    "## Summary<a id='_Summary'></a>"
   ]
  },
  {
   "cell_type": "markdown",
   "id": "joined-samoa",
   "metadata": {},
   "source": [
    "These datasets did not contain any missing values so not much cleaning was required. Word frequency, sentence length, and average word length were visualized for both datasets using histograms. The top words in both sets were visualized, as well as the top 5-word phrases. CountVectorizer was used to determine how many unique words were present. The vectorizer was also used to determine the top 50 words in both chatbot responses and resumes. Spacy was used to repeat the removal of stopwords and lemmatization with the intent of building document term matrices and conducting sentiment analysis."
   ]
  }
 ],
 "metadata": {
  "kernelspec": {
   "display_name": "Python 3",
   "language": "python",
   "name": "python3"
  },
  "language_info": {
   "codemirror_mode": {
    "name": "ipython",
    "version": 3
   },
   "file_extension": ".py",
   "mimetype": "text/x-python",
   "name": "python",
   "nbconvert_exporter": "python",
   "pygments_lexer": "ipython3",
   "version": "3.8.3"
  }
 },
 "nbformat": 4,
 "nbformat_minor": 5
}
